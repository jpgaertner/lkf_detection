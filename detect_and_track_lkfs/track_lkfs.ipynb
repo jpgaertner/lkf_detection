{
 "cells": [
  {
   "cell_type": "code",
   "execution_count": 1,
   "id": "d1dfedce-da01-491a-b8ae-7fac02bacec8",
   "metadata": {
    "tags": []
   },
   "outputs": [],
   "source": [
    "%load_ext autoreload\n",
    "%autoreload 2\n",
    "import numpy as np\n",
    "import sys\n",
    "sys.path.insert(1, '/p/project/chhb19/gaertner2/lkf_tools/lkf_tools/')\n",
    "from dataset import *\n",
    "import warnings\n",
    "warnings.filterwarnings('ignore')"
   ]
  },
  {
   "cell_type": "code",
   "execution_count": 2,
   "id": "f1ef4ecf-1e38-41c7-9e55-7fdcf26e8f30",
   "metadata": {
    "tags": []
   },
   "outputs": [],
   "source": [
    "path_ds = '/p/project/chhb19/gaertner2/data/awicm_cvmix/datasets/'"
   ]
  },
  {
   "cell_type": "code",
   "execution_count": 5,
   "id": "995c1a17-7d30-42f7-a8d4-49572433d2dd",
   "metadata": {
    "tags": []
   },
   "outputs": [],
   "source": [
    "years = [2013, 2017, 2020, 2093, 2097, 2100]"
   ]
  },
  {
   "cell_type": "code",
   "execution_count": 7,
   "id": "ec10809c-7326-413c-afcc-72c698887127",
   "metadata": {
    "tags": []
   },
   "outputs": [],
   "source": [
    "for year in years:\n",
    "    lkf_data = np.load(path_ds + f'ds_{year}.npy', allow_pickle=True)[0]\n",
    "\n",
    "    lkf_data.track_lkfs(indexes=[363,364])\n",
    "\n",
    "    np.save(path_ds + f'ds_{year}.npy', [lkf_data], allow_pickle=True)"
   ]
  },
  {
   "cell_type": "code",
   "execution_count": null,
   "id": "e2dcd5ff-a712-428c-a06a-014d0dc40d70",
   "metadata": {},
   "outputs": [],
   "source": []
  }
 ],
 "metadata": {
  "kernelspec": {
   "display_name": "gaertner2_lkf_tools",
   "language": "python",
   "name": "gaertner2_lkf_tools"
  },
  "language_info": {
   "codemirror_mode": {
    "name": "ipython",
    "version": 3
   },
   "file_extension": ".py",
   "mimetype": "text/x-python",
   "name": "python",
   "nbconvert_exporter": "python",
   "pygments_lexer": "ipython3",
   "version": "3.10.4"
  }
 },
 "nbformat": 4,
 "nbformat_minor": 5
}
