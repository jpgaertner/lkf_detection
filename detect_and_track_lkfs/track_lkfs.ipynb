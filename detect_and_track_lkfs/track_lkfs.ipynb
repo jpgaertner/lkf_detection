{
 "cells": [
  {
   "cell_type": "code",
   "execution_count": 1,
   "id": "d1dfedce-da01-491a-b8ae-7fac02bacec8",
   "metadata": {
    "tags": []
   },
   "outputs": [],
   "source": [
    "%load_ext autoreload\n",
    "%autoreload 2\n",
    "import numpy as np\n",
    "import sys\n",
    "sys.path.insert(1, '../../lkf_tools/lkf_tools/')\n",
    "from dataset import *\n",
    "import warnings\n",
    "warnings.filterwarnings('ignore')"
   ]
  },
  {
   "cell_type": "code",
   "execution_count": 2,
   "id": "f1ef4ecf-1e38-41c7-9e55-7fdcf26e8f30",
   "metadata": {
    "tags": []
   },
   "outputs": [],
   "source": [
    "res = '4km'\n",
    "\n",
    "path = '/work/bk1377/a270230/'\n",
    "path_ds = path + 'datasets/'"
   ]
  },
  {
   "cell_type": "code",
   "execution_count": 5,
   "id": "995c1a17-7d30-42f7-a8d4-49572433d2dd",
   "metadata": {
    "tags": []
   },
   "outputs": [],
   "source": [
    "year = 2013"
   ]
  },
  {
   "cell_type": "code",
   "execution_count": 7,
   "id": "ec10809c-7326-413c-afcc-72c698887127",
   "metadata": {
    "tags": []
   },
   "outputs": [],
   "source": [
    "lkf_data = np.load(path_ds + f'ds_{year}_{res}.npy', allow_pickle=True)[0]\n",
    "\n",
    "lkf_data.track_lkfs(indexes=[363,364])\n",
    "\n",
    "np.save(path_ds + f'ds_{year}_{res}', [lkf_data])"
   ]
  }
 ],
 "metadata": {
  "kernelspec": {
   "display_name": "1 Python 3 (based on the module python3/2023.01)",
   "language": "python",
   "name": "python3_2023_01"
  },
  "language_info": {
   "codemirror_mode": {
    "name": "ipython",
    "version": 3
   },
   "file_extension": ".py",
   "mimetype": "text/x-python",
   "name": "python",
   "nbconvert_exporter": "python",
   "pygments_lexer": "ipython3",
   "version": "3.10.10"
  }
 },
 "nbformat": 4,
 "nbformat_minor": 5
}
