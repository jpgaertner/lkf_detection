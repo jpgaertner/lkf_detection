{
 "cells": [
  {
   "cell_type": "code",
   "execution_count": 1,
   "id": "90ffebdb-2ad2-43e6-a3ba-ad256f765294",
   "metadata": {
    "tags": []
   },
   "outputs": [],
   "source": [
    "%load_ext autoreload\n",
    "%autoreload 2\n",
    "import numpy as np\n",
    "import sys\n",
    "sys.path.insert(1, '/home/a/a270230/LKF/lkf_tools/lkf_tools/')\n",
    "from dataset import *\n",
    "import warnings\n",
    "warnings.filterwarnings('ignore')"
   ]
  },
  {
   "cell_type": "code",
   "execution_count": 2,
   "id": "5e87238e-cbc2-4d4a-917c-907888b80085",
   "metadata": {
    "tags": []
   },
   "outputs": [],
   "source": [
    "path = '/work/bk1377/a270230/'\n",
    "path_nc   = path + 'interpolated_fesom_output/4km/'\n",
    "path_lkfs = path + 'dump/'\n",
    "path_ds   = path + 'datasets/'"
   ]
  },
  {
   "cell_type": "code",
   "execution_count": 3,
   "id": "982b6668-390d-4cbe-8e45-125a9e7621d1",
   "metadata": {
    "tags": []
   },
   "outputs": [],
   "source": [
    "years = [2099]\n",
    "days = np.arange(0,350,50)"
   ]
  },
  {
   "cell_type": "code",
   "execution_count": 4,
   "id": "80697363-eaa3-4831-a2af-b4f1d5dff9fd",
   "metadata": {
    "tags": []
   },
   "outputs": [
    {
     "name": "stdout",
     "output_type": "stream",
     "text": [
      "Warning: DXU and DYU are missing in netcdf file!\n",
      "  -->  Compute dxu and dyu from lon,lat using SSMI projection\n",
      "Compute deformation rates and detect features for day 1\n"
     ]
    },
    {
     "name": "stderr",
     "output_type": "stream",
     "text": [
      "WARNING:jax._src.lib.xla_bridge:No GPU/TPU found, falling back to CPU. (Set TF_CPP_MIN_LOG_LEVEL=0 and rerun for more info.)\n"
     ]
    },
    {
     "name": "stdout",
     "output_type": "stream",
     "text": [
      "Start detection routines\n",
      "Warning: DXU and DYU are missing in netcdf file!\n",
      "  -->  Compute dxu and dyu from lon,lat using SSMI projection\n",
      "Compute deformation rates and detect features for day 51\n",
      "Start detection routines\n",
      "Warning: DXU and DYU are missing in netcdf file!\n",
      "  -->  Compute dxu and dyu from lon,lat using SSMI projection\n",
      "Compute deformation rates and detect features for day 101\n",
      "Start detection routines\n",
      "Warning: DXU and DYU are missing in netcdf file!\n",
      "  -->  Compute dxu and dyu from lon,lat using SSMI projection\n",
      "Compute deformation rates and detect features for day 151\n",
      "Start detection routines\n",
      "Warning: DXU and DYU are missing in netcdf file!\n",
      "  -->  Compute dxu and dyu from lon,lat using SSMI projection\n",
      "Compute deformation rates and detect features for day 201\n",
      "Start detection routines\n",
      "Warning: DXU and DYU are missing in netcdf file!\n",
      "  -->  Compute dxu and dyu from lon,lat using SSMI projection\n",
      "Compute deformation rates and detect features for day 251\n",
      "Start detection routines\n",
      "Warning: DXU and DYU are missing in netcdf file!\n",
      "  -->  Compute dxu and dyu from lon,lat using SSMI projection\n",
      "Compute deformation rates and detect features for day 301\n",
      "Start detection routines\n",
      "CPU times: user 4min 26s, sys: 6min 32s, total: 10min 58s\n",
      "Wall time: 11min 3s\n"
     ]
    }
   ],
   "source": [
    "%%time\n",
    "lkfs = []\n",
    "for year in years:\n",
    "    for day in days:\n",
    "\n",
    "        lkf_data = process_dataset(netcdf_file = path_nc + f'{year}_4km.nc',\n",
    "                                   output_path = path_lkfs,\n",
    "                                   dog_thres = 0.01,\n",
    "                                   t_red = 1)\n",
    "\n",
    "        lkf_data.detect_lkfs(indexes=[day])\n",
    "\n",
    "        lkfs += np.load(lkf_data.lkfpath.joinpath('lkf_%s_%03i.npy' %(lkf_data.netcdf_file.split('/')[-1].split('.')[0],(day+1))),allow_pickle=True),\n",
    "\n",
    "\n",
    "        #np.save(path_ds + f'ds_{year}_km', [lkf_data])"
   ]
  },
  {
   "cell_type": "code",
   "execution_count": 7,
   "id": "8edd9f0b",
   "metadata": {},
   "outputs": [],
   "source": [
    "# for one year:\n",
    "# 12:22 mins for optimize2\n",
    "# 10:43 mins for jax2\n",
    "# 13:40 min for package\n",
    "\n",
    "# 2099\n",
    "# 13:09 package\n",
    "# 11:03 jax2"
   ]
  },
  {
   "cell_type": "code",
   "execution_count": 5,
   "id": "c414b9cd",
   "metadata": {},
   "outputs": [],
   "source": [
    "np.save('lfks_jax2_2099y', lkfs)"
   ]
  },
  {
   "cell_type": "code",
   "execution_count": 7,
   "id": "963ed6c2",
   "metadata": {},
   "outputs": [],
   "source": [
    "jax2 = np.load('lfks_jax2.npy', allow_pickle=True)\n",
    "jax299 = np.load('lfks_jax2_2099y.npy', allow_pickle=True)\n",
    "opt2 = np.load('lfks_optimize2_1y.npy', allow_pickle=True)\n",
    "pck = np.load('lfks_package_1y.npy', allow_pickle=True)\n",
    "pck2 = np.load('lfks_package_2099y.npy', allow_pickle=True)"
   ]
  },
  {
   "cell_type": "code",
   "execution_count": 8,
   "id": "704cabe4",
   "metadata": {},
   "outputs": [],
   "source": [
    "n,m = [], []\n",
    "for timen, timem in zip(pck2, jax299):\n",
    "    n += len(timen),\n",
    "    m += len(timem),"
   ]
  },
  {
   "cell_type": "code",
   "execution_count": 11,
   "id": "07c93a77",
   "metadata": {},
   "outputs": [
    {
     "data": {
      "text/plain": [
       "[<matplotlib.lines.Line2D at 0x7fff2c2512d0>]"
      ]
     },
     "execution_count": 11,
     "metadata": {},
     "output_type": "execute_result"
    },
    {
     "data": {
      "image/png": "[encoded data removed]",
      "text/plain": [
       "<Figure size 640x480 with 1 Axes>"
      ]
     },
     "metadata": {},
     "output_type": "display_data"
    }
   ],
   "source": [
    "plt.plot(n)\n",
    "plt.plot(m)"
   ]
  },
  {
   "cell_type": "code",
   "execution_count": 22,
   "id": "46bc8599",
   "metadata": {},
   "outputs": [],
   "source": [
    "#optimize2 does not work for no lkfs detected (like day 250 in 2099)\n",
    "# jax2 same result as package in 2013 and 2099 but 20% faster"
   ]
  },
  {
   "cell_type": "code",
   "execution_count": 12,
   "id": "b46e3c2f",
   "metadata": {},
   "outputs": [],
   "source": [
    "# package works in 2099 i.e. also when no lkfs are detected!!!"
   ]
  },
  {
   "cell_type": "code",
   "execution_count": null,
   "id": "79a0d121",
   "metadata": {},
   "outputs": [],
   "source": []
  }
 ],
 "metadata": {
  "kernelspec": {
   "display_name": "0 Python 3 (based on the module python3/unstable",
   "language": "python",
   "name": "python3_unstable"
  },
  "language_info": {
   "codemirror_mode": {
    "name": "ipython",
    "version": 3
   },
   "file_extension": ".py",
   "mimetype": "text/x-python",
   "name": "python",
   "nbconvert_exporter": "python",
   "pygments_lexer": "ipython3",
   "version": "3.10.10"
  }
 },
 "nbformat": 4,
 "nbformat_minor": 5
}
