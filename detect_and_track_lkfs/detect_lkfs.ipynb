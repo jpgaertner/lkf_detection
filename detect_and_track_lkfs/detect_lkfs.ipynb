{
 "cells": [
  {
   "cell_type": "code",
   "execution_count": 16,
   "id": "90ffebdb-2ad2-43e6-a3ba-ad256f765294",
   "metadata": {
    "tags": []
   },
   "outputs": [
    {
     "name": "stdout",
     "output_type": "stream",
     "text": [
      "The autoreload extension is already loaded. To reload it, use:\n",
      "  %reload_ext autoreload\n"
     ]
    }
   ],
   "source": [
    "%load_ext autoreload\n",
    "%autoreload 2\n",
    "import numpy as np\n",
    "import sys\n",
    "sys.path.insert(1, '/p/project/chhb19/gaertner2/lkf_tools/lkf_tools/')\n",
    "from dataset import *\n",
    "import warnings\n",
    "warnings.filterwarnings('ignore')"
   ]
  },
  {
   "cell_type": "code",
   "execution_count": 17,
   "id": "5e87238e-cbc2-4d4a-917c-907888b80085",
   "metadata": {
    "tags": []
   },
   "outputs": [],
   "source": [
    "path = '/p/project/chhb19/gaertner2/data/awicm_cvmix/'\n",
    "path_ds = path + 'datasets/'\n",
    "path_lkfs = path + 'lkfs/'\n",
    "path_nc = '/p/scratch/chhb19/gaertner2/interpolated_fesom_output/1km/'"
   ]
  },
  {
   "cell_type": "code",
   "execution_count": 18,
   "id": "982b6668-390d-4cbe-8e45-125a9e7621d1",
   "metadata": {
    "tags": []
   },
   "outputs": [],
   "source": [
    "years = [2013, 2014]"
   ]
  },
  {
   "cell_type": "code",
   "execution_count": 10,
   "id": "80697363-eaa3-4831-a2af-b4f1d5dff9fd",
   "metadata": {
    "tags": []
   },
   "outputs": [
    {
     "name": "stdout",
     "output_type": "stream",
     "text": [
      "Warning: DXU and DYU are missing in netcdf file!\n",
      "  -->  Compute dxu and dyu from lon,lat using SSMI projection\n",
      "Compute deformation rates and detect features for day 1\n",
      "Start detection routines\n"
     ]
    }
   ],
   "source": [
    "for year in years:\n",
    "    lkf_data = process_dataset(netcdf_file = path_nc + f'1km_{year}.nc',\n",
    "                               output_path = path_lkfs,\n",
    "                               dog_thres = 0.01,\n",
    "                               t_red = 1)\n",
    "\n",
    "    lkf_data.detect_lkfs(indexes=np.arange(365), use_eps=True)\n",
    "\n",
    "\n",
    "    np.save(path_ds + f'ds_{year}', [lkf_data])"
   ]
  },
  {
   "cell_type": "code",
   "execution_count": null,
   "id": "49728e7c-e161-46fd-b823-2d7b7f42eb99",
   "metadata": {},
   "outputs": [],
   "source": []
  }
 ],
 "metadata": {
  "kernelspec": {
   "display_name": "gaertner2_lkf_tools",
   "language": "python",
   "name": "gaertner2_lkf_tools"
  },
  "language_info": {
   "codemirror_mode": {
    "name": "ipython",
    "version": 3
   },
   "file_extension": ".py",
   "mimetype": "text/x-python",
   "name": "python",
   "nbconvert_exporter": "python",
   "pygments_lexer": "ipython3",
   "version": "3.10.4"
  }
 },
 "nbformat": 4,
 "nbformat_minor": 5
}
