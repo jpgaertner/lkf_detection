{
 "cells": [
  {
   "cell_type": "code",
   "execution_count": 1,
   "id": "80b8aa8d-3b49-4bad-833d-7244ca6ff94c",
   "metadata": {
    "tags": []
   },
   "outputs": [],
   "source": [
    "import numpy as np\n",
    "import sys\n",
    "sys.path.insert(1, '/p/project/chhb19/gaertner2/lkf_tools/lkf_tools/')\n",
    "from dataset import *\n",
    "import warnings\n",
    "warnings.filterwarnings('ignore')"
   ]
  },
  {
   "cell_type": "code",
   "execution_count": 2,
   "id": "a550f279-f1f9-45ae-b3da-b9365372c684",
   "metadata": {
    "tags": []
   },
   "outputs": [],
   "source": [
    "path = '/p/project/chhb19/gaertner2/data/awicm_cvmix/'\n",
    "path_lkfs = path + 'lkfs/'\n",
    "path_ds = path + 'datasets/'\n",
    "\n",
    "path_nc = '/p/scratch/chhb19/gaertner2/interpolated_fesom_output/1km/'"
   ]
  },
  {
   "cell_type": "markdown",
   "id": "c1b230cd-4e39-45db-9871-69ebb428fc4d",
   "metadata": {
    "tags": []
   },
   "source": [
    "## Check Dataset"
   ]
  },
  {
   "cell_type": "code",
   "execution_count": 3,
   "id": "97f0ed44-0020-4651-8263-813f42f92050",
   "metadata": {},
   "outputs": [],
   "source": [
    "years = [2013, 2015, 2017, 2019, 2020,\n",
    "         2093, 2094, 2095, 2096, 2097, 2100]"
   ]
  },
  {
   "cell_type": "code",
   "execution_count": 4,
   "id": "8a0e4bc9-a08e-4bac-8d7d-8d057e017f79",
   "metadata": {
    "tags": []
   },
   "outputs": [],
   "source": [
    "# if the lkfs are detected via batch, the saving to npy file of the dataset\n",
    "# does not work. the detection is redone here for the first day with the\n",
    "# detection indices then being set to the full detection period.\n",
    "# afterwards the lkf_data objects can be loaded from the dataset files\n",
    "\n",
    "for year in years:\n",
    "    try:\n",
    "        lkf_data = np.load(path_ds + f'ds_{year}.npy', allow_pickle=True)[0]\n",
    "    except:\n",
    "        lkf_data = process_dataset(netcdf_file = path_nc + f'1km_{year}.nc',\n",
    "                               output_path = path + 'lkfs/',\n",
    "                               dog_thres = 0.01,\n",
    "                               t_red = 1)\n",
    "\n",
    "        lkf_data.detect_lkfs(indexes=[0], use_eps=True)\n",
    "        lkf_data.indexes = np.arange(365)\n",
    "\n",
    "        np.save(path + f'datasets/ds_{year}.npy', [lkf_data])"
   ]
  },
  {
   "cell_type": "code",
   "execution_count": 5,
   "id": "4c0dec05-4ea5-40c1-a6cc-2c8bc0523bb2",
   "metadata": {
    "tags": []
   },
   "outputs": [
    {
     "name": "stdout",
     "output_type": "stream",
     "text": [
      "/p/project/chhb19/gaertner2/data/awicm_cvmix/lkfs/1km_2100\n",
      "/p/scratch/chhb19/gaertner2/interpolated_fesom_output/1km/1km_2100.nc\n",
      "365\n",
      "/p/project/chhb19/gaertner2/data/awicm_cvmix/lkfs/1km_2100/tracked_pairs\n"
     ]
    }
   ],
   "source": [
    "print(lkf_data.lkfpath)\n",
    "print(lkf_data.netcdf_file)\n",
    "print(len(lkf_data.indexes))\n",
    "print(lkf_data.track_output_path)"
   ]
  },
  {
   "cell_type": "code",
   "execution_count": null,
   "id": "0db00787-fc4b-4618-afae-38f1a4972e6c",
   "metadata": {},
   "outputs": [],
   "source": []
  },
  {
   "cell_type": "code",
   "execution_count": 6,
   "id": "8b628436-8bb7-4ff2-b057-e6f41eb83ecd",
   "metadata": {
    "tags": []
   },
   "outputs": [],
   "source": [
    "# add track_output_path to the lkf_data object\n",
    "\n",
    "for year in years:\n",
    "    lkf_data = np.load(path_ds + f'ds_{year}.npy', allow_pickle=True)[0]\n",
    "    try:\n",
    "        _ = lkf_data.track_output_path\n",
    "    except:\n",
    "        # with this syntax, nothing is tracked. it still creates the track_output_path\n",
    "        # though. tracking the first day would be ...indexes=[0,1]\n",
    "        lkf_data.track_lkfs(indexes=[0])\n",
    "        lkf_data.indexes = np.arange(365)\n",
    "        np.save(path_ds + f'ds_{year}.npy', [lkf_data])"
   ]
  },
  {
   "cell_type": "code",
   "execution_count": null,
   "id": "ce0189cc-a3a2-4715-87fe-9df948473b04",
   "metadata": {},
   "outputs": [],
   "source": []
  },
  {
   "cell_type": "code",
   "execution_count": null,
   "id": "6f83779c-c1c8-41bb-a9c4-99e035e500f2",
   "metadata": {},
   "outputs": [],
   "source": []
  },
  {
   "cell_type": "code",
   "execution_count": null,
   "id": "90a72d16-b63b-4175-b0cf-50114b6342a8",
   "metadata": {},
   "outputs": [],
   "source": []
  },
  {
   "cell_type": "code",
   "execution_count": null,
   "id": "528b8fc2-93b5-4979-bdf2-9e41c1dbf076",
   "metadata": {},
   "outputs": [],
   "source": []
  },
  {
   "cell_type": "code",
   "execution_count": null,
   "id": "b8d43bd3-9ed5-4be3-9435-de7625475a4b",
   "metadata": {},
   "outputs": [],
   "source": []
  }
 ],
 "metadata": {
  "kernelspec": {
   "display_name": "gaertner2_lkf_tools",
   "language": "python",
   "name": "gaertner2_lkf_tools"
  },
  "language_info": {
   "codemirror_mode": {
    "name": "ipython",
    "version": 3
   },
   "file_extension": ".py",
   "mimetype": "text/x-python",
   "name": "python",
   "nbconvert_exporter": "python",
   "pygments_lexer": "ipython3",
   "version": "3.10.4"
  }
 },
 "nbformat": 4,
 "nbformat_minor": 5
}
