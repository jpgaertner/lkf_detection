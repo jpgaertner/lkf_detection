{
 "cells": [
  {
   "cell_type": "code",
   "execution_count": 1,
   "id": "80b8aa8d-3b49-4bad-833d-7244ca6ff94c",
   "metadata": {
    "tags": []
   },
   "outputs": [],
   "source": [
    "import numpy as np\n",
    "import sys\n",
    "sys.path.insert(1, '/home/a/a270230/LKF/lkf_tools/lkf_tools/')\n",
    "from dataset import *\n",
    "import warnings\n",
    "warnings.filterwarnings('ignore')\n",
    "from pathlib import PosixPath"
   ]
  },
  {
   "cell_type": "code",
   "execution_count": 2,
   "id": "a550f279-f1f9-45ae-b3da-b9365372c684",
   "metadata": {
    "tags": []
   },
   "outputs": [],
   "source": [
    "res = '4km'\n",
    "\n",
    "path = '/work/bk1377/a270230/'\n",
    "path_nc   = path + f'interpolated_fesom_output/{res}/'\n",
    "path_lkfs = path + f'lkfs/{res}/'\n",
    "path_ds   = path + f'datasets/{res}/'"
   ]
  },
  {
   "cell_type": "code",
   "execution_count": 3,
   "id": "97f0ed44-0020-4651-8263-813f42f92050",
   "metadata": {},
   "outputs": [],
   "source": [
    "years = [i for i in range(1986,2001)]"
   ]
  },
  {
   "cell_type": "code",
   "execution_count": 4,
   "id": "8a0e4bc9-a08e-4bac-8d7d-8d057e017f79",
   "metadata": {
    "tags": []
   },
   "outputs": [],
   "source": [
    "# if the lkfs are detected via batch, the saving to npy file of the dataset\n",
    "# does not work. the detection is redone here for the first day with the\n",
    "# detection indices then being set to the full detection period.\n",
    "# afterwards the lkf_data objects can be loaded from the dataset files\n",
    "\n",
    "for year in years:\n",
    "    try:\n",
    "        lkf_data = np.load(path_ds + f'ds_{year}_{res}.npy', allow_pickle=True)[0]\n",
    "        \n",
    "        # use this if the lkf_data object is readable but just some aspects like\n",
    "        # the lkf path need to be changed\n",
    "        #lkf_data.lkfpath = PosixPath(f'/work/bk1377/a270230/lkfs/{res}/{year}_4km')\n",
    "        #np.save(path_ds + f'ds_{year}_{res}.npy', [lkf_data])\n",
    "    except:\n",
    "        # use this if the lkf_data object does not exist or it is not\n",
    "        # possible to load it\n",
    "        lkf_data = process_dataset(netcdf_file = path_nc + f'{year}_{res}.nc',\n",
    "                               output_path = path_lkfs,\n",
    "                               dog_thres = 0.01,\n",
    "                               t_red = 1)\n",
    "\n",
    "        lkf_data.detect_lkfs(indexes=[0], use_eps=True)\n",
    "        lkf_data.indexes = np.arange(365)\n",
    "\n",
    "        np.save(path_ds + f'ds_{year}_{res}.npy', [lkf_data])"
   ]
  },
  {
   "cell_type": "code",
   "execution_count": 5,
   "id": "7c8d73a7",
   "metadata": {
    "tags": []
   },
   "outputs": [
    {
     "name": "stdout",
     "output_type": "stream",
     "text": [
      "/work/bk1377/a270230/lkfs/4km/2000_4km\n",
      "/work/bk1377/a270230/interpolated_fesom_output/4km/2000_4km.nc\n",
      "365\n"
     ]
    }
   ],
   "source": [
    "print(lkf_data.lkfpath)\n",
    "print(lkf_data.netcdf_file)\n",
    "print(len(lkf_data.indexes))"
   ]
  },
  {
   "cell_type": "code",
   "execution_count": 6,
   "id": "8b628436-8bb7-4ff2-b057-e6f41eb83ecd",
   "metadata": {
    "tags": []
   },
   "outputs": [],
   "source": [
    "# add track_output_path to the lkf_data object\n",
    "\n",
    "for year in years:\n",
    "    lkf_data = np.load(path_ds + f'ds_{year}_{res}.npy', allow_pickle=True)[0]\n",
    "    try:\n",
    "        _ = lkf_data.track_output_path\n",
    "    except:\n",
    "        # with this syntax, nothing is tracked. it still creates the track_output_path\n",
    "        # though. tracking the first day would be ...indexes=[0,1]\n",
    "        lkf_data.track_lkfs(indexes=[0])\n",
    "        lkf_data.indexes = np.arange(365)\n",
    "        np.save(path_ds + f'ds_{year}_{res}.npy', [lkf_data])"
   ]
  },
  {
   "cell_type": "code",
   "execution_count": 7,
   "id": "ce0189cc-a3a2-4715-87fe-9df948473b04",
   "metadata": {},
   "outputs": [
    {
     "name": "stdout",
     "output_type": "stream",
     "text": [
      "/work/bk1377/a270230/lkfs/4km/2000_4km/tracked_pairs\n"
     ]
    }
   ],
   "source": [
    "print(lkf_data.track_output_path)"
   ]
  },
  {
   "cell_type": "code",
   "execution_count": null,
   "id": "6f83779c-c1c8-41bb-a9c4-99e035e500f2",
   "metadata": {},
   "outputs": [],
   "source": []
  },
  {
   "cell_type": "code",
   "execution_count": null,
   "id": "90a72d16-b63b-4175-b0cf-50114b6342a8",
   "metadata": {},
   "outputs": [],
   "source": []
  }
 ],
 "metadata": {
  "kernelspec": {
   "display_name": "lkf_tools",
   "language": "python",
   "name": "lkf_tools"
  },
  "language_info": {
   "codemirror_mode": {
    "name": "ipython",
    "version": 3
   },
   "file_extension": ".py",
   "mimetype": "text/x-python",
   "name": "python",
   "nbconvert_exporter": "python",
   "pygments_lexer": "ipython3",
   "version": "3.12.2"
  }
 },
 "nbformat": 4,
 "nbformat_minor": 5
}
