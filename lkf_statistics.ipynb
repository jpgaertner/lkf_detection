{
 "cells": [
  {
   "cell_type": "code",
   "execution_count": 1,
   "id": "2615ceba",
   "metadata": {},
   "outputs": [],
   "source": [
    "import numpy as np\n",
    "import dill\n",
    "from lkf_tools.dataset import *"
   ]
  },
  {
   "cell_type": "code",
   "execution_count": 2,
   "id": "31c449c9",
   "metadata": {},
   "outputs": [],
   "source": [
    "lkf_data = dill.load(open(\"data/lkf_pickle_files/lkf_data_2015_005.pickle\", \"rb\"))"
   ]
  },
  {
   "cell_type": "code",
   "execution_count": 3,
   "id": "0d8c2590",
   "metadata": {},
   "outputs": [],
   "source": [
    "lkfs_all = []\n",
    "for it in lkf_data.indexes:\n",
    "    lkfs_path = lkf_data.lkfpath.joinpath('lkf_%s_%03i.npy'\n",
    "                                          % (lkf_data.netcdf_file.split('/')[-1].split('.')[0],\n",
    "                                             (it+1))\n",
    "                                         )\n",
    "    lkfs_all.append(np.load(lkfs_path, allow_pickle=True))"
   ]
  },
  {
   "cell_type": "code",
   "execution_count": 4,
   "id": "5bcf3a71",
   "metadata": {},
   "outputs": [
    {
     "name": "stdout",
     "output_type": "stream",
     "text": [
      "day   number of lkfs\n",
      "1     90\n",
      "2     63\n",
      "3     54\n",
      "4     68\n",
      "5     90\n",
      "6     79\n",
      "7     71\n",
      "8     73\n",
      "9     77\n"
     ]
    }
   ],
   "source": [
    "print('day   number of lkfs')\n",
    "for ind, item in enumerate(lkfs_all):\n",
    "    print(ind+1, '   ', np.shape(item)[0])"
   ]
  },
  {
   "cell_type": "code",
   "execution_count": 5,
   "id": "d18eed66",
   "metadata": {},
   "outputs": [],
   "source": [
    "tracks_all = []\n",
    "\n",
    "for it in lkf_data.indexes:\n",
    "    tracks_path = lkf_data.track_output_path.joinpath('lkf_tracked_pairs_%s_to_%s.npy'\n",
    "                                                      % (lkf_data.lkf_filelist[it][4:-4],\n",
    "                                                         lkf_data.lkf_filelist[it+1][4:-4])\n",
    "                                                     )\n",
    "    tracks_all.append(np.load(tracks_path, allow_pickle=True))"
   ]
  },
  {
   "cell_type": "code",
   "execution_count": 6,
   "id": "d7a569ff",
   "metadata": {},
   "outputs": [
    {
     "name": "stdout",
     "output_type": "stream",
     "text": [
      "[4 2]\t[1 3]\t[2 3]\t[1 2]\t[0 0]\t[1 2]\t[0 0]\t[0 0]\t[0 1]\n",
      "[8 8]\t[2 5]\t[ 3 62]\t[ 3 11]\t[7 4]\t[ 4 56]\t[1 1]\t[2 3]\t[ 3 67]\n",
      "[9 4]\t[ 5 11]\t[4 6]\t[4 4]\t[11  6]\t[11  6]\t[2 2]\t[ 4 72]\t[4 3]\n",
      "[12 10]\t[ 6 47]\t[8 9]\t[10 12]\t[14  9]\t[12 65]\t[4 5]\t[5 4]\t[5 4]\n",
      "[13  7]\t[ 6 50]\t[12 12]\t[11  9]\t[15 14]\t[14  8]\t[ 6 17]\t[9 6]\t[8 5]\n",
      "[14  9]\t[ 8 15]\t[14 15]\t[12 18]\t[18 11]\t[16 57]\t[ 6 69]\t[15 11]\t[13 69]\n",
      "[17  8]\t[12 17]\t[19 20]\t[15 74]\t[27 27]\t[19 10]\t[ 7 14]\t[18 20]\t[14  9]\n",
      "[17 59]\t[14 18]\t[20 66]\t[15 84]\t[27 72]\t[22 16]\t[ 8 63]\t[19 14]\t[18 10]\n",
      "[20 13]\t[14 19]\t[21 22]\t[16 15]\t[34 37]\t[23 60]\t[10 23]\t[21 18]\t[20 70]\n",
      "[21 18]\t[15 22]\t[22 19]\t[18 21]\t[39 45]\t[24 14]\t[11 64]\t[22 22]\t[21 12]\n",
      "[23 16]\t[19 20]\t[23 25]\t[20 24]\t[39 60]\t[26 24]\t[14 26]\t[35 27]\t[27 20]\n",
      "[25 17]\t[23 25]\t[24 25]\t[21 22]\t[40 44]\t[27 23]\t[15 28]\t[36 28]\t[30 20]\n",
      "[28 14]\t[23 29]\t[25 26]\t[26 26]\t[41 74]\t[30 26]\t[18 31]\t[37 30]\t[30 28]\n",
      "[30 19]\t[24 26]\t[26 27]\t[27 31]\t[42 39]\t[35 42]\t[22 29]\t[37 33]\t[34 30]\n",
      "[31 21]\t[26 27]\t[30 28]\t[28 38]\t[46 53]\t[36 36]\t[23 29]\t[38 32]\t[36 27]\n",
      "[32 20]\t[29 31]\t[33 29]\t[31 77]\t[47 75]\t[38 37]\t[23 37]\t[39 69]\t[37 31]\n",
      "[36 24]\t[33 32]\t[34 42]\t[32 47]\t[58 62]\t[39 33]\t[24 36]\t[41 41]\t[39 71]\n",
      "[36 28]\t[33 33]\t[35 44]\t[35 54]\t[60 62]\t[41 35]\t[26 38]\t[43 40]\t[40 39]\n",
      "[37 25]\t[34 28]\t[37 67]\t[36 50]\t[62 61]\t[42 32]\t[27 37]\t[44 44]\t[40 42]\n",
      "[41 30]\t[43 30]\t[40 53]\t[37 52]\t[65 65]\t[43 43]\t[33 44]\t[46 45]\t[42 75]\n"
     ]
    }
   ],
   "source": [
    "print('\\n'.join(['\\t'.join([str(x[i]) if len(x)>i else '' for x in tracks_all]) for i in range(20)]))"
   ]
  },
  {
   "cell_type": "code",
   "execution_count": 7,
   "id": "10fd042a",
   "metadata": {
    "scrolled": false
   },
   "outputs": [],
   "source": [
    "##### here only one of the paths is saved if the lkf has\n",
    "# two associated features in the following record #####\n",
    "\n",
    "# lkf_tracks[i] are the lkf tracks that start at day i+1\n",
    "lkf_tracks = np.zeros(len(lkfs_all),dtype='object')\n",
    "\n",
    "# number all the lkfs on day one\n",
    "for startday in range(len(lkfs_all)):\n",
    "    lkf_tracks[startday] = np.arange(np.shape(lkfs_all[startday])[0], dtype='object')\n",
    "\n",
    "    # get the lkf number on day two (if the lkf can be tracked)\n",
    "    # and add it to the lkf\n",
    "    for ind, item in enumerate(lkf_tracks[startday]):\n",
    "        in_next_record = (item == tracks_all[startday][:,0])\n",
    "\n",
    "        if np.any(in_next_record):\n",
    "            pos_in_next_record = np.where(in_next_record)\n",
    "            lkf_number_in_next_record = tracks_all[startday][pos_in_next_record,1]\n",
    "\n",
    "            lkf_tracks[startday][ind] = np.append(item, lkf_number_in_next_record[0,0])\n",
    "\n",
    "    # loop over the following days\n",
    "    for i in range(1,len(tracks_all)-startday):\n",
    "        for ind, item in enumerate(lkf_tracks[startday]):\n",
    "            if np.array(item).size == i+1:\n",
    "                in_next_record = (item[-1] == tracks_all[i+startday][:,0])\n",
    "\n",
    "                if np.any(in_next_record):\n",
    "                    pos_in_next_record = np.where(in_next_record)\n",
    "\n",
    "                    lkf_number_in_next_record = tracks_all[i+startday][pos_in_next_record,1]\n",
    "\n",
    "                    lkf_tracks[startday][ind] = np.append(item, lkf_number_in_next_record[0,0])"
   ]
  },
  {
   "cell_type": "code",
   "execution_count": 8,
   "id": "cb6694c1",
   "metadata": {
    "scrolled": true
   },
   "outputs": [],
   "source": [
    "already_tracked = np.zeros(len(lkf_tracks)-1,dtype='object')\n",
    "for it in range(len(lkf_tracks)-1):\n",
    "    \n",
    "    for ind, item in enumerate(lkf_tracks[it]):\n",
    "\n",
    "        if np.array(item).size > 1:\n",
    "            already_tracked[it] = [np.array(item).flat[1] if already_tracked[it]==0 else np.append(already_tracked[it],np.array(item).flat[1])]\n",
    "            \n",
    "for i in range(1,len(tracks_all)):\n",
    "    lkf_tracks[i] = np.delete(lkf_tracks[i], already_tracked[i-1])"
   ]
  },
  {
   "cell_type": "code",
   "execution_count": 9,
   "id": "4f92b914",
   "metadata": {},
   "outputs": [],
   "source": [
    "lifetimes = np.zeros_like(lkf_tracks, dtype='object')\n",
    "for i in range(len(lkf_tracks)):\n",
    "    lifetimes[i] = np.zeros_like(lkf_tracks[i], dtype='object')\n",
    "    for ind, item in enumerate(lkf_tracks[i]):\n",
    "        lifetimes[i][ind] = np.array(item).size"
   ]
  },
  {
   "cell_type": "code",
   "execution_count": 11,
   "id": "2e33ecc0",
   "metadata": {},
   "outputs": [
    {
     "data": {
      "text/plain": [
       "1.7582938388625593"
      ]
     },
     "execution_count": 11,
     "metadata": {},
     "output_type": "execute_result"
    }
   ],
   "source": [
    "total_mean_lifetime = np.concatenate(lifetimes).mean()\n",
    "total_mean_lifetime"
   ]
  },
  {
   "cell_type": "code",
   "execution_count": 12,
   "id": "5f89a452",
   "metadata": {},
   "outputs": [
    {
     "data": {
      "text/plain": [
       "2.8181818181818183"
      ]
     },
     "execution_count": 12,
     "metadata": {},
     "output_type": "execute_result"
    }
   ],
   "source": [
    "lifetimes_tracked_lkfs = [lifetimes[i][np.where(lifetimes[i]!=1)] for i in range(len(lifetimes))]\n",
    "total_mean_lifetime_tracked_lkfs = np.concatenate(lifetimes_tracked_lkfs).mean()\n",
    "total_mean_lifetime_tracked_lkfs"
   ]
  },
  {
   "cell_type": "code",
   "execution_count": null,
   "id": "725db982",
   "metadata": {},
   "outputs": [],
   "source": []
  },
  {
   "cell_type": "code",
   "execution_count": null,
   "id": "3a491ed9",
   "metadata": {},
   "outputs": [],
   "source": []
  },
  {
   "cell_type": "code",
   "execution_count": null,
   "id": "50ee4963",
   "metadata": {},
   "outputs": [],
   "source": []
  }
 ],
 "metadata": {
  "kernelspec": {
   "display_name": "lkf_tools",
   "language": "python",
   "name": "lkf_tools"
  },
  "language_info": {
   "codemirror_mode": {
    "name": "ipython",
    "version": 3
   },
   "file_extension": ".py",
   "mimetype": "text/x-python",
   "name": "python",
   "nbconvert_exporter": "python",
   "pygments_lexer": "ipython3",
   "version": "3.11.4"
  }
 },
 "nbformat": 4,
 "nbformat_minor": 5
}
