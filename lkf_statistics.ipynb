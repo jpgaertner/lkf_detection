{
 "cells": [
  {
   "cell_type": "code",
   "execution_count": 613,
   "id": "2615ceba",
   "metadata": {},
   "outputs": [],
   "source": [
    "import numpy as np\n",
    "import dill\n",
    "from lkf_tools.dataset import *"
   ]
  },
  {
   "cell_type": "code",
   "execution_count": 614,
   "id": "31c449c9",
   "metadata": {},
   "outputs": [],
   "source": [
    "lkf_data = dill.load(open(\"data/lkf_pickle_files/lkf_data_2015_005.pickle\", \"rb\"))"
   ]
  },
  {
   "cell_type": "code",
   "execution_count": 615,
   "id": "0d8c2590",
   "metadata": {},
   "outputs": [],
   "source": [
    "lkfs_all = []\n",
    "for it in lkf_data.indexes:\n",
    "    lkfs_path = lkf_data.lkfpath.joinpath('lkf_%s_%03i.npy'\n",
    "                                          % (lkf_data.netcdf_file.split('/')[-1].split('.')[0],\n",
    "                                             (it+1))\n",
    "                                         )\n",
    "    lkfs_all.append(np.load(lkfs_path, allow_pickle=True))"
   ]
  },
  {
   "cell_type": "code",
   "execution_count": 616,
   "id": "5bcf3a71",
   "metadata": {},
   "outputs": [
    {
     "name": "stdout",
     "output_type": "stream",
     "text": [
      "day   number of lkfs\n",
      "1     90\n",
      "2     63\n",
      "3     54\n",
      "4     68\n",
      "5     90\n",
      "6     79\n",
      "7     71\n",
      "8     73\n",
      "9     77\n"
     ]
    }
   ],
   "source": [
    "print('day   number of lkfs')\n",
    "for ind, item in enumerate(lkfs_all):\n",
    "    print(ind+1, '   ', np.shape(item)[0])"
   ]
  },
  {
   "cell_type": "code",
   "execution_count": 617,
   "id": "d18eed66",
   "metadata": {},
   "outputs": [],
   "source": [
    "tracks_all = []\n",
    "\n",
    "for it in lkf_data.indexes:\n",
    "    tracks_path = lkf_data.track_output_path.joinpath('lkf_tracked_pairs_%s_to_%s.npy'\n",
    "                                                      % (lkf_data.lkf_filelist[it][4:-4],\n",
    "                                                         lkf_data.lkf_filelist[it+1][4:-4])\n",
    "                                                     )\n",
    "    tracks_all.append(np.load(tracks_path, allow_pickle=True))"
   ]
  },
  {
   "cell_type": "code",
   "execution_count": 618,
   "id": "35403476",
   "metadata": {
    "scrolled": false
   },
   "outputs": [],
   "source": [
    "##### here only one of the paths is saved if the lkf has\n",
    "# two associated features in the following record #####\n",
    "\n",
    "# lkf_tracks[i] are the lkf tracks that start at day i+1\n",
    "lkf_tracks = np.zeros(len(lkfs_all),dtype='object')\n",
    "\n",
    "# number all the lkfs on day one\n",
    "for startday in range(len(lkfs_all)):\n",
    "    lkf_tracks[startday] = np.arange(np.shape(lkfs_all[startday])[0], dtype='object')\n",
    "\n",
    "    # get the lkf number on day two (if the lkf can be tracked)\n",
    "    # and add it to the lkf\n",
    "    for ind, item in enumerate(lkf_tracks[startday]):\n",
    "        in_next_record = (item == tracks_all[startday][:,0])\n",
    "\n",
    "        if np.any(in_next_record):\n",
    "            pos_in_next_record = np.where(in_next_record)\n",
    "            lkf_number_in_next_record = tracks_all[startday][pos_in_next_record,1]\n",
    "\n",
    "            lkf_tracks[startday][ind] = np.append(item, lkf_number_in_next_record[0,0])\n",
    "\n",
    "    # loop over the following days\n",
    "    for i in range(1,len(tracks_all)-startday):\n",
    "        for ind, item in enumerate(lkf_tracks[startday]):\n",
    "            if np.array(item).size == i+1:\n",
    "                in_next_record = (item[-1] == tracks_all[i+startday][:,0])\n",
    "\n",
    "                if np.any(in_next_record):\n",
    "                    pos_in_next_record = np.where(in_next_record)\n",
    "\n",
    "                    lkf_number_in_next_record = tracks_all[i+startday][pos_in_next_record,1]\n",
    "\n",
    "                    lkf_tracks[startday][ind] = np.append(item, lkf_number_in_next_record[0,0])"
   ]
  },
  {
   "cell_type": "code",
   "execution_count": 619,
   "id": "e2046f3b",
   "metadata": {
    "scrolled": true
   },
   "outputs": [],
   "source": [
    "already_tracked = np.zeros(len(lkf_tracks)-1,dtype='object')\n",
    "for it in range(len(lkf_tracks)-1):\n",
    "    \n",
    "    for ind, item in enumerate(lkf_tracks[it]):\n",
    "\n",
    "        if np.array(item).size > 1:\n",
    "            already_tracked[it] = [np.array(item).flat[1] if already_tracked[it]==0 else np.append(already_tracked[it],np.array(item).flat[1])]\n",
    "\n",
    "for i in range(1,len(tracks_all)):\n",
    "    lkf_tracks[i] = np.delete(lkf_tracks[i], already_tracked[i-1])"
   ]
  },
  {
   "cell_type": "code",
   "execution_count": 620,
   "id": "4f92b914",
   "metadata": {},
   "outputs": [],
   "source": [
    "lifetimes = np.zeros_like(lkf_tracks, dtype='object')\n",
    "for i in range(len(lkf_tracks)):\n",
    "    lifetimes[i] = np.zeros_like(lkf_tracks[i], dtype='object')\n",
    "    for ind, item in enumerate(lkf_tracks[i]):\n",
    "        lifetimes[i][ind] = np.array(item).size"
   ]
  },
  {
   "cell_type": "code",
   "execution_count": 621,
   "id": "c3fccf5a",
   "metadata": {},
   "outputs": [
    {
     "data": {
      "text/plain": [
       "1.7582938388625593"
      ]
     },
     "execution_count": 621,
     "metadata": {},
     "output_type": "execute_result"
    }
   ],
   "source": [
    "total_mean_lifetime = np.concatenate(lifetimes).mean()\n",
    "total_mean_lifetime"
   ]
  },
  {
   "cell_type": "code",
   "execution_count": 622,
   "id": "df74eacc",
   "metadata": {},
   "outputs": [
    {
     "data": {
      "text/plain": [
       "2.8181818181818183"
      ]
     },
     "execution_count": 622,
     "metadata": {},
     "output_type": "execute_result"
    }
   ],
   "source": [
    "lifetimes_tracked_lkfs = [lifetimes[i][np.where(lifetimes[i]!=1)] for i in range(len(lifetimes))]\n",
    "total_mean_lifetime_tracked_lkfs = np.concatenate(lifetimes_tracked_lkfs).mean()\n",
    "total_mean_lifetime_tracked_lkfs"
   ]
  },
  {
   "cell_type": "code",
   "execution_count": null,
   "id": "3c2f8f8f",
   "metadata": {},
   "outputs": [],
   "source": []
  },
  {
   "cell_type": "code",
   "execution_count": null,
   "id": "eb1a2af7",
   "metadata": {},
   "outputs": [],
   "source": []
  },
  {
   "cell_type": "code",
   "execution_count": null,
   "id": "abbbd175",
   "metadata": {},
   "outputs": [],
   "source": []
  }
 ],
 "metadata": {
  "kernelspec": {
   "display_name": "lkf_tools",
   "language": "python",
   "name": "lkf_tools"
  },
  "language_info": {
   "codemirror_mode": {
    "name": "ipython",
    "version": 3
   },
   "file_extension": ".py",
   "mimetype": "text/x-python",
   "name": "python",
   "nbconvert_exporter": "python",
   "pygments_lexer": "ipython3",
   "version": "3.11.4"
  }
 },
 "nbformat": 4,
 "nbformat_minor": 5
}
