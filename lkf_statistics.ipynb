{
 "cells": [
  {
   "cell_type": "code",
   "execution_count": 1,
   "id": "2615ceba",
   "metadata": {
    "tags": []
   },
   "outputs": [],
   "source": [
    "import numpy as np\n",
    "import dill\n",
    "from lkf_tools.dataset import *"
   ]
  },
  {
   "cell_type": "code",
   "execution_count": 2,
   "id": "10d0c69a-63be-4cc5-8781-840203ea2550",
   "metadata": {
    "tags": []
   },
   "outputs": [],
   "source": [
    "def get_lkfs_all(lkf_data):\n",
    "    '''returns a list with the lkf data for each day (len(lkfs_all) = ntimesteps).\n",
    "    the lkfs at one day are stored as (p_len,7) shaped array with p_len\n",
    "    being their pixel length. it has 7 attributes like longitude and latitude,\n",
    "    stored in the [:,2] and [:,3] position, respectively.\n",
    "    '''\n",
    "\n",
    "    lkfs_all = []\n",
    "    for it in lkf_data.indexes:\n",
    "        lkfs_path = lkf_data.lkfpath.joinpath('lkf_%s_%03i.npy'\n",
    "                                              % (lkf_data.netcdf_file.split('/')[-1].split('.')[0],\n",
    "                                                 (it+1))\n",
    "                                             )\n",
    "        lkfs_all.append(np.load(lkfs_path, allow_pickle=True))\n",
    "    \n",
    "    return lkfs_all\n",
    "\n",
    "def number_of_lkfs_daily(lkfs_all):\n",
    "    '''returns an array with the number of detected lkfs at each day\n",
    "    (len(lkfs_per_day) = ntimesteps).\n",
    "    '''\n",
    "    \n",
    "    lkfs_per_day = np.zeros(len(lkfs_all),dtype='int')\n",
    "    \n",
    "    for ind, item in enumerate(lkfs_all):\n",
    "        lkfs_per_day[ind] = np.shape(item)[0]\n",
    "        \n",
    "    return lkfs_per_day\n",
    "\n",
    "def get_tracks_all(lkf_data):\n",
    "    '''returns a list with the tracks for each day (len(tracks_all) = ntimesteps).\n",
    "    the tracks at day i are matching pairs, i.e. the number of an LKF in record i\n",
    "    and the number of an associated LKF in record i+1.\n",
    "    '''\n",
    "    tracks_all = []\n",
    "    \n",
    "    for it in lkf_data.indexes:\n",
    "        tracks_path = lkf_data.track_output_path.joinpath('lkf_tracked_pairs_%s_to_%s.npy'\n",
    "                                                          % (lkf_data.lkf_filelist[it][4:-4],\n",
    "                                                             lkf_data.lkf_filelist[it+1][4:-4])\n",
    "                                                         )\n",
    "        tracks_all.append(np.load(tracks_path, allow_pickle=True))\n",
    "    \n",
    "    return tracks_all\n",
    "\n",
    "def get_lkf_paths(lkfs_all, tracks_all):\n",
    "    '''returns the array lkf_tracks:\n",
    "    lkf_tracks[i] are the lkf paths that start at day i. it contains\n",
    "    the index of the lkfs at every day they are tracked to.\n",
    "\n",
    "    e.g.\n",
    "    lkf_tracks[0][0] = [0]           -> lkf 0 at day 1 is not tracked to day 2\n",
    "    lkf_tracks[0][4] = [4, 2, 5]     -> lkf 4 is tracked until day 3. in the\n",
    "                                        second record, it has the index 2, in\n",
    "                                        the third record the index 5\n",
    "\n",
    "    todo: in this configuration, only the first path is saved if the lkf has\n",
    "    two associated feature in the following record.\n",
    "    '''\n",
    "    \n",
    "    lkf_paths = np.zeros(len(lkfs_all),dtype='object')\n",
    "\n",
    "    # number all the lkfs on day one\n",
    "    for startday in range(len(lkfs_all)):\n",
    "        lkf_paths[startday] = np.arange(np.shape(lkfs_all[startday])[0],\n",
    "                                         dtype='object')\n",
    "\n",
    "        # get the lkf number on day two (if the lkf can be tracked)\n",
    "        # and add it to the lkf\n",
    "        for ind, item in enumerate(lkf_paths[startday]):\n",
    "            in_next_record = (item == tracks_all[startday][:,0])\n",
    "\n",
    "            if np.any(in_next_record):\n",
    "                pos_in_next_record = np.where(in_next_record)\n",
    "                lkf_number_in_next_record = tracks_all[startday][pos_in_next_record,1]\n",
    "\n",
    "                lkf_paths[startday][ind] = np.append(item, lkf_number_in_next_record[0,0])\n",
    "\n",
    "        # loop over the following days\n",
    "        for i in range(1,len(tracks_all)-startday):\n",
    "            for ind, item in enumerate(lkf_paths[startday]):\n",
    "                if np.array(item).size == i+1:\n",
    "                    in_next_record = (item[-1] == tracks_all[i+startday][:,0])\n",
    "\n",
    "                    if np.any(in_next_record):\n",
    "                        pos_in_next_record = np.where(in_next_record)\n",
    "\n",
    "                        lkf_number_in_next_record = tracks_all[i+startday][pos_in_next_record,1]\n",
    "\n",
    "                        lkf_paths[startday][ind] = np.append(item, lkf_number_in_next_record[0,0])\n",
    "\n",
    "    # remove already tracked paths, i.e. delete a path from day n if\n",
    "    # it starts at day n-1, so only the paths start start at day n remain\n",
    "    already_tracked = np.zeros(len(lkf_paths)-1,dtype='object')\n",
    "    for it in range(len(lkf_paths)-1):\n",
    "        for ind, item in enumerate(lkf_paths[it]):\n",
    "            if np.array(item).size > 1:\n",
    "                already_tracked[it] = [np.array(item).flat[1] if already_tracked[it]==0 else np.append(already_tracked[it],np.array(item).flat[1])]\n",
    "\n",
    "    for i in range(1,len(tracks_all)):\n",
    "        lkf_paths[i] = np.delete(lkf_paths[i], already_tracked[i-1])\n",
    "\n",
    "    return lkf_paths\n",
    "\n",
    "def get_lifetimes(lkf_paths):\n",
    "    '''returns the lifetimes of each tracked path that starts at the\n",
    "    respective day, as well as the total mean lifetime of all tracked paths\n",
    "    and the total lifetime of all tracked paths that are longer than one day.\n",
    "    '''\n",
    "    \n",
    "    # lifetimes[i] contains the lifetimes of the paths that start at day i\n",
    "    lifetimes = np.zeros_like(lkf_paths, dtype='object')\n",
    "    \n",
    "    for i in range(len(lkf_paths)):\n",
    "        lifetimes[i] = np.zeros_like(lkf_paths[i], dtype='object')\n",
    "        \n",
    "        for ind, item in enumerate(lkf_paths[i]):\n",
    "            lifetimes[i][ind] = np.array(item).size\n",
    "    \n",
    "    # mean lifetime of all tracked paths\n",
    "    mean_lifetime = np.concatenate(lifetimes).mean()\n",
    "\n",
    "    # mean lifetime of all tracked paths longer than one day\n",
    "    lifetimes_tracked_lkfs = [lifetimes[i][np.where(lifetimes[i]!=1)]\n",
    "                              for i in range(len(lifetimes))\n",
    "                             ]\n",
    "    mean_lifetime_tracked_lkfs = np.concatenate(\n",
    "                                        lifetimes_tracked_lkfs\n",
    "                                        ).mean()\n",
    "\n",
    "    return lifetimes, mean_lifetime, mean_lifetime_tracked_lkfs"
   ]
  },
  {
   "cell_type": "code",
   "execution_count": 3,
   "id": "5f574655-bffb-40b6-a6a9-2581ce69a5fa",
   "metadata": {
    "tags": []
   },
   "outputs": [],
   "source": [
    "path = \"data/2015/lkf_pickle_files/lkf_data_2015_005.pickle\"\n",
    "\n",
    "# get the lkf data object \n",
    "lkf_data = dill.load(open(path, \"rb\"))"
   ]
  },
  {
   "cell_type": "code",
   "execution_count": 4,
   "id": "c5045260-c539-4e57-8617-65c40cb2c4c0",
   "metadata": {
    "tags": []
   },
   "outputs": [],
   "source": [
    "# get the lkf data for every timestep\n",
    "lkfs_all = get_lkfs_all(lkf_data)"
   ]
  },
  {
   "cell_type": "code",
   "execution_count": 5,
   "id": "213705d6-97f4-4bf4-8ae0-683626739117",
   "metadata": {
    "tags": []
   },
   "outputs": [
    {
     "name": "stdout",
     "output_type": "stream",
     "text": [
      "day   number of lkfs\n",
      "0     90\n",
      "1     63\n",
      "2     55\n",
      "3     69\n",
      "4     90\n",
      "5     79\n",
      "6     71\n",
      "7     73\n",
      "8     77\n"
     ]
    }
   ],
   "source": [
    "# get the number of lkfs at each timestep\n",
    "n_lkfs = number_of_lkfs_daily(lkfs_all)\n",
    "\n",
    "print('day   number of lkfs')\n",
    "for ind, item in enumerate(n_lkfs):\n",
    "    print(ind, '   ', item)"
   ]
  },
  {
   "cell_type": "code",
   "execution_count": 6,
   "id": "baea0d17-fe4c-4626-b5f6-8d058b00f818",
   "metadata": {
    "tags": []
   },
   "outputs": [],
   "source": [
    "# get the tracks for every timestep\n",
    "tracks_all = get_tracks_all(lkf_data)"
   ]
  },
  {
   "cell_type": "code",
   "execution_count": 7,
   "id": "d7a569ff",
   "metadata": {
    "tags": []
   },
   "outputs": [
    {
     "name": "stdout",
     "output_type": "stream",
     "text": [
      "[4 2]\t[1 3]\t[2 3]\t[1 2]\t[0 0]\t[1 2]\t[0 0]\t[0 0]\t[0 1]\n",
      "[8 8]\t[2 5]\t[4 6]\t[ 3 11]\t[7 4]\t[ 4 56]\t[1 1]\t[2 3]\t[ 3 68]\n",
      "[9 4]\t[ 5 11]\t[8 9]\t[4 4]\t[11  6]\t[11  6]\t[2 2]\t[ 4 72]\t[4 3]\n",
      "[12 10]\t[ 6 48]\t[12 12]\t[10 12]\t[14  9]\t[12 65]\t[4 5]\t[5 4]\t[5 4]\n",
      "[13  7]\t[ 6 51]\t[14 15]\t[11  9]\t[15 14]\t[14  8]\t[ 6 17]\t[9 6]\t[8 5]\n",
      "[14  9]\t[ 8 15]\t[19 20]\t[12 18]\t[18 11]\t[16 57]\t[ 6 69]\t[15 11]\t[13 70]\n",
      "[17  8]\t[12 17]\t[20 67]\t[15 74]\t[27 27]\t[19 10]\t[ 7 14]\t[18 20]\t[14  9]\n",
      "[17 59]\t[14 18]\t[21 22]\t[15 84]\t[27 72]\t[22 16]\t[ 8 63]\t[19 14]\t[18 10]\n",
      "[20 13]\t[14 19]\t[22 19]\t[16 15]\t[34 37]\t[23 60]\t[10 23]\t[21 18]\t[20 71]\n",
      "[21 18]\t[15 22]\t[23 25]\t[18 21]\t[39 45]\t[24 14]\t[11 64]\t[22 22]\t[21 12]\n",
      "[23 16]\t[19 20]\t[24 25]\t[20 24]\t[39 60]\t[26 24]\t[14 26]\t[35 27]\t[27 21]\n",
      "[25 17]\t[23 25]\t[25 26]\t[21 22]\t[40 44]\t[27 23]\t[15 28]\t[36 28]\t[30 21]\n",
      "[28 14]\t[23 30]\t[27 27]\t[26 26]\t[41 74]\t[30 26]\t[18 31]\t[37 30]\t[30 29]\n",
      "[30 19]\t[24 27]\t[29 29]\t[27 31]\t[42 39]\t[35 42]\t[22 29]\t[37 33]\t[34 31]\n",
      "[31 21]\t[26 28]\t[29 31]\t[28 38]\t[46 53]\t[36 36]\t[23 29]\t[38 32]\t[36 28]\n"
     ]
    }
   ],
   "source": [
    "# show the first 15 (arbitrary number) matching pairs at each day\n",
    "print('\\n'.join(['\\t'.join([str(x[i]) if len(x)>i else '' for x in tracks_all]) for i in range(15)]))"
   ]
  },
  {
   "cell_type": "code",
   "execution_count": 8,
   "id": "00042573-8e9c-4721-8f55-5df8c0c491b0",
   "metadata": {
    "tags": []
   },
   "outputs": [],
   "source": [
    "# get the lkf paths starting at each timestep\n",
    "lkf_paths = get_lkf_paths(lkfs_all, tracks_all)\n",
    "\n",
    "# get the lifetime of the lkf paths and their mean as well as\n",
    "# the mean of only the paths that are longer than one day\n",
    "lifetimes, mean_lifetime, mean_lifetime_tracked_lkfs = get_lifetimes(lkf_paths)"
   ]
  },
  {
   "cell_type": "code",
   "execution_count": 9,
   "id": "cc9dcb48-4e29-4964-98ac-90e1d58b9f82",
   "metadata": {
    "tags": []
   },
   "outputs": [
    {
     "data": {
      "text/plain": [
       "array([0, 3, array([ 5, 11]), array([ 6, 48]), array([12, 17]), 22,\n",
       "       array([23, 25, 26, 26]), array([26, 28]), 28, array([29, 32]),\n",
       "       array([34, 29, 29]), 38, 39, 40, 41, 42, array([43, 31, 28, 38]),\n",
       "       44, 45, array([48, 39]), 50, array([51, 29, 29]), 53,\n",
       "       array([55, 12, 12, 18, 11,  6, 17]), 57, array([59, 15]), 60, 61],\n",
       "      dtype=object)"
      ]
     },
     "execution_count": 9,
     "metadata": {},
     "output_type": "execute_result"
    }
   ],
   "source": [
    "# these are the lkf paths that start at day 2. if a path starts already at\n",
    "# day 1, it is not included here (only in lkf_paths[0])\n",
    "lkf_paths[1]"
   ]
  },
  {
   "cell_type": "code",
   "execution_count": 10,
   "id": "3acb5b35-3035-4cf3-8248-45bed858a847",
   "metadata": {
    "tags": []
   },
   "outputs": [
    {
     "data": {
      "text/plain": [
       "1.7635933806146573"
      ]
     },
     "execution_count": 10,
     "metadata": {},
     "output_type": "execute_result"
    }
   ],
   "source": [
    "mean_lifetime # in days"
   ]
  },
  {
   "cell_type": "code",
   "execution_count": 11,
   "id": "e9ca0ead-7651-437f-8473-aeaa14e8aca5",
   "metadata": {
    "tags": []
   },
   "outputs": [
    {
     "data": {
      "text/plain": [
       "2.824858757062147"
      ]
     },
     "execution_count": 11,
     "metadata": {},
     "output_type": "execute_result"
    }
   ],
   "source": [
    "mean_lifetime_tracked_lkfs # in days"
   ]
  },
  {
   "cell_type": "code",
   "execution_count": null,
   "id": "725db982",
   "metadata": {},
   "outputs": [],
   "source": []
  }
 ],
 "metadata": {
  "kernelspec": {
   "display_name": "lkf_tools",
   "language": "python",
   "name": "lkf_tools"
  },
  "language_info": {
   "codemirror_mode": {
    "name": "ipython",
    "version": 3
   },
   "file_extension": ".py",
   "mimetype": "text/x-python",
   "name": "python",
   "nbconvert_exporter": "python",
   "pygments_lexer": "ipython3",
   "version": "3.11.4"
  }
 },
 "nbformat": 4,
 "nbformat_minor": 5
}
