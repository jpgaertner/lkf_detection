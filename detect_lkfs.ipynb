{
 "cells": [
  {
   "cell_type": "code",
   "execution_count": 4,
   "id": "38937915-e18c-4bd5-b71d-c61b2c7a2ae7",
   "metadata": {
    "tags": []
   },
   "outputs": [],
   "source": [
    "%reload_ext autoreload\n",
    "%autoreload 2\n",
    "\n",
    "import xarray as xr\n",
    "from lkf_tools.dataset import *\n",
    "import dill\n",
    "import warnings\n",
    "warnings.filterwarnings('ignore')"
   ]
  },
  {
   "cell_type": "code",
   "execution_count": 8,
   "id": "ba6103e3-c139-4554-9614-d550f2804c2c",
   "metadata": {
    "tags": []
   },
   "outputs": [
    {
     "name": "stdout",
     "output_type": "stream",
     "text": [
      "Warning: DXU and DYU are missing in netcdf file!\n",
      "  -->  Compute dxu and dyu from lon,lat using SSMI projection\n"
     ]
    }
   ],
   "source": [
    "lkf_data = process_dataset(f'data/ice_fesom_1950.nc', output_path=f'./data/lkfs/',\n",
    "                          dog_thres=0.05, t_red=1)"
   ]
  },
  {
   "cell_type": "code",
   "execution_count": null,
   "id": "440d6d26-cf50-4cc0-8e47-a4dbe002f91f",
   "metadata": {
    "tags": []
   },
   "outputs": [
    {
     "name": "stdout",
     "output_type": "stream",
     "text": [
      "Compute deformation rates and detect features for day 1\n",
      "Start detection routines\n",
      "Compute deformation rates and detect features for day 2\n",
      "Start detection routines\n",
      "Compute deformation rates and detect features for day 3\n",
      "Start detection routines\n",
      "Compute deformation rates and detect features for day 4\n",
      "Start detection routines\n",
      "Compute deformation rates and detect features for day 5\n",
      "Start detection routines\n",
      "Compute deformation rates and detect features for day 6\n",
      "Start detection routines\n",
      "Compute deformation rates and detect features for day 7\n",
      "Start detection routines\n",
      "Compute deformation rates and detect features for day 8\n",
      "Start detection routines\n",
      "Compute deformation rates and detect features for day 9\n",
      "Start detection routines\n",
      "Compute deformation rates and detect features for day 10\n",
      "Start detection routines\n",
      "Compute deformation rates and detect features for day 11\n",
      "Start detection routines\n",
      "Compute deformation rates and detect features for day 12\n",
      "Start detection routines\n",
      "Compute deformation rates and detect features for day 13\n",
      "Start detection routines\n",
      "Compute deformation rates and detect features for day 14\n",
      "Start detection routines\n",
      "Compute deformation rates and detect features for day 15\n",
      "Start detection routines\n",
      "Compute deformation rates and detect features for day 16\n",
      "Start detection routines\n",
      "Compute deformation rates and detect features for day 17\n",
      "Start detection routines\n",
      "Compute deformation rates and detect features for day 18\n",
      "Start detection routines\n",
      "Compute deformation rates and detect features for day 19\n",
      "Start detection routines\n",
      "Compute deformation rates and detect features for day 20\n",
      "Start detection routines\n",
      "Compute deformation rates and detect features for day 21\n",
      "Start detection routines\n",
      "Compute deformation rates and detect features for day 22\n",
      "Start detection routines\n",
      "Compute deformation rates and detect features for day 23\n",
      "Start detection routines\n",
      "Compute deformation rates and detect features for day 24\n",
      "Start detection routines\n",
      "Compute deformation rates and detect features for day 25\n",
      "Start detection routines\n",
      "Compute deformation rates and detect features for day 26\n",
      "Start detection routines\n",
      "Compute deformation rates and detect features for day 27\n",
      "Start detection routines\n",
      "Compute deformation rates and detect features for day 28\n",
      "Start detection routines\n",
      "Compute deformation rates and detect features for day 29\n",
      "Start detection routines\n",
      "Compute deformation rates and detect features for day 30\n",
      "Start detection routines\n",
      "Compute deformation rates and detect features for day 31\n",
      "Start detection routines\n",
      "Compute deformation rates and detect features for day 32\n",
      "Start detection routines\n",
      "Compute deformation rates and detect features for day 33\n",
      "Start detection routines\n",
      "Compute deformation rates and detect features for day 34\n",
      "Start detection routines\n",
      "Compute deformation rates and detect features for day 35\n",
      "Start detection routines\n",
      "Compute deformation rates and detect features for day 36\n",
      "Start detection routines\n",
      "Compute deformation rates and detect features for day 37\n",
      "Start detection routines\n",
      "Compute deformation rates and detect features for day 38\n",
      "Start detection routines\n",
      "Compute deformation rates and detect features for day 39\n",
      "Start detection routines\n",
      "Compute deformation rates and detect features for day 40\n",
      "Start detection routines\n",
      "Compute deformation rates and detect features for day 41\n",
      "Start detection routines\n"
     ]
    }
   ],
   "source": [
    "%%time\n",
    "lkf_data.detect_lkfs(indexes=np.arange(365))"
   ]
  },
  {
   "cell_type": "code",
   "execution_count": 55,
   "id": "05a914a8-2e4e-4bf9-b7ec-56965ca68eef",
   "metadata": {},
   "outputs": [],
   "source": [
    "for i in range(len(lkf_data.indexes)):\n",
    "    import matplotlib.pyplot as plt\n",
    "    import cartopy.crs as ccrs\n",
    "\n",
    "    fig = plt.figure(figsize=[16, 8])\n",
    "\n",
    "    ax = plt.subplot(1, 1, 1, projection=ccrs.Orthographic(0, 90))\n",
    "\n",
    "    ax.coastlines(zorder=3)\n",
    "\n",
    "    it = lkf_data.indexes[i]\n",
    "\n",
    "    pcm = ax.pcolormesh(lkf_data.lon[max([0,lkf_data.index_y[0][0]-1]):lkf_data.index_y[0][-1]+2:lkf_data.red_fac,\n",
    "                           max([0,lkf_data.index_x[0][0]-1]):lkf_data.index_x[0][-1]+2:lkf_data.red_fac],\n",
    "                  lkf_data.lat[max([0,lkf_data.index_y[0][0]-1]):lkf_data.index_y[0][-1]+2:lkf_data.red_fac,\n",
    "                           max([0,lkf_data.index_x[0][0]-1]):lkf_data.index_x[0][-1]+2:lkf_data.red_fac],\n",
    "                  lkf_data.calc_eps_tot(it),transform=ccrs.PlateCarree(),vmin=0,vmax=0.4)\n",
    "\n",
    "    lkfs = np.load(lkf_data.lkfpath.joinpath('lkf_%s_%03i.npy' %(lkf_data.netcdf_file.split('/')[-1].split('.')[0],(it+1))),allow_pickle=True)\n",
    "\n",
    "    for ilkf in lkfs:\n",
    "        if np.min(ilkf[:,2])<-150 and np.max(ilkf[:,2]>150):\n",
    "            ilkf[ilkf[:,2]<0,2]+=360\n",
    "        ax.plot(ilkf[:,2],ilkf[:,3],transform=ccrs.PlateCarree())\n",
    "\n",
    "    #plt.rcParams.update({'font.size': 14})\n",
    "    #plt.colorbar(pcm,label='deformation rate/ day$^-1$', location='bottom', shrink=0.5, pad=0.02)\n",
    "    plt.savefig(f'imgs/{i}.png',dpi=200,bbox_inches='tight')\n",
    "    plt.close(fig)"
   ]
  },
  {
   "cell_type": "code",
   "execution_count": 56,
   "id": "5fad637b-07d4-41ba-84a3-a983710fd9bc",
   "metadata": {},
   "outputs": [],
   "source": [
    "import glob\n",
    "from PIL import Image\n",
    "def make_gif(frame_folder):\n",
    "    frames = []\n",
    "    for i in range(len(lkf_data.indexes)):\n",
    "        frames.append(Image.open(frame_folder + f'/{i}.png'))\n",
    "    frame_one = frames[0]\n",
    "\n",
    "    frame_one.save(\"lkfs.gif\", format=\"GIF\", append_images=frames,\n",
    "                       save_all=True, duration=250, loop=0)\n",
    "\n",
    "if __name__ == \"__main__\":\n",
    "    make_gif(\"imgs\")"
   ]
  },
  {
   "cell_type": "code",
   "execution_count": null,
   "id": "d7a02177-096f-43d8-b989-5a839bd6f60b",
   "metadata": {},
   "outputs": [],
   "source": []
  }
 ],
 "metadata": {
  "kernelspec": {
   "display_name": "lkf_tools",
   "language": "python",
   "name": "lkf_tools"
  },
  "language_info": {
   "codemirror_mode": {
    "name": "ipython",
    "version": 3
   },
   "file_extension": ".py",
   "mimetype": "text/x-python",
   "name": "python",
   "nbconvert_exporter": "python",
   "pygments_lexer": "ipython3",
   "version": "3.11.4"
  }
 },
 "nbformat": 4,
 "nbformat_minor": 5
}
