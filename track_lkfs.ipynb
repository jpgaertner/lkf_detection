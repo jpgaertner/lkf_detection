{
 "cells": [
  {
   "cell_type": "code",
   "execution_count": 1,
   "id": "17754afe-0810-448e-b76f-deadf260752a",
   "metadata": {
    "tags": []
   },
   "outputs": [],
   "source": [
    "%reload_ext autoreload\n",
    "%autoreload 2\n",
    "\n",
    "from lkf_tools.dataset import *\n",
    "import dill"
   ]
  },
  {
   "cell_type": "code",
   "execution_count": 2,
   "id": "15d95534-6637-4fc9-9236-6a9c2b8765f3",
   "metadata": {
    "tags": []
   },
   "outputs": [],
   "source": [
    "path = \"data/lkf_datasets/\"\n",
    "lkfs_f_1950 = dill.load(open(path + \"ice_fesom_1950.pickle\", \"rb\"))\n",
    "lkfs_f_1951 = dill.load(open(path + \"ice_fesom_1951.pickle\", \"rb\"))\n",
    "lkfs_f_1952 = dill.load(open(path + \"ice_fesom_1952.pickle\", \"rb\"))\n",
    "lkfs_f_1953 = dill.load(open(path + \"ice_fesom_1953.pickle\", \"rb\"))\n",
    "lkfs_f_1954 = dill.load(open(path + \"ice_fesom_1954.pickle\", \"rb\"))\n",
    "lkfs_f_1955 = dill.load(open(path + \"ice_fesom_1955.pickle\", \"rb\"))\n",
    "lkfs_f_1956 = dill.load(open(path + \"ice_fesom_1956.pickle\", \"rb\"))"
   ]
  },
  {
   "cell_type": "code",
   "execution_count": 3,
   "id": "660f4d97-a0fb-46a4-869c-714bc0606f3f",
   "metadata": {
    "tags": []
   },
   "outputs": [],
   "source": [
    "lkf_data = lkfs_f_1950"
   ]
  },
  {
   "cell_type": "code",
   "execution_count": 4,
   "id": "d15c8d1d-0e28-4e82-9908-cf7d663ec169",
   "metadata": {
    "collapsed": true,
    "jupyter": {
     "outputs_hidden": true
    },
    "tags": []
   },
   "outputs": [
    {
     "name": "stdout",
     "output_type": "stream",
     "text": [
      "Track features in lkf_ice_fesom_1950_233.npy to lkf_ice_fesom_1950_234.npy\n",
      "Track features in lkf_ice_fesom_1950_234.npy to lkf_ice_fesom_1950_235.npy\n"
     ]
    },
    {
     "name": "stderr",
     "output_type": "stream",
     "text": [
      "/home/a/a270230/lkf_tools/lkf_tools/detection.py:589: RuntimeWarning: invalid value encountered in arccos\n",
      "  angle = np.arccos(angle)/np.pi*180\n"
     ]
    },
    {
     "name": "stdout",
     "output_type": "stream",
     "text": [
      "Track features in lkf_ice_fesom_1950_235.npy to lkf_ice_fesom_1950_236.npy\n",
      "Track features in lkf_ice_fesom_1950_236.npy to lkf_ice_fesom_1950_237.npy\n",
      "Track features in lkf_ice_fesom_1950_237.npy to lkf_ice_fesom_1950_238.npy\n",
      "Track features in lkf_ice_fesom_1950_238.npy to lkf_ice_fesom_1950_239.npy\n",
      "Track features in lkf_ice_fesom_1950_239.npy to lkf_ice_fesom_1950_240.npy\n",
      "Track features in lkf_ice_fesom_1950_240.npy to lkf_ice_fesom_1950_241.npy\n"
     ]
    },
    {
     "name": "stderr",
     "output_type": "stream",
     "text": [
      "/home/a/a270230/lkf_tools/lkf_tools/detection.py:589: RuntimeWarning: invalid value encountered in arccos\n",
      "  angle = np.arccos(angle)/np.pi*180\n"
     ]
    },
    {
     "name": "stdout",
     "output_type": "stream",
     "text": [
      "Track features in lkf_ice_fesom_1950_241.npy to lkf_ice_fesom_1950_242.npy\n"
     ]
    },
    {
     "name": "stderr",
     "output_type": "stream",
     "text": [
      "/home/a/a270230/lkf_tools/lkf_tools/detection.py:589: RuntimeWarning: invalid value encountered in arccos\n",
      "  angle = np.arccos(angle)/np.pi*180\n"
     ]
    },
    {
     "name": "stdout",
     "output_type": "stream",
     "text": [
      "Track features in lkf_ice_fesom_1950_242.npy to lkf_ice_fesom_1950_243.npy\n",
      "Track features in lkf_ice_fesom_1950_243.npy to lkf_ice_fesom_1950_244.npy\n"
     ]
    },
    {
     "name": "stderr",
     "output_type": "stream",
     "text": [
      "/home/a/a270230/lkf_tools/lkf_tools/detection.py:589: RuntimeWarning: invalid value encountered in arccos\n",
      "  angle = np.arccos(angle)/np.pi*180\n"
     ]
    },
    {
     "name": "stdout",
     "output_type": "stream",
     "text": [
      "Track features in lkf_ice_fesom_1950_244.npy to lkf_ice_fesom_1950_245.npy\n",
      "Track features in lkf_ice_fesom_1950_245.npy to lkf_ice_fesom_1950_246.npy\n"
     ]
    },
    {
     "name": "stderr",
     "output_type": "stream",
     "text": [
      "/home/a/a270230/lkf_tools/lkf_tools/detection.py:589: RuntimeWarning: invalid value encountered in arccos\n",
      "  angle = np.arccos(angle)/np.pi*180\n"
     ]
    },
    {
     "name": "stdout",
     "output_type": "stream",
     "text": [
      "Track features in lkf_ice_fesom_1950_246.npy to lkf_ice_fesom_1950_247.npy\n"
     ]
    },
    {
     "name": "stderr",
     "output_type": "stream",
     "text": [
      "/home/a/a270230/lkf_tools/lkf_tools/detection.py:589: RuntimeWarning: invalid value encountered in arccos\n",
      "  angle = np.arccos(angle)/np.pi*180\n"
     ]
    },
    {
     "name": "stdout",
     "output_type": "stream",
     "text": [
      "Track features in lkf_ice_fesom_1950_247.npy to lkf_ice_fesom_1950_248.npy\n",
      "Track features in lkf_ice_fesom_1950_248.npy to lkf_ice_fesom_1950_249.npy\n"
     ]
    },
    {
     "name": "stderr",
     "output_type": "stream",
     "text": [
      "/home/a/a270230/lkf_tools/lkf_tools/detection.py:589: RuntimeWarning: invalid value encountered in arccos\n",
      "  angle = np.arccos(angle)/np.pi*180\n"
     ]
    },
    {
     "name": "stdout",
     "output_type": "stream",
     "text": [
      "Track features in lkf_ice_fesom_1950_249.npy to lkf_ice_fesom_1950_250.npy\n",
      "Track features in lkf_ice_fesom_1950_250.npy to lkf_ice_fesom_1950_251.npy\n"
     ]
    },
    {
     "name": "stderr",
     "output_type": "stream",
     "text": [
      "/home/a/a270230/lkf_tools/lkf_tools/detection.py:589: RuntimeWarning: invalid value encountered in arccos\n",
      "  angle = np.arccos(angle)/np.pi*180\n"
     ]
    },
    {
     "name": "stdout",
     "output_type": "stream",
     "text": [
      "Track features in lkf_ice_fesom_1950_251.npy to lkf_ice_fesom_1950_252.npy\n"
     ]
    },
    {
     "name": "stderr",
     "output_type": "stream",
     "text": [
      "/home/a/a270230/lkf_tools/lkf_tools/detection.py:589: RuntimeWarning: invalid value encountered in arccos\n",
      "  angle = np.arccos(angle)/np.pi*180\n"
     ]
    },
    {
     "name": "stdout",
     "output_type": "stream",
     "text": [
      "Track features in lkf_ice_fesom_1950_252.npy to lkf_ice_fesom_1950_253.npy\n",
      "Track features in lkf_ice_fesom_1950_253.npy to lkf_ice_fesom_1950_254.npy\n"
     ]
    },
    {
     "name": "stderr",
     "output_type": "stream",
     "text": [
      "/home/a/a270230/lkf_tools/lkf_tools/detection.py:589: RuntimeWarning: invalid value encountered in arccos\n",
      "  angle = np.arccos(angle)/np.pi*180\n"
     ]
    },
    {
     "name": "stdout",
     "output_type": "stream",
     "text": [
      "Track features in lkf_ice_fesom_1950_254.npy to lkf_ice_fesom_1950_255.npy\n",
      "Track features in lkf_ice_fesom_1950_255.npy to lkf_ice_fesom_1950_256.npy\n"
     ]
    },
    {
     "name": "stderr",
     "output_type": "stream",
     "text": [
      "/home/a/a270230/lkf_tools/lkf_tools/detection.py:589: RuntimeWarning: invalid value encountered in arccos\n",
      "  angle = np.arccos(angle)/np.pi*180\n"
     ]
    },
    {
     "name": "stdout",
     "output_type": "stream",
     "text": [
      "Track features in lkf_ice_fesom_1950_256.npy to lkf_ice_fesom_1950_257.npy\n",
      "Track features in lkf_ice_fesom_1950_257.npy to lkf_ice_fesom_1950_258.npy\n"
     ]
    },
    {
     "name": "stderr",
     "output_type": "stream",
     "text": [
      "/home/a/a270230/lkf_tools/lkf_tools/detection.py:589: RuntimeWarning: invalid value encountered in arccos\n",
      "  angle = np.arccos(angle)/np.pi*180\n"
     ]
    },
    {
     "name": "stdout",
     "output_type": "stream",
     "text": [
      "Track features in lkf_ice_fesom_1950_258.npy to lkf_ice_fesom_1950_259.npy\n"
     ]
    },
    {
     "name": "stderr",
     "output_type": "stream",
     "text": [
      "/home/a/a270230/lkf_tools/lkf_tools/detection.py:589: RuntimeWarning: invalid value encountered in arccos\n",
      "  angle = np.arccos(angle)/np.pi*180\n"
     ]
    },
    {
     "name": "stdout",
     "output_type": "stream",
     "text": [
      "Track features in lkf_ice_fesom_1950_259.npy to lkf_ice_fesom_1950_260.npy\n",
      "Track features in lkf_ice_fesom_1950_260.npy to lkf_ice_fesom_1950_261.npy\n"
     ]
    },
    {
     "name": "stderr",
     "output_type": "stream",
     "text": [
      "/home/a/a270230/lkf_tools/lkf_tools/detection.py:589: RuntimeWarning: invalid value encountered in arccos\n",
      "  angle = np.arccos(angle)/np.pi*180\n"
     ]
    },
    {
     "name": "stdout",
     "output_type": "stream",
     "text": [
      "Track features in lkf_ice_fesom_1950_261.npy to lkf_ice_fesom_1950_262.npy\n"
     ]
    },
    {
     "name": "stderr",
     "output_type": "stream",
     "text": [
      "/home/a/a270230/lkf_tools/lkf_tools/detection.py:589: RuntimeWarning: invalid value encountered in arccos\n",
      "  angle = np.arccos(angle)/np.pi*180\n"
     ]
    },
    {
     "name": "stdout",
     "output_type": "stream",
     "text": [
      "Track features in lkf_ice_fesom_1950_262.npy to lkf_ice_fesom_1950_263.npy\n",
      "Track features in lkf_ice_fesom_1950_263.npy to lkf_ice_fesom_1950_264.npy\n",
      "Track features in lkf_ice_fesom_1950_264.npy to lkf_ice_fesom_1950_265.npy\n"
     ]
    },
    {
     "name": "stderr",
     "output_type": "stream",
     "text": [
      "/home/a/a270230/lkf_tools/lkf_tools/detection.py:589: RuntimeWarning: invalid value encountered in arccos\n",
      "  angle = np.arccos(angle)/np.pi*180\n"
     ]
    },
    {
     "name": "stdout",
     "output_type": "stream",
     "text": [
      "Track features in lkf_ice_fesom_1950_265.npy to lkf_ice_fesom_1950_266.npy\n"
     ]
    },
    {
     "name": "stderr",
     "output_type": "stream",
     "text": [
      "/home/a/a270230/lkf_tools/lkf_tools/detection.py:589: RuntimeWarning: invalid value encountered in arccos\n",
      "  angle = np.arccos(angle)/np.pi*180\n"
     ]
    },
    {
     "name": "stdout",
     "output_type": "stream",
     "text": [
      "Track features in lkf_ice_fesom_1950_266.npy to lkf_ice_fesom_1950_267.npy\n"
     ]
    },
    {
     "name": "stderr",
     "output_type": "stream",
     "text": [
      "/home/a/a270230/lkf_tools/lkf_tools/detection.py:589: RuntimeWarning: invalid value encountered in arccos\n",
      "  angle = np.arccos(angle)/np.pi*180\n"
     ]
    },
    {
     "name": "stdout",
     "output_type": "stream",
     "text": [
      "Track features in lkf_ice_fesom_1950_267.npy to lkf_ice_fesom_1950_268.npy\n"
     ]
    },
    {
     "name": "stderr",
     "output_type": "stream",
     "text": [
      "/home/a/a270230/lkf_tools/lkf_tools/detection.py:589: RuntimeWarning: invalid value encountered in arccos\n",
      "  angle = np.arccos(angle)/np.pi*180\n"
     ]
    },
    {
     "name": "stdout",
     "output_type": "stream",
     "text": [
      "Track features in lkf_ice_fesom_1950_268.npy to lkf_ice_fesom_1950_269.npy\n",
      "Track features in lkf_ice_fesom_1950_269.npy to lkf_ice_fesom_1950_270.npy\n"
     ]
    },
    {
     "name": "stderr",
     "output_type": "stream",
     "text": [
      "/home/a/a270230/lkf_tools/lkf_tools/detection.py:589: RuntimeWarning: invalid value encountered in arccos\n",
      "  angle = np.arccos(angle)/np.pi*180\n"
     ]
    },
    {
     "name": "stdout",
     "output_type": "stream",
     "text": [
      "Track features in lkf_ice_fesom_1950_270.npy to lkf_ice_fesom_1950_271.npy\n"
     ]
    },
    {
     "name": "stderr",
     "output_type": "stream",
     "text": [
      "/home/a/a270230/lkf_tools/lkf_tools/detection.py:589: RuntimeWarning: invalid value encountered in arccos\n",
      "  angle = np.arccos(angle)/np.pi*180\n"
     ]
    },
    {
     "name": "stdout",
     "output_type": "stream",
     "text": [
      "Track features in lkf_ice_fesom_1950_271.npy to lkf_ice_fesom_1950_272.npy\n"
     ]
    },
    {
     "name": "stderr",
     "output_type": "stream",
     "text": [
      "/home/a/a270230/lkf_tools/lkf_tools/detection.py:589: RuntimeWarning: invalid value encountered in arccos\n",
      "  angle = np.arccos(angle)/np.pi*180\n"
     ]
    },
    {
     "name": "stdout",
     "output_type": "stream",
     "text": [
      "Track features in lkf_ice_fesom_1950_272.npy to lkf_ice_fesom_1950_273.npy\n",
      "Track features in lkf_ice_fesom_1950_273.npy to lkf_ice_fesom_1950_274.npy\n",
      "Track features in lkf_ice_fesom_1950_274.npy to lkf_ice_fesom_1950_275.npy\n"
     ]
    },
    {
     "name": "stderr",
     "output_type": "stream",
     "text": [
      "/home/a/a270230/lkf_tools/lkf_tools/detection.py:589: RuntimeWarning: invalid value encountered in arccos\n",
      "  angle = np.arccos(angle)/np.pi*180\n"
     ]
    },
    {
     "name": "stdout",
     "output_type": "stream",
     "text": [
      "Track features in lkf_ice_fesom_1950_275.npy to lkf_ice_fesom_1950_276.npy\n"
     ]
    },
    {
     "name": "stderr",
     "output_type": "stream",
     "text": [
      "/home/a/a270230/lkf_tools/lkf_tools/detection.py:589: RuntimeWarning: invalid value encountered in arccos\n",
      "  angle = np.arccos(angle)/np.pi*180\n"
     ]
    },
    {
     "name": "stdout",
     "output_type": "stream",
     "text": [
      "Track features in lkf_ice_fesom_1950_276.npy to lkf_ice_fesom_1950_277.npy\n"
     ]
    },
    {
     "name": "stderr",
     "output_type": "stream",
     "text": [
      "/home/a/a270230/lkf_tools/lkf_tools/detection.py:589: RuntimeWarning: invalid value encountered in arccos\n",
      "  angle = np.arccos(angle)/np.pi*180\n"
     ]
    },
    {
     "name": "stdout",
     "output_type": "stream",
     "text": [
      "Track features in lkf_ice_fesom_1950_277.npy to lkf_ice_fesom_1950_278.npy\n",
      "Track features in lkf_ice_fesom_1950_278.npy to lkf_ice_fesom_1950_279.npy\n"
     ]
    },
    {
     "name": "stderr",
     "output_type": "stream",
     "text": [
      "/home/a/a270230/lkf_tools/lkf_tools/detection.py:589: RuntimeWarning: invalid value encountered in arccos\n",
      "  angle = np.arccos(angle)/np.pi*180\n"
     ]
    },
    {
     "name": "stdout",
     "output_type": "stream",
     "text": [
      "Track features in lkf_ice_fesom_1950_279.npy to lkf_ice_fesom_1950_280.npy\n"
     ]
    },
    {
     "name": "stderr",
     "output_type": "stream",
     "text": [
      "/home/a/a270230/lkf_tools/lkf_tools/detection.py:589: RuntimeWarning: invalid value encountered in arccos\n",
      "  angle = np.arccos(angle)/np.pi*180\n"
     ]
    },
    {
     "name": "stdout",
     "output_type": "stream",
     "text": [
      "Track features in lkf_ice_fesom_1950_280.npy to lkf_ice_fesom_1950_281.npy\n"
     ]
    },
    {
     "name": "stderr",
     "output_type": "stream",
     "text": [
      "/home/a/a270230/lkf_tools/lkf_tools/detection.py:589: RuntimeWarning: invalid value encountered in arccos\n",
      "  angle = np.arccos(angle)/np.pi*180\n"
     ]
    },
    {
     "name": "stdout",
     "output_type": "stream",
     "text": [
      "Track features in lkf_ice_fesom_1950_281.npy to lkf_ice_fesom_1950_282.npy\n",
      "Track features in lkf_ice_fesom_1950_282.npy to lkf_ice_fesom_1950_283.npy\n",
      "Track features in lkf_ice_fesom_1950_283.npy to lkf_ice_fesom_1950_284.npy\n"
     ]
    },
    {
     "name": "stderr",
     "output_type": "stream",
     "text": [
      "/home/a/a270230/lkf_tools/lkf_tools/detection.py:589: RuntimeWarning: invalid value encountered in arccos\n",
      "  angle = np.arccos(angle)/np.pi*180\n"
     ]
    },
    {
     "name": "stdout",
     "output_type": "stream",
     "text": [
      "Track features in lkf_ice_fesom_1950_284.npy to lkf_ice_fesom_1950_285.npy\n"
     ]
    },
    {
     "name": "stderr",
     "output_type": "stream",
     "text": [
      "/home/a/a270230/lkf_tools/lkf_tools/detection.py:589: RuntimeWarning: invalid value encountered in arccos\n",
      "  angle = np.arccos(angle)/np.pi*180\n"
     ]
    },
    {
     "name": "stdout",
     "output_type": "stream",
     "text": [
      "Track features in lkf_ice_fesom_1950_285.npy to lkf_ice_fesom_1950_286.npy\n",
      "Track features in lkf_ice_fesom_1950_286.npy to lkf_ice_fesom_1950_287.npy\n",
      "Track features in lkf_ice_fesom_1950_287.npy to lkf_ice_fesom_1950_288.npy\n",
      "Track features in lkf_ice_fesom_1950_288.npy to lkf_ice_fesom_1950_289.npy\n",
      "Track features in lkf_ice_fesom_1950_289.npy to lkf_ice_fesom_1950_290.npy\n"
     ]
    },
    {
     "name": "stderr",
     "output_type": "stream",
     "text": [
      "/home/a/a270230/lkf_tools/lkf_tools/detection.py:589: RuntimeWarning: invalid value encountered in arccos\n",
      "  angle = np.arccos(angle)/np.pi*180\n"
     ]
    },
    {
     "name": "stdout",
     "output_type": "stream",
     "text": [
      "Track features in lkf_ice_fesom_1950_290.npy to lkf_ice_fesom_1950_291.npy\n",
      "Track features in lkf_ice_fesom_1950_291.npy to lkf_ice_fesom_1950_292.npy\n"
     ]
    },
    {
     "name": "stderr",
     "output_type": "stream",
     "text": [
      "/home/a/a270230/lkf_tools/lkf_tools/detection.py:589: RuntimeWarning: invalid value encountered in arccos\n",
      "  angle = np.arccos(angle)/np.pi*180\n"
     ]
    },
    {
     "name": "stdout",
     "output_type": "stream",
     "text": [
      "Track features in lkf_ice_fesom_1950_292.npy to lkf_ice_fesom_1950_293.npy\n",
      "Track features in lkf_ice_fesom_1950_293.npy to lkf_ice_fesom_1950_294.npy\n",
      "Track features in lkf_ice_fesom_1950_294.npy to lkf_ice_fesom_1950_295.npy\n"
     ]
    },
    {
     "name": "stderr",
     "output_type": "stream",
     "text": [
      "/home/a/a270230/lkf_tools/lkf_tools/detection.py:589: RuntimeWarning: invalid value encountered in arccos\n",
      "  angle = np.arccos(angle)/np.pi*180\n"
     ]
    },
    {
     "name": "stdout",
     "output_type": "stream",
     "text": [
      "Track features in lkf_ice_fesom_1950_295.npy to lkf_ice_fesom_1950_296.npy\n",
      "Track features in lkf_ice_fesom_1950_296.npy to lkf_ice_fesom_1950_297.npy\n"
     ]
    },
    {
     "name": "stderr",
     "output_type": "stream",
     "text": [
      "/home/a/a270230/lkf_tools/lkf_tools/detection.py:589: RuntimeWarning: invalid value encountered in arccos\n",
      "  angle = np.arccos(angle)/np.pi*180\n"
     ]
    },
    {
     "name": "stdout",
     "output_type": "stream",
     "text": [
      "Track features in lkf_ice_fesom_1950_297.npy to lkf_ice_fesom_1950_298.npy\n",
      "Track features in lkf_ice_fesom_1950_298.npy to lkf_ice_fesom_1950_299.npy\n"
     ]
    },
    {
     "name": "stderr",
     "output_type": "stream",
     "text": [
      "/home/a/a270230/lkf_tools/lkf_tools/detection.py:589: RuntimeWarning: invalid value encountered in arccos\n",
      "  angle = np.arccos(angle)/np.pi*180\n"
     ]
    },
    {
     "name": "stdout",
     "output_type": "stream",
     "text": [
      "Track features in lkf_ice_fesom_1950_299.npy to lkf_ice_fesom_1950_300.npy\n",
      "Track features in lkf_ice_fesom_1950_300.npy to lkf_ice_fesom_1950_301.npy\n"
     ]
    },
    {
     "name": "stderr",
     "output_type": "stream",
     "text": [
      "/home/a/a270230/lkf_tools/lkf_tools/detection.py:589: RuntimeWarning: invalid value encountered in arccos\n",
      "  angle = np.arccos(angle)/np.pi*180\n"
     ]
    },
    {
     "name": "stdout",
     "output_type": "stream",
     "text": [
      "Track features in lkf_ice_fesom_1950_301.npy to lkf_ice_fesom_1950_302.npy\n"
     ]
    },
    {
     "name": "stderr",
     "output_type": "stream",
     "text": [
      "/home/a/a270230/lkf_tools/lkf_tools/detection.py:589: RuntimeWarning: invalid value encountered in arccos\n",
      "  angle = np.arccos(angle)/np.pi*180\n"
     ]
    },
    {
     "name": "stdout",
     "output_type": "stream",
     "text": [
      "Track features in lkf_ice_fesom_1950_302.npy to lkf_ice_fesom_1950_303.npy\n",
      "Track features in lkf_ice_fesom_1950_303.npy to lkf_ice_fesom_1950_304.npy\n"
     ]
    },
    {
     "name": "stderr",
     "output_type": "stream",
     "text": [
      "/home/a/a270230/lkf_tools/lkf_tools/detection.py:589: RuntimeWarning: invalid value encountered in arccos\n",
      "  angle = np.arccos(angle)/np.pi*180\n"
     ]
    },
    {
     "name": "stdout",
     "output_type": "stream",
     "text": [
      "Track features in lkf_ice_fesom_1950_304.npy to lkf_ice_fesom_1950_305.npy\n"
     ]
    },
    {
     "name": "stderr",
     "output_type": "stream",
     "text": [
      "/home/a/a270230/lkf_tools/lkf_tools/detection.py:589: RuntimeWarning: invalid value encountered in arccos\n",
      "  angle = np.arccos(angle)/np.pi*180\n"
     ]
    },
    {
     "name": "stdout",
     "output_type": "stream",
     "text": [
      "Track features in lkf_ice_fesom_1950_305.npy to lkf_ice_fesom_1950_306.npy\n",
      "Track features in lkf_ice_fesom_1950_306.npy to lkf_ice_fesom_1950_307.npy\n"
     ]
    },
    {
     "name": "stderr",
     "output_type": "stream",
     "text": [
      "/home/a/a270230/lkf_tools/lkf_tools/detection.py:589: RuntimeWarning: invalid value encountered in arccos\n",
      "  angle = np.arccos(angle)/np.pi*180\n"
     ]
    },
    {
     "name": "stdout",
     "output_type": "stream",
     "text": [
      "Track features in lkf_ice_fesom_1950_307.npy to lkf_ice_fesom_1950_308.npy\n"
     ]
    },
    {
     "name": "stderr",
     "output_type": "stream",
     "text": [
      "/home/a/a270230/lkf_tools/lkf_tools/detection.py:589: RuntimeWarning: invalid value encountered in arccos\n",
      "  angle = np.arccos(angle)/np.pi*180\n"
     ]
    },
    {
     "name": "stdout",
     "output_type": "stream",
     "text": [
      "Track features in lkf_ice_fesom_1950_308.npy to lkf_ice_fesom_1950_309.npy\n"
     ]
    },
    {
     "name": "stderr",
     "output_type": "stream",
     "text": [
      "/home/a/a270230/lkf_tools/lkf_tools/detection.py:589: RuntimeWarning: invalid value encountered in arccos\n",
      "  angle = np.arccos(angle)/np.pi*180\n"
     ]
    },
    {
     "name": "stdout",
     "output_type": "stream",
     "text": [
      "Track features in lkf_ice_fesom_1950_309.npy to lkf_ice_fesom_1950_310.npy\n"
     ]
    },
    {
     "name": "stderr",
     "output_type": "stream",
     "text": [
      "/home/a/a270230/lkf_tools/lkf_tools/detection.py:589: RuntimeWarning: invalid value encountered in arccos\n",
      "  angle = np.arccos(angle)/np.pi*180\n"
     ]
    },
    {
     "name": "stdout",
     "output_type": "stream",
     "text": [
      "Track features in lkf_ice_fesom_1950_310.npy to lkf_ice_fesom_1950_311.npy\n",
      "Track features in lkf_ice_fesom_1950_311.npy to lkf_ice_fesom_1950_312.npy\n"
     ]
    },
    {
     "name": "stderr",
     "output_type": "stream",
     "text": [
      "/home/a/a270230/lkf_tools/lkf_tools/detection.py:589: RuntimeWarning: invalid value encountered in arccos\n",
      "  angle = np.arccos(angle)/np.pi*180\n"
     ]
    },
    {
     "name": "stdout",
     "output_type": "stream",
     "text": [
      "Track features in lkf_ice_fesom_1950_312.npy to lkf_ice_fesom_1950_313.npy\n"
     ]
    },
    {
     "name": "stderr",
     "output_type": "stream",
     "text": [
      "/home/a/a270230/lkf_tools/lkf_tools/detection.py:589: RuntimeWarning: invalid value encountered in arccos\n",
      "  angle = np.arccos(angle)/np.pi*180\n"
     ]
    },
    {
     "name": "stdout",
     "output_type": "stream",
     "text": [
      "Track features in lkf_ice_fesom_1950_313.npy to lkf_ice_fesom_1950_314.npy\n",
      "Track features in lkf_ice_fesom_1950_314.npy to lkf_ice_fesom_1950_315.npy\n"
     ]
    },
    {
     "name": "stderr",
     "output_type": "stream",
     "text": [
      "/home/a/a270230/lkf_tools/lkf_tools/detection.py:589: RuntimeWarning: invalid value encountered in arccos\n",
      "  angle = np.arccos(angle)/np.pi*180\n"
     ]
    },
    {
     "name": "stdout",
     "output_type": "stream",
     "text": [
      "Track features in lkf_ice_fesom_1950_315.npy to lkf_ice_fesom_1950_316.npy\n",
      "Track features in lkf_ice_fesom_1950_316.npy to lkf_ice_fesom_1950_317.npy\n"
     ]
    },
    {
     "name": "stderr",
     "output_type": "stream",
     "text": [
      "/home/a/a270230/lkf_tools/lkf_tools/detection.py:589: RuntimeWarning: invalid value encountered in arccos\n",
      "  angle = np.arccos(angle)/np.pi*180\n"
     ]
    },
    {
     "name": "stdout",
     "output_type": "stream",
     "text": [
      "Track features in lkf_ice_fesom_1950_317.npy to lkf_ice_fesom_1950_318.npy\n",
      "Track features in lkf_ice_fesom_1950_318.npy to lkf_ice_fesom_1950_319.npy\n",
      "Track features in lkf_ice_fesom_1950_319.npy to lkf_ice_fesom_1950_320.npy\n",
      "Track features in lkf_ice_fesom_1950_320.npy to lkf_ice_fesom_1950_321.npy\n",
      "Track features in lkf_ice_fesom_1950_321.npy to lkf_ice_fesom_1950_322.npy\n"
     ]
    },
    {
     "name": "stderr",
     "output_type": "stream",
     "text": [
      "/home/a/a270230/lkf_tools/lkf_tools/detection.py:589: RuntimeWarning: invalid value encountered in arccos\n",
      "  angle = np.arccos(angle)/np.pi*180\n"
     ]
    },
    {
     "name": "stdout",
     "output_type": "stream",
     "text": [
      "Track features in lkf_ice_fesom_1950_322.npy to lkf_ice_fesom_1950_323.npy\n"
     ]
    },
    {
     "name": "stderr",
     "output_type": "stream",
     "text": [
      "/home/a/a270230/lkf_tools/lkf_tools/detection.py:589: RuntimeWarning: invalid value encountered in arccos\n",
      "  angle = np.arccos(angle)/np.pi*180\n"
     ]
    },
    {
     "name": "stdout",
     "output_type": "stream",
     "text": [
      "Track features in lkf_ice_fesom_1950_323.npy to lkf_ice_fesom_1950_324.npy\n",
      "Track features in lkf_ice_fesom_1950_324.npy to lkf_ice_fesom_1950_325.npy\n"
     ]
    },
    {
     "name": "stderr",
     "output_type": "stream",
     "text": [
      "/home/a/a270230/lkf_tools/lkf_tools/detection.py:589: RuntimeWarning: invalid value encountered in arccos\n",
      "  angle = np.arccos(angle)/np.pi*180\n"
     ]
    },
    {
     "name": "stdout",
     "output_type": "stream",
     "text": [
      "Track features in lkf_ice_fesom_1950_325.npy to lkf_ice_fesom_1950_326.npy\n"
     ]
    },
    {
     "name": "stderr",
     "output_type": "stream",
     "text": [
      "/home/a/a270230/lkf_tools/lkf_tools/detection.py:589: RuntimeWarning: invalid value encountered in arccos\n",
      "  angle = np.arccos(angle)/np.pi*180\n"
     ]
    },
    {
     "name": "stdout",
     "output_type": "stream",
     "text": [
      "Track features in lkf_ice_fesom_1950_326.npy to lkf_ice_fesom_1950_327.npy\n"
     ]
    },
    {
     "name": "stderr",
     "output_type": "stream",
     "text": [
      "/home/a/a270230/lkf_tools/lkf_tools/detection.py:589: RuntimeWarning: invalid value encountered in arccos\n",
      "  angle = np.arccos(angle)/np.pi*180\n"
     ]
    },
    {
     "name": "stdout",
     "output_type": "stream",
     "text": [
      "Track features in lkf_ice_fesom_1950_327.npy to lkf_ice_fesom_1950_328.npy\n",
      "Track features in lkf_ice_fesom_1950_328.npy to lkf_ice_fesom_1950_329.npy\n",
      "Track features in lkf_ice_fesom_1950_329.npy to lkf_ice_fesom_1950_330.npy\n"
     ]
    },
    {
     "name": "stderr",
     "output_type": "stream",
     "text": [
      "/home/a/a270230/lkf_tools/lkf_tools/detection.py:589: RuntimeWarning: invalid value encountered in arccos\n",
      "  angle = np.arccos(angle)/np.pi*180\n"
     ]
    },
    {
     "name": "stdout",
     "output_type": "stream",
     "text": [
      "Track features in lkf_ice_fesom_1950_330.npy to lkf_ice_fesom_1950_331.npy\n",
      "Track features in lkf_ice_fesom_1950_331.npy to lkf_ice_fesom_1950_332.npy\n",
      "Track features in lkf_ice_fesom_1950_332.npy to lkf_ice_fesom_1950_333.npy\n"
     ]
    },
    {
     "name": "stderr",
     "output_type": "stream",
     "text": [
      "/home/a/a270230/lkf_tools/lkf_tools/detection.py:589: RuntimeWarning: invalid value encountered in arccos\n",
      "  angle = np.arccos(angle)/np.pi*180\n"
     ]
    },
    {
     "name": "stdout",
     "output_type": "stream",
     "text": [
      "Track features in lkf_ice_fesom_1950_333.npy to lkf_ice_fesom_1950_334.npy\n",
      "Track features in lkf_ice_fesom_1950_334.npy to lkf_ice_fesom_1950_335.npy\n"
     ]
    },
    {
     "name": "stderr",
     "output_type": "stream",
     "text": [
      "/home/a/a270230/lkf_tools/lkf_tools/detection.py:589: RuntimeWarning: invalid value encountered in arccos\n",
      "  angle = np.arccos(angle)/np.pi*180\n"
     ]
    },
    {
     "name": "stdout",
     "output_type": "stream",
     "text": [
      "Track features in lkf_ice_fesom_1950_335.npy to lkf_ice_fesom_1950_336.npy\n",
      "Track features in lkf_ice_fesom_1950_336.npy to lkf_ice_fesom_1950_337.npy\n",
      "Track features in lkf_ice_fesom_1950_337.npy to lkf_ice_fesom_1950_338.npy\n"
     ]
    },
    {
     "name": "stderr",
     "output_type": "stream",
     "text": [
      "/home/a/a270230/lkf_tools/lkf_tools/detection.py:589: RuntimeWarning: invalid value encountered in arccos\n",
      "  angle = np.arccos(angle)/np.pi*180\n"
     ]
    },
    {
     "name": "stdout",
     "output_type": "stream",
     "text": [
      "Track features in lkf_ice_fesom_1950_338.npy to lkf_ice_fesom_1950_339.npy\n"
     ]
    },
    {
     "name": "stderr",
     "output_type": "stream",
     "text": [
      "/home/a/a270230/lkf_tools/lkf_tools/detection.py:589: RuntimeWarning: invalid value encountered in arccos\n",
      "  angle = np.arccos(angle)/np.pi*180\n"
     ]
    },
    {
     "name": "stdout",
     "output_type": "stream",
     "text": [
      "Track features in lkf_ice_fesom_1950_339.npy to lkf_ice_fesom_1950_340.npy\n",
      "Track features in lkf_ice_fesom_1950_340.npy to lkf_ice_fesom_1950_341.npy\n"
     ]
    },
    {
     "name": "stderr",
     "output_type": "stream",
     "text": [
      "/home/a/a270230/lkf_tools/lkf_tools/detection.py:589: RuntimeWarning: invalid value encountered in arccos\n",
      "  angle = np.arccos(angle)/np.pi*180\n"
     ]
    },
    {
     "name": "stdout",
     "output_type": "stream",
     "text": [
      "Track features in lkf_ice_fesom_1950_341.npy to lkf_ice_fesom_1950_342.npy\n",
      "Track features in lkf_ice_fesom_1950_342.npy to lkf_ice_fesom_1950_343.npy\n",
      "Track features in lkf_ice_fesom_1950_343.npy to lkf_ice_fesom_1950_344.npy\n"
     ]
    },
    {
     "name": "stderr",
     "output_type": "stream",
     "text": [
      "/home/a/a270230/lkf_tools/lkf_tools/detection.py:589: RuntimeWarning: invalid value encountered in arccos\n",
      "  angle = np.arccos(angle)/np.pi*180\n"
     ]
    },
    {
     "name": "stdout",
     "output_type": "stream",
     "text": [
      "Track features in lkf_ice_fesom_1950_344.npy to lkf_ice_fesom_1950_345.npy\n",
      "Track features in lkf_ice_fesom_1950_345.npy to lkf_ice_fesom_1950_346.npy\n"
     ]
    },
    {
     "name": "stderr",
     "output_type": "stream",
     "text": [
      "/home/a/a270230/lkf_tools/lkf_tools/detection.py:589: RuntimeWarning: invalid value encountered in arccos\n",
      "  angle = np.arccos(angle)/np.pi*180\n"
     ]
    },
    {
     "name": "stdout",
     "output_type": "stream",
     "text": [
      "Track features in lkf_ice_fesom_1950_346.npy to lkf_ice_fesom_1950_347.npy\n",
      "Track features in lkf_ice_fesom_1950_347.npy to lkf_ice_fesom_1950_348.npy\n",
      "Track features in lkf_ice_fesom_1950_348.npy to lkf_ice_fesom_1950_349.npy\n"
     ]
    },
    {
     "name": "stderr",
     "output_type": "stream",
     "text": [
      "/home/a/a270230/lkf_tools/lkf_tools/detection.py:589: RuntimeWarning: invalid value encountered in arccos\n",
      "  angle = np.arccos(angle)/np.pi*180\n"
     ]
    },
    {
     "name": "stdout",
     "output_type": "stream",
     "text": [
      "Track features in lkf_ice_fesom_1950_349.npy to lkf_ice_fesom_1950_350.npy\n"
     ]
    },
    {
     "name": "stderr",
     "output_type": "stream",
     "text": [
      "/home/a/a270230/lkf_tools/lkf_tools/detection.py:589: RuntimeWarning: invalid value encountered in arccos\n",
      "  angle = np.arccos(angle)/np.pi*180\n"
     ]
    },
    {
     "name": "stdout",
     "output_type": "stream",
     "text": [
      "Track features in lkf_ice_fesom_1950_350.npy to lkf_ice_fesom_1950_351.npy\n"
     ]
    },
    {
     "name": "stderr",
     "output_type": "stream",
     "text": [
      "/home/a/a270230/lkf_tools/lkf_tools/detection.py:589: RuntimeWarning: invalid value encountered in arccos\n",
      "  angle = np.arccos(angle)/np.pi*180\n"
     ]
    },
    {
     "name": "stdout",
     "output_type": "stream",
     "text": [
      "Track features in lkf_ice_fesom_1950_351.npy to lkf_ice_fesom_1950_352.npy\n",
      "Track features in lkf_ice_fesom_1950_352.npy to lkf_ice_fesom_1950_353.npy\n",
      "Track features in lkf_ice_fesom_1950_353.npy to lkf_ice_fesom_1950_354.npy\n"
     ]
    },
    {
     "name": "stderr",
     "output_type": "stream",
     "text": [
      "/home/a/a270230/lkf_tools/lkf_tools/detection.py:589: RuntimeWarning: invalid value encountered in arccos\n",
      "  angle = np.arccos(angle)/np.pi*180\n"
     ]
    },
    {
     "name": "stdout",
     "output_type": "stream",
     "text": [
      "Track features in lkf_ice_fesom_1950_354.npy to lkf_ice_fesom_1950_355.npy\n",
      "Track features in lkf_ice_fesom_1950_355.npy to lkf_ice_fesom_1950_356.npy\n"
     ]
    },
    {
     "name": "stderr",
     "output_type": "stream",
     "text": [
      "/home/a/a270230/lkf_tools/lkf_tools/detection.py:589: RuntimeWarning: invalid value encountered in arccos\n",
      "  angle = np.arccos(angle)/np.pi*180\n"
     ]
    },
    {
     "name": "stdout",
     "output_type": "stream",
     "text": [
      "Track features in lkf_ice_fesom_1950_356.npy to lkf_ice_fesom_1950_357.npy\n"
     ]
    },
    {
     "name": "stderr",
     "output_type": "stream",
     "text": [
      "/home/a/a270230/lkf_tools/lkf_tools/detection.py:589: RuntimeWarning: invalid value encountered in arccos\n",
      "  angle = np.arccos(angle)/np.pi*180\n"
     ]
    },
    {
     "name": "stdout",
     "output_type": "stream",
     "text": [
      "Track features in lkf_ice_fesom_1950_357.npy to lkf_ice_fesom_1950_358.npy\n",
      "Track features in lkf_ice_fesom_1950_358.npy to lkf_ice_fesom_1950_359.npy\n",
      "Track features in lkf_ice_fesom_1950_359.npy to lkf_ice_fesom_1950_360.npy\n",
      "Track features in lkf_ice_fesom_1950_360.npy to lkf_ice_fesom_1950_361.npy\n",
      "Track features in lkf_ice_fesom_1950_361.npy to lkf_ice_fesom_1950_362.npy\n"
     ]
    },
    {
     "name": "stderr",
     "output_type": "stream",
     "text": [
      "/home/a/a270230/lkf_tools/lkf_tools/detection.py:589: RuntimeWarning: invalid value encountered in arccos\n",
      "  angle = np.arccos(angle)/np.pi*180\n"
     ]
    },
    {
     "name": "stdout",
     "output_type": "stream",
     "text": [
      "Track features in lkf_ice_fesom_1950_362.npy to lkf_ice_fesom_1950_363.npy\n",
      "Track features in lkf_ice_fesom_1950_363.npy to lkf_ice_fesom_1950_364.npy\n",
      "Track features in lkf_ice_fesom_1950_364.npy to lkf_ice_fesom_1950_365.npy\n",
      "CPU times: user 48min 56s, sys: 7.63 s, total: 49min 3s\n",
      "Wall time: 49min 13s\n"
     ]
    }
   ],
   "source": [
    "%%time\n",
    "lkf_data.track_lkfs(indexes=np.arange(364))"
   ]
  },
  {
   "cell_type": "code",
   "execution_count": 5,
   "id": "8d5ea2b7-03e7-4409-8739-2ff76de7d880",
   "metadata": {},
   "outputs": [],
   "source": [
    "dill.dump(lkf_data, file = open(f\"data/lkf_datasets/ice_fesom_1950.pickle\", \"wb\"))"
   ]
  },
  {
   "cell_type": "code",
   "execution_count": null,
   "id": "cb5b30a4-fa61-4dec-aa1c-f01e19bc3a37",
   "metadata": {},
   "outputs": [],
   "source": []
  }
 ],
 "metadata": {
  "kernelspec": {
   "display_name": "lkf_tools",
   "language": "python",
   "name": "lkf_tools"
  },
  "language_info": {
   "codemirror_mode": {
    "name": "ipython",
    "version": 3
   },
   "file_extension": ".py",
   "mimetype": "text/x-python",
   "name": "python",
   "nbconvert_exporter": "python",
   "pygments_lexer": "ipython3",
   "version": "3.11.4"
  }
 },
 "nbformat": 4,
 "nbformat_minor": 5
}
