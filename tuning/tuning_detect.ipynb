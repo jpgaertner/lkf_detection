{
 "cells": [
  {
   "cell_type": "code",
   "execution_count": 19,
   "id": "266de7cc-a7f5-442a-9ff1-485f3ddf218b",
   "metadata": {
    "tags": []
   },
   "outputs": [
    {
     "name": "stdout",
     "output_type": "stream",
     "text": [
      "The autoreload extension is already loaded. To reload it, use:\n",
      "  %reload_ext autoreload\n"
     ]
    }
   ],
   "source": [
    "%load_ext autoreload\n",
    "%autoreload 2\n",
    "import numpy as np\n",
    "import sys\n",
    "sys.path.insert(1, '/p/project/chhb19/gaertner2/lkf_tools/lkf_tools/')\n",
    "from dataset import *\n",
    "import warnings\n",
    "warnings.filterwarnings('ignore')"
   ]
  },
  {
   "cell_type": "code",
   "execution_count": 20,
   "id": "a78bf8f5-f5ce-4772-9260-64f7eea0e9eb",
   "metadata": {
    "tags": []
   },
   "outputs": [],
   "source": [
    "path = '/p/project/chhb19/gaertner2/data/awicm_cvmix/'\n",
    "path_ds = path + 'datasets_tuning/'\n",
    "path_lkfs = path + 'lkfs_tuning/'\n",
    "\n",
    "path_scratch = '/p/scratch/chhb19/gaertner2/'\n",
    "path_nc = path_scratch + 'interpolated_fesom_output/1km/'"
   ]
  },
  {
   "cell_type": "code",
   "execution_count": 23,
   "id": "5e2d8b62-f605-4f82-a6a2-c727f4802dcf",
   "metadata": {
    "tags": []
   },
   "outputs": [
    {
     "name": "stdout",
     "output_type": "stream",
     "text": [
      "Warning: DXU and DYU are missing in netcdf file!\n",
      "  -->  Compute dxu and dyu from lon,lat using SSMI projection\n",
      "Compute deformation rates and detect features for day 1\n",
      "Start detection routines\n",
      "Compute deformation rates and detect features for day 16\n",
      "Start detection routines\n",
      "Compute deformation rates and detect features for day 31\n",
      "Start detection routines\n",
      "Compute deformation rates and detect features for day 46\n",
      "Start detection routines\n",
      "Compute deformation rates and detect features for day 61\n",
      "Start detection routines\n",
      "Compute deformation rates and detect features for day 76\n",
      "Start detection routines\n",
      "Compute deformation rates and detect features for day 91\n",
      "Start detection routines\n",
      "Compute deformation rates and detect features for day 106\n",
      "Start detection routines\n",
      "Compute deformation rates and detect features for day 121\n",
      "Start detection routines\n",
      "Compute deformation rates and detect features for day 136\n",
      "Start detection routines\n",
      "Compute deformation rates and detect features for day 151\n",
      "Start detection routines\n",
      "Compute deformation rates and detect features for day 166\n",
      "Start detection routines\n",
      "Compute deformation rates and detect features for day 181\n",
      "Start detection routines\n",
      "Compute deformation rates and detect features for day 196\n",
      "Start detection routines\n",
      "Compute deformation rates and detect features for day 211\n",
      "Start detection routines\n",
      "Compute deformation rates and detect features for day 226\n",
      "Start detection routines\n",
      "Compute deformation rates and detect features for day 241\n",
      "Start detection routines\n",
      "Compute deformation rates and detect features for day 256\n",
      "Start detection routines\n",
      "Compute deformation rates and detect features for day 271\n",
      "Start detection routines\n",
      "Compute deformation rates and detect features for day 286\n",
      "Start detection routines\n",
      "Compute deformation rates and detect features for day 301\n",
      "Start detection routines\n",
      "Compute deformation rates and detect features for day 316\n",
      "Start detection routines\n",
      "Compute deformation rates and detect features for day 331\n",
      "Start detection routines\n",
      "Compute deformation rates and detect features for day 346\n",
      "Start detection routines\n",
      "Compute deformation rates and detect features for day 361\n",
      "Start detection routines\n"
     ]
    }
   ],
   "source": [
    "year = 2015\n",
    "\n",
    "dog = 20.0\n",
    "thresh = 0.7\n",
    "\n",
    "### use_eps = False for dogs like 25, use_eps=True for dogs like 0.05 ###\n",
    "\n",
    "lkf_data = process_dataset(netcdf_file = path_nc + f'1km_{year}.nc',\n",
    "                           output_path = path_lkfs + f'dog{dog}_new{thresh}',\n",
    "                           dog_thres = dog, aice_thresh = thresh,\n",
    "                           t_red = 1)\n",
    "\n",
    "lkf_data.detect_lkfs(indexes=np.arange(0,365,15), use_eps=False)\n",
    "\n",
    "np.save(path_ds + f'ds_F{dog}_{thresh}_{year}_new', [lkf_data])"
   ]
  },
  {
   "cell_type": "code",
   "execution_count": null,
   "id": "05b71e32-8310-449f-af7e-443d9c7dd498",
   "metadata": {},
   "outputs": [],
   "source": []
  }
 ],
 "metadata": {
  "kernelspec": {
   "display_name": "gaertner2_lkf_tools",
   "language": "python",
   "name": "gaertner2_lkf_tools"
  },
  "language_info": {
   "codemirror_mode": {
    "name": "ipython",
    "version": 3
   },
   "file_extension": ".py",
   "mimetype": "text/x-python",
   "name": "python",
   "nbconvert_exporter": "python",
   "pygments_lexer": "ipython3",
   "version": "3.10.4"
  }
 },
 "nbformat": 4,
 "nbformat_minor": 5
}
