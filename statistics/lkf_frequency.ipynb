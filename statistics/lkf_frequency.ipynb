{
 "cells": [
  {
   "cell_type": "code",
   "execution_count": 37,
   "id": "a20900c8-c8cc-4e7d-85d4-56f2f675621b",
   "metadata": {
    "tags": []
   },
   "outputs": [],
   "source": [
    "%reload_ext autoreload\n",
    "%autoreload 2\n",
    "import sys\n",
    "sys.path.insert(1, '/p/project/chhb19/gaertner2/lkf_detection/functions/')\n",
    "from statistics_functions import *\n",
    "sys.path.insert(1, '/p/project/chhb19/gaertner2/lkf_tools/lkf_tools/')\n",
    "from dataset import *\n",
    "import numpy as np\n",
    "import warnings\n",
    "warnings.filterwarnings('ignore')"
   ]
  },
  {
   "cell_type": "code",
   "execution_count": 38,
   "id": "1ae43946-17a1-4bb3-a1a8-3066a89c6614",
   "metadata": {
    "tags": []
   },
   "outputs": [],
   "source": [
    "path = '/p/project/chhb19/gaertner2/data/awicm_cvmix/'\n",
    "path_nc = '/p/scratch/chhb19/gaertner2/interpolated_fesom_output/'\n",
    "path_ds = path + 'datasets/'\n",
    "path_imgs = path + 'imgs/'"
   ]
  },
  {
   "cell_type": "markdown",
   "id": "cb3edeab-c903-42da-a6bc-0d83b9a709eb",
   "metadata": {
    "tags": []
   },
   "source": [
    "# Calculate LKF frequency"
   ]
  },
  {
   "cell_type": "markdown",
   "id": "c068aa35-6d78-4b03-b57d-fa2969b57034",
   "metadata": {},
   "source": [
    "For this, just the detection has to be done. This is independet of other metrics and notebooks. It is only saved to the LKF_map.npy file."
   ]
  },
  {
   "cell_type": "code",
   "execution_count": 49,
   "id": "e2dd1845-21a4-42ee-ad23-e8832c3938a9",
   "metadata": {
    "tags": []
   },
   "outputs": [],
   "source": [
    "years = [2013, 2015, 2017, 2019, 2020,\n",
    "         2093, 2094, 2095, 2096, 2097, 2100]"
   ]
  },
  {
   "cell_type": "code",
   "execution_count": 50,
   "id": "96994262-f046-4518-9255-6bbf438e8ee0",
   "metadata": {
    "tags": []
   },
   "outputs": [],
   "source": [
    "datasets = [np.load(path_ds + f'ds_{year}.npy', allow_pickle=True)[0] for year in years]"
   ]
  },
  {
   "cell_type": "code",
   "execution_count": 51,
   "id": "d72d6153-2227-4425-9297-464b48f5f26d",
   "metadata": {
    "tags": []
   },
   "outputs": [],
   "source": [
    "res_km = get_res_km(datasets[0])\n",
    "mask = np.where(np.isnan(datasets[0].calc_eps(0)[1]), np.nan, 1)\n",
    "\n",
    "coarse_grid_box_size_km = 25"
   ]
  },
  {
   "cell_type": "code",
   "execution_count": 52,
   "id": "5ec855d7-92c0-4e61-8232-079c347e3d63",
   "metadata": {
    "tags": []
   },
   "outputs": [
    {
     "name": "stdout",
     "output_type": "stream",
     "text": [
      ".\n",
      ".\n",
      ".\n",
      ".\n",
      ".\n",
      ".\n",
      ".\n",
      ".\n",
      ".\n",
      ".\n",
      ".\n",
      "CPU times: user 22min 52s, sys: 16.7 s, total: 23min 9s\n",
      "Wall time: 23min 27s\n"
     ]
    }
   ],
   "source": [
    "%%time\n",
    "LKF_map = []\n",
    "for lkf_data in datasets:\n",
    "    LKF_map_ds = []\n",
    "    for i in range(365):\n",
    "        LKF_map_ds += coarse_graining(lkf_data.finetuning(i=i, dog_thres=0.1, plot=False), coarse_grid_box_size_km, res_km),\n",
    "    LKF_map += LKF_map_ds,\n",
    "    print('.')"
   ]
  },
  {
   "cell_type": "code",
   "execution_count": 53,
   "id": "bae06c59-231e-464f-9155-3a15f4115ec0",
   "metadata": {
    "tags": []
   },
   "outputs": [],
   "source": [
    "days = np.append([0], xticks)"
   ]
  },
  {
   "cell_type": "code",
   "execution_count": 54,
   "id": "3167b7da-3b71-4512-9dec-88e86422feaa",
   "metadata": {
    "tags": []
   },
   "outputs": [],
   "source": [
    "LKF_map_monthly = []\n",
    "for LKF_map_dataset in LKF_map:\n",
    "    \n",
    "    LKF_map_monthly_y = []\n",
    "    for startday, endday in zip(days, np.roll(days,-1)):\n",
    "        \n",
    "        tmp = []\n",
    "        for i in range(startday, endday):\n",
    "            \n",
    "            tmp += LKF_map_dataset[i],\n",
    "        LKF_map_monthly_y += np.sum(tmp,axis=0)/(endday-startday)*mask,\n",
    "        \n",
    "    del LKF_map_monthly_y[-1] # this is to delete the day=365 to day=0 element\n",
    "    LKF_map_monthly += LKF_map_monthly_y,"
   ]
  },
  {
   "cell_type": "code",
   "execution_count": 55,
   "id": "3880d880-9d81-47bd-9df4-ef1c576c8f9d",
   "metadata": {
    "tags": []
   },
   "outputs": [
    {
     "data": {
      "text/plain": [
       "(11, 12, 752, 939)"
      ]
     },
     "execution_count": 55,
     "metadata": {},
     "output_type": "execute_result"
    }
   ],
   "source": [
    "np.shape(LKF_map_monthly)"
   ]
  },
  {
   "cell_type": "code",
   "execution_count": 56,
   "id": "a9ef72f0-24e3-4bdd-9cc6-b70e89b60ae7",
   "metadata": {
    "tags": []
   },
   "outputs": [],
   "source": [
    "np.save('/p/scratch/chhb19/gaertner2/LKF_map_monthly_d01', LKF_map_monthly)"
   ]
  },
  {
   "cell_type": "code",
   "execution_count": null,
   "id": "b2267279-c8fb-4eff-85ba-cf7b45a88cb8",
   "metadata": {},
   "outputs": [],
   "source": []
  }
 ],
 "metadata": {
  "kernelspec": {
   "display_name": "gaertner2_lkf_tools",
   "language": "python",
   "name": "gaertner2_lkf_tools"
  },
  "language_info": {
   "codemirror_mode": {
    "name": "ipython",
    "version": 3
   },
   "file_extension": ".py",
   "mimetype": "text/x-python",
   "name": "python",
   "nbconvert_exporter": "python",
   "pygments_lexer": "ipython3",
   "version": "3.10.4"
  }
 },
 "nbformat": 4,
 "nbformat_minor": 5
}
