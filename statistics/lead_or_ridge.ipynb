{
 "cells": [
  {
   "cell_type": "code",
   "execution_count": 1,
   "id": "4da52979-846b-4865-8e94-27d76e251ad3",
   "metadata": {
    "tags": []
   },
   "outputs": [],
   "source": [
    "%reload_ext autoreload\n",
    "%autoreload 2\n",
    "import sys\n",
    "sys.path.insert(1, '/p/project/chhb19/gaertner2/lkf_detection/functions/')\n",
    "from statistics_functions import *\n",
    "import numpy as np\n",
    "import warnings\n",
    "warnings.filterwarnings('ignore')"
   ]
  },
  {
   "cell_type": "code",
   "execution_count": 2,
   "id": "d659f6fa-1280-4868-904a-0a9cd2fd7d6c",
   "metadata": {
    "tags": []
   },
   "outputs": [],
   "source": [
    "path = '/p/project/chhb19/gaertner2/data/awicm_cvmix/'"
   ]
  },
  {
   "cell_type": "code",
   "execution_count": 3,
   "id": "43762666-ae3b-4905-8dde-6830a2ac56ed",
   "metadata": {
    "tags": []
   },
   "outputs": [],
   "source": [
    "LKFs = np.load(path + 'LKFs.npy', allow_pickle=True)[0]"
   ]
  },
  {
   "cell_type": "code",
   "execution_count": 4,
   "id": "60fbb277-03c5-4880-9afe-df3ab758256b",
   "metadata": {
    "tags": []
   },
   "outputs": [],
   "source": [
    "[years, lkfs, paths, paths_all] = np.load(path + 'data_lkfs_paths.npy', allow_pickle=True)"
   ]
  },
  {
   "cell_type": "code",
   "execution_count": 5,
   "id": "d4401be2-bc42-48a6-b416-fe27cf0b65af",
   "metadata": {
    "tags": []
   },
   "outputs": [],
   "source": [
    "for year in years:\n",
    "    \n",
    "    yr = np.where(years==year)[0][0]\n",
    "    for day in range(365):\n",
    "\n",
    "        eps_d, div_d, shr_d, vor_d = [], [], [], []\n",
    "        for lkf in lkfs[yr][day]:\n",
    "\n",
    "            div_d += np.mean(lkf[:,4]),\n",
    "            shr_d += np.mean(lkf[:,5]),\n",
    "            vor_d += np.mean(lkf[:,6]),\n",
    "\n",
    "        eps_d = np.sqrt(np.array(div_d)**2+np.array(shr_d)**2)\n",
    "\n",
    "        LKFs[f'y{year}'][f'd{day}']['deformation'] = eps_d\n",
    "        LKFs[f'y{year}'][f'd{day}']['divergence']  = div_d\n",
    "        LKFs[f'y{year}'][f'd{day}']['shear']       = shr_d\n",
    "        LKFs[f'y{year}'][f'd{day}']['vorticity']   = vor_d"
   ]
  },
  {
   "cell_type": "code",
   "execution_count": 6,
   "id": "06dea21b-7058-44be-a040-9fddf4e46e97",
   "metadata": {
    "tags": []
   },
   "outputs": [],
   "source": [
    "for year in years:\n",
    "    LKFs[f'y{year}']['d0']['lead or ridge'] = np.where(LKFs[f'y{year}']['d0']['divergence']<0, 1, 2)\n",
    "    \n",
    "    yr = np.where(years==year)[0][0]\n",
    "    for day in range(1,365):\n",
    "        \n",
    "        LKFs[f'y{year}'][f'd{day}']['lead or ridge'] = np.where(LKFs[f'y{year}'][f'd{day}']['divergence']<0, 1, 2)\n",
    "        for lkf in range(len(lkfs[yr][day])):\n",
    "            \n",
    "            for lkf_path in paths_all[0][0]:\n",
    "                if np.size(lkf_path)>1:\n",
    "                    if lkf_path[1] == lkf:\n",
    "                        LKFs[f'y{year}'][f'd{day}'].loc[lkf, 'lead or ridge'] = 3\n",
    "                        break"
   ]
  },
  {
   "cell_type": "code",
   "execution_count": 7,
   "id": "9237e9b1-4000-4215-bdd2-171c267ecd7a",
   "metadata": {
    "tags": []
   },
   "outputs": [],
   "source": [
    "np.save(path + 'LKFs', [LKFs])"
   ]
  },
  {
   "cell_type": "markdown",
   "id": "19ba4630-a82b-489e-b377-9c086987bd5b",
   "metadata": {},
   "source": [
    "1 = lead, 2 = ridge, 3 = can't tell (this is for longer lived LKFs: divergence<0 => lead only works on the first day of the LKF)"
   ]
  },
  {
   "cell_type": "code",
   "execution_count": 8,
   "id": "77cb4039-4941-40d2-a690-50c9eb389f9a",
   "metadata": {
    "tags": []
   },
   "outputs": [
    {
     "data": {
      "text/html": [
       "<div>\n",
       "<style scoped>\n",
       "    .dataframe tbody tr th:only-of-type {\n",
       "        vertical-align: middle;\n",
       "    }\n",
       "\n",
       "    .dataframe tbody tr th {\n",
       "        vertical-align: top;\n",
       "    }\n",
       "\n",
       "    .dataframe thead th {\n",
       "        text-align: right;\n",
       "    }\n",
       "</style>\n",
       "<table border=\"1\" class=\"dataframe\">\n",
       "  <thead>\n",
       "    <tr style=\"text-align: right;\">\n",
       "      <th></th>\n",
       "      <th>length</th>\n",
       "      <th>lifetime</th>\n",
       "      <th>deformation</th>\n",
       "      <th>divergence</th>\n",
       "      <th>shear</th>\n",
       "      <th>vorticity</th>\n",
       "      <th>lead or ridge</th>\n",
       "      <th>growth rate</th>\n",
       "      <th>curvature</th>\n",
       "    </tr>\n",
       "  </thead>\n",
       "  <tbody>\n",
       "    <tr>\n",
       "      <th>0</th>\n",
       "      <td>141.968791</td>\n",
       "      <td>1</td>\n",
       "      <td>0.501648</td>\n",
       "      <td>0.096004</td>\n",
       "      <td>0.492376</td>\n",
       "      <td>-0.113951</td>\n",
       "      <td>3</td>\n",
       "      <td>NaN</td>\n",
       "      <td>0.113380</td>\n",
       "    </tr>\n",
       "    <tr>\n",
       "      <th>1</th>\n",
       "      <td>46.227827</td>\n",
       "      <td>1</td>\n",
       "      <td>0.510144</td>\n",
       "      <td>-0.325587</td>\n",
       "      <td>0.392733</td>\n",
       "      <td>-0.145198</td>\n",
       "      <td>1</td>\n",
       "      <td>NaN</td>\n",
       "      <td>0.075819</td>\n",
       "    </tr>\n",
       "    <tr>\n",
       "      <th>2</th>\n",
       "      <td>52.362472</td>\n",
       "      <td>2</td>\n",
       "      <td>0.546260</td>\n",
       "      <td>0.322290</td>\n",
       "      <td>0.441055</td>\n",
       "      <td>0.075979</td>\n",
       "      <td>3</td>\n",
       "      <td>0.000000</td>\n",
       "      <td>0.073790</td>\n",
       "    </tr>\n",
       "    <tr>\n",
       "      <th>3</th>\n",
       "      <td>51.309933</td>\n",
       "      <td>1</td>\n",
       "      <td>1.584526</td>\n",
       "      <td>0.239210</td>\n",
       "      <td>1.566366</td>\n",
       "      <td>0.087489</td>\n",
       "      <td>2</td>\n",
       "      <td>NaN</td>\n",
       "      <td>0.054791</td>\n",
       "    </tr>\n",
       "    <tr>\n",
       "      <th>4</th>\n",
       "      <td>54.903525</td>\n",
       "      <td>1</td>\n",
       "      <td>0.399023</td>\n",
       "      <td>-0.273015</td>\n",
       "      <td>0.291001</td>\n",
       "      <td>0.074604</td>\n",
       "      <td>3</td>\n",
       "      <td>NaN</td>\n",
       "      <td>0.075228</td>\n",
       "    </tr>\n",
       "    <tr>\n",
       "      <th>...</th>\n",
       "      <td>...</td>\n",
       "      <td>...</td>\n",
       "      <td>...</td>\n",
       "      <td>...</td>\n",
       "      <td>...</td>\n",
       "      <td>...</td>\n",
       "      <td>...</td>\n",
       "      <td>...</td>\n",
       "      <td>...</td>\n",
       "    </tr>\n",
       "    <tr>\n",
       "      <th>826</th>\n",
       "      <td>74.360000</td>\n",
       "      <td>1</td>\n",
       "      <td>0.123426</td>\n",
       "      <td>0.048350</td>\n",
       "      <td>0.113562</td>\n",
       "      <td>0.039993</td>\n",
       "      <td>2</td>\n",
       "      <td>NaN</td>\n",
       "      <td>0.050362</td>\n",
       "    </tr>\n",
       "    <tr>\n",
       "      <th>827</th>\n",
       "      <td>85.576751</td>\n",
       "      <td>1</td>\n",
       "      <td>0.278532</td>\n",
       "      <td>0.201956</td>\n",
       "      <td>0.191818</td>\n",
       "      <td>0.004262</td>\n",
       "      <td>2</td>\n",
       "      <td>NaN</td>\n",
       "      <td>0.069463</td>\n",
       "    </tr>\n",
       "    <tr>\n",
       "      <th>828</th>\n",
       "      <td>72.999179</td>\n",
       "      <td>1</td>\n",
       "      <td>0.166901</td>\n",
       "      <td>-0.111329</td>\n",
       "      <td>0.124345</td>\n",
       "      <td>0.014354</td>\n",
       "      <td>1</td>\n",
       "      <td>NaN</td>\n",
       "      <td>0.041829</td>\n",
       "    </tr>\n",
       "    <tr>\n",
       "      <th>829</th>\n",
       "      <td>41.889978</td>\n",
       "      <td>1</td>\n",
       "      <td>0.161923</td>\n",
       "      <td>-0.111293</td>\n",
       "      <td>0.117613</td>\n",
       "      <td>-0.037202</td>\n",
       "      <td>1</td>\n",
       "      <td>NaN</td>\n",
       "      <td>0.073790</td>\n",
       "    </tr>\n",
       "    <tr>\n",
       "      <th>830</th>\n",
       "      <td>44.431031</td>\n",
       "      <td>2</td>\n",
       "      <td>2.038967</td>\n",
       "      <td>0.350717</td>\n",
       "      <td>2.008578</td>\n",
       "      <td>0.187601</td>\n",
       "      <td>2</td>\n",
       "      <td>40.093182</td>\n",
       "      <td>0.115913</td>\n",
       "    </tr>\n",
       "  </tbody>\n",
       "</table>\n",
       "<p>831 rows × 9 columns</p>\n",
       "</div>"
      ],
      "text/plain": [
       "         length lifetime  deformation  divergence     shear  vorticity  \\\n",
       "0    141.968791        1     0.501648    0.096004  0.492376  -0.113951   \n",
       "1     46.227827        1     0.510144   -0.325587  0.392733  -0.145198   \n",
       "2     52.362472        2     0.546260    0.322290  0.441055   0.075979   \n",
       "3     51.309933        1     1.584526    0.239210  1.566366   0.087489   \n",
       "4     54.903525        1     0.399023   -0.273015  0.291001   0.074604   \n",
       "..          ...      ...          ...         ...       ...        ...   \n",
       "826   74.360000        1     0.123426    0.048350  0.113562   0.039993   \n",
       "827   85.576751        1     0.278532    0.201956  0.191818   0.004262   \n",
       "828   72.999179        1     0.166901   -0.111329  0.124345   0.014354   \n",
       "829   41.889978        1     0.161923   -0.111293  0.117613  -0.037202   \n",
       "830   44.431031        2     2.038967    0.350717  2.008578   0.187601   \n",
       "\n",
       "     lead or ridge  growth rate  curvature  \n",
       "0                3          NaN   0.113380  \n",
       "1                1          NaN   0.075819  \n",
       "2                3     0.000000   0.073790  \n",
       "3                2          NaN   0.054791  \n",
       "4                3          NaN   0.075228  \n",
       "..             ...          ...        ...  \n",
       "826              2          NaN   0.050362  \n",
       "827              2          NaN   0.069463  \n",
       "828              1          NaN   0.041829  \n",
       "829              1          NaN   0.073790  \n",
       "830              2    40.093182   0.115913  \n",
       "\n",
       "[831 rows x 9 columns]"
      ]
     },
     "execution_count": 8,
     "metadata": {},
     "output_type": "execute_result"
    }
   ],
   "source": [
    "LKFs['y2013']['d176']"
   ]
  },
  {
   "cell_type": "code",
   "execution_count": null,
   "id": "92b56b84-cab5-4de7-9fe3-952c8f218a8c",
   "metadata": {},
   "outputs": [],
   "source": []
  }
 ],
 "metadata": {
  "kernelspec": {
   "display_name": "Python 3 (ipykernel)",
   "language": "python",
   "name": "python3"
  },
  "language_info": {
   "codemirror_mode": {
    "name": "ipython",
    "version": 3
   },
   "file_extension": ".py",
   "mimetype": "text/x-python",
   "name": "python",
   "nbconvert_exporter": "python",
   "pygments_lexer": "ipython3",
   "version": "3.10.4"
  }
 },
 "nbformat": 4,
 "nbformat_minor": 5
}
