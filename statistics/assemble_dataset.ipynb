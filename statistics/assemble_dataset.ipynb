{
 "cells": [
  {
   "cell_type": "code",
   "execution_count": 1,
   "id": "c5c2ca90-dd11-4090-85f0-dff2869cd457",
   "metadata": {
    "tags": []
   },
   "outputs": [],
   "source": [
    "%reload_ext autoreload\n",
    "%autoreload 2\n",
    "\n",
    "import numpy as np\n",
    "import os\n",
    "import xarray as xr\n",
    "import matplotlib.pyplot as plt\n",
    "plt.rcParams.update({'font.size': 20})\n",
    "from pathlib import Path\n",
    "from lkf_tools.dataset import *\n",
    "import warnings\n",
    "warnings.filterwarnings('ignore')"
   ]
  },
  {
   "cell_type": "code",
   "execution_count": 2,
   "id": "bf88d1ce-c41a-4f71-9bdd-284a7073340c",
   "metadata": {
    "tags": []
   },
   "outputs": [
    {
     "data": {
      "text/plain": [
       "['.ipynb_checkpoints',\n",
       " 'ds_2013.npy',\n",
       " 'ds_2014.npy',\n",
       " 'ds_2015.npy',\n",
       " 'ds_2016.npy',\n",
       " 'ds_2020.npy',\n",
       " 'ds_2093.npy',\n",
       " 'ds_2096.npy',\n",
       " 'ds_2099.npy',\n",
       " 'fesom_ifs']"
      ]
     },
     "execution_count": 2,
     "metadata": {},
     "output_type": "execute_result"
    }
   ],
   "source": [
    "base_path = '/work/bk1377/a270230/'\n",
    "\n",
    "path_ice  = base_path + 'interpolated_fesom_output/'\n",
    "path_lkfs = base_path + 'lkfs/daily_data/'\n",
    "path_ds   = base_path + 'lkf_datasets/daily_data/'\n",
    "\n",
    "files = os.listdir(path_ds)\n",
    "files.sort()\n",
    "files"
   ]
  },
  {
   "cell_type": "markdown",
   "id": "3502d680-0a83-4268-954c-8d08bc5a70bb",
   "metadata": {},
   "source": [
    "# Create new dataset"
   ]
  },
  {
   "cell_type": "code",
   "execution_count": 19,
   "id": "91b480fc-1be3-4d26-b54e-cab3e19ff7f8",
   "metadata": {
    "tags": []
   },
   "outputs": [],
   "source": [
    "year = 2093"
   ]
  },
  {
   "cell_type": "code",
   "execution_count": 14,
   "id": "6f6df86e-25cc-4e7e-a4b3-42c8cca22747",
   "metadata": {
    "tags": []
   },
   "outputs": [
    {
     "name": "stdout",
     "output_type": "stream",
     "text": [
      "Warning: DXU and DYU are missing in netcdf file!\n",
      "  -->  Compute dxu and dyu from lon,lat using SSMI projection\n"
     ]
    }
   ],
   "source": [
    "lkf_data = process_dataset(path_ice + f'ice_{year}.nc', output_path=path_lkfs, dog_thres=0.05, t_red=1, lmin=5)"
   ]
  },
  {
   "cell_type": "code",
   "execution_count": 15,
   "id": "0a2a42af-9b92-4103-9dae-c5763f7a0d41",
   "metadata": {
    "tags": []
   },
   "outputs": [
    {
     "name": "stdout",
     "output_type": "stream",
     "text": [
      "Compute deformation rates and detect features for day 1\n",
      "Start detection routines\n"
     ]
    }
   ],
   "source": [
    "lkf_data.detect_lkfs(indexes=[0])"
   ]
  },
  {
   "cell_type": "code",
   "execution_count": 16,
   "id": "4b1b1a2c-2f8d-4e1d-ac1d-6c071cc917e5",
   "metadata": {
    "tags": []
   },
   "outputs": [],
   "source": [
    "lkf_data.track_lkfs(indexes=[0])"
   ]
  },
  {
   "cell_type": "code",
   "execution_count": 17,
   "id": "8e596d42-8be8-4e33-b1dc-9498f0fc5e68",
   "metadata": {
    "tags": []
   },
   "outputs": [],
   "source": [
    "lkf_data.indexes = np.arange(len(xr.open_dataset(path_ice + f'ice_{year}.nc').time))"
   ]
  },
  {
   "cell_type": "code",
   "execution_count": 18,
   "id": "177093d4-af1e-4aa5-b2c0-733476191c99",
   "metadata": {
    "tags": []
   },
   "outputs": [],
   "source": [
    "np.save(path_ds + f'ds_{year}.npy', [lkf_data])"
   ]
  },
  {
   "cell_type": "markdown",
   "id": "36708bb3-6e0e-444d-aca0-96f2db148686",
   "metadata": {},
   "source": [
    "# Load the dataset to check for completion"
   ]
  },
  {
   "cell_type": "code",
   "execution_count": 20,
   "id": "ed0e448c-6a7d-4633-ad7f-fc7e35d5f858",
   "metadata": {
    "tags": []
   },
   "outputs": [],
   "source": [
    "lkf_data = np.load(path_ds + f'ds_{year}.npy', allow_pickle=True)[0]"
   ]
  },
  {
   "cell_type": "code",
   "execution_count": 21,
   "id": "2a6ae9d0-19c4-44eb-a016-16186f547041",
   "metadata": {
    "tags": []
   },
   "outputs": [
    {
     "data": {
      "text/plain": [
       "365"
      ]
     },
     "execution_count": 21,
     "metadata": {},
     "output_type": "execute_result"
    }
   ],
   "source": [
    "len(lkf_data.indexes)"
   ]
  },
  {
   "cell_type": "code",
   "execution_count": 22,
   "id": "ec565a46-7209-428b-9833-1640cce12e20",
   "metadata": {
    "tags": []
   },
   "outputs": [
    {
     "data": {
      "text/plain": [
       "PosixPath('/work/bk1377/a270230/lkfs/daily_data/ice_2093')"
      ]
     },
     "execution_count": 22,
     "metadata": {},
     "output_type": "execute_result"
    }
   ],
   "source": [
    "lkf_data.lkfpath"
   ]
  },
  {
   "cell_type": "code",
   "execution_count": 23,
   "id": "97a0ea01-0cdb-4384-9c08-f57950b06914",
   "metadata": {
    "tags": []
   },
   "outputs": [
    {
     "data": {
      "text/plain": [
       "PosixPath('/work/bk1377/a270230/lkfs/daily_data/ice_2093/tracked_pairs')"
      ]
     },
     "execution_count": 23,
     "metadata": {},
     "output_type": "execute_result"
    }
   ],
   "source": [
    "lkf_data.track_output_path"
   ]
  },
  {
   "cell_type": "code",
   "execution_count": null,
   "id": "31a78f8a-e6e4-4513-b539-2507d952b917",
   "metadata": {},
   "outputs": [],
   "source": []
  },
  {
   "cell_type": "code",
   "execution_count": null,
   "id": "a6214881-8876-4354-be6c-5ed4e21d9a8b",
   "metadata": {},
   "outputs": [],
   "source": []
  }
 ],
 "metadata": {
  "kernelspec": {
   "display_name": "lkf_tools",
   "language": "python",
   "name": "lkf_tools"
  },
  "language_info": {
   "codemirror_mode": {
    "name": "ipython",
    "version": 3
   },
   "file_extension": ".py",
   "mimetype": "text/x-python",
   "name": "python",
   "nbconvert_exporter": "python",
   "pygments_lexer": "ipython3",
   "version": "3.12.2"
  }
 },
 "nbformat": 4,
 "nbformat_minor": 5
}
