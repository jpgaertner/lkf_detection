{
 "cells": [
  {
   "cell_type": "code",
   "execution_count": 1,
   "id": "84ca6235-fa84-44c3-80d7-418d0f289e3c",
   "metadata": {},
   "outputs": [],
   "source": [
    "import numpy as np\n",
    "import xarray as xr\n",
    "import sys\n",
    "sys.path.insert(1, '../functions/')\n",
    "from statistics_functions import *\n",
    "from pyproj import Proj"
   ]
  },
  {
   "cell_type": "code",
   "execution_count": 2,
   "id": "391a63d9-c129-41f9-967e-4500b4ead045",
   "metadata": {},
   "outputs": [],
   "source": [
    "res = '1km'\n",
    "\n",
    "path_nc = f'/p/scratch/chhb19/gaertner2/interpolated_fesom_output/daily/{res}/'\n",
    "path_loc = '/p/project/chhb19/gaertner2/data/awicm_cvmix/'"
   ]
  },
  {
   "cell_type": "code",
   "execution_count": 3,
   "id": "86678286-2533-4e51-8615-b4302cd6e2b5",
   "metadata": {},
   "outputs": [],
   "source": [
    "def mask_arctic_basin(var):\n",
    "    \n",
    "    # generate Arctic Basin mask\n",
    "    mask = ((((lon > -120) & (lon < 100)) & (lat >= 80)) |\n",
    "            ((lon <= -120) & (lat >= 70)) |\n",
    "            ((lon >= 100) & (lat >= 70)))\n",
    "    index_x = np.where(np.sum(mask[1:-1,1:-1],axis=0)>0)\n",
    "    index_y = np.where(np.sum(mask[1:-1,1:-1],axis=1)>0)\n",
    "    \n",
    "    # shrink field and apply mask\n",
    "    if len(np.shape(var))==3:\n",
    "        var = var[:,1:-1, 1:-1]\n",
    "        var = np.where(mask[1:-1,1:-1], var, np.nan)\n",
    "        var = var[:,\n",
    "                  max([0,index_y[0][0]-1]):index_y[0][-1]+2,\n",
    "                  max([0,index_x[0][0]-1]):index_x[0][-1]+2]\n",
    "    else:\n",
    "        var = var[1:-1, 1:-1]\n",
    "        var = np.where(mask[1:-1,1:-1], var, np.nan)\n",
    "        var = var[max([0,index_y[0][0]-1]):index_y[0][-1]+2,\n",
    "                  max([0,index_x[0][0]-1]):index_x[0][-1]+2]\n",
    "    \n",
    "    return var"
   ]
  },
  {
   "cell_type": "code",
   "execution_count": 4,
   "id": "daa16626-963c-4cf7-937f-acf5ddc96268",
   "metadata": {},
   "outputs": [],
   "source": [
    "# calculate spatial resolution\n",
    "file = xr.open_dataset(path_nc + f'2013_{res}.nc')\n",
    "\n",
    "lon = file.ULON\n",
    "lat = file.ULAT\n",
    "\n",
    "m = Proj(proj='stere',lat_0=90, lat_ts=70, lon_0=-45, ellps='WGS84')\n",
    "\n",
    "x, y = m(lon, lat)\n",
    "dxu = np.sqrt((x[:,1:]-x[:,:-1])**2 + (y[:,1:]-y[:,:-1])**2)\n",
    "dxu = np.concatenate([dxu,dxu[:,-1].reshape((dxu.shape[0],1))],axis=1)\n",
    "dyu = np.sqrt((x[1:,:]-x[:-1,:])**2 + (y[1:,:]-y[:-1,:])**2)\n",
    "dyu = np.concatenate([dyu,dyu[-1,:].reshape((1,dyu.shape[1]))],axis=0)\n",
    "\n",
    "dxu = mask_arctic_basin(dxu)\n",
    "dyu = mask_arctic_basin(dyu)\n",
    "\n",
    "res_km = 0.5 * (np.nanmean(dxu) + np.nanmean(dyu)) / 1000"
   ]
  },
  {
   "cell_type": "code",
   "execution_count": 5,
   "id": "f80b0ad2-23ee-444e-b805-9a9ef52d2211",
   "metadata": {},
   "outputs": [],
   "source": [
    "years = [i for i in range(2013, 2021)]\n",
    "years += [i for i in range(2093, 2101)]"
   ]
  },
  {
   "cell_type": "code",
   "execution_count": 6,
   "id": "16e5a493-9c51-49f9-b9bd-58c8f6624193",
   "metadata": {},
   "outputs": [],
   "source": [
    "[aice_mean, area_total, hice_mean, vol_total] = [[] for _ in range(4)]\n",
    "for year in years:\n",
    "    file = xr.open_dataset(path_nc + f'{year}_{res}.nc')\n",
    "    \n",
    "    aice = mask_arctic_basin(file.A)\n",
    "    aice_mean += np.nanmean(aice, axis=(1,2)),\n",
    "    area_total += np.nansum(aice * dxu * dyu, axis=(1,2)) / 1e6, # in km2\n",
    "    \n",
    "    hice = mask_arctic_basin(file.H)\n",
    "    hice_mean += np.nanmean(hice, axis=(1,2)),\n",
    "    vol_total += np.nansum(hice * dxu * dyu, axis=(1,2)) / 1e12, # in 1000 km3 "
   ]
  },
  {
   "cell_type": "code",
   "execution_count": 7,
   "id": "d38b4a78-ea46-47b1-bca9-9d3a712ba0e4",
   "metadata": {},
   "outputs": [],
   "source": [
    "np.save(path_loc + f'ice_area_thickness_{res}.npy',\n",
    "        np.array([aice_mean, area_total, hice_mean, vol_total, years], dtype='object'))"
   ]
  },
  {
   "cell_type": "code",
   "execution_count": null,
   "id": "49d3cc41-8607-481a-a46b-3090965b50b6",
   "metadata": {},
   "outputs": [],
   "source": []
  }
 ],
 "metadata": {
  "kernelspec": {
   "display_name": "gaertner2_lkf_tools",
   "language": "python",
   "name": "gaertner2_lkf_tools"
  },
  "language_info": {
   "codemirror_mode": {
    "name": "ipython",
    "version": 3
   },
   "file_extension": ".py",
   "mimetype": "text/x-python",
   "name": "python",
   "nbconvert_exporter": "python",
   "pygments_lexer": "ipython3",
   "version": "3.10.4"
  }
 },
 "nbformat": 4,
 "nbformat_minor": 5
}
