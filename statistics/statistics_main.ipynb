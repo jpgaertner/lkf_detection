{
 "cells": [
  {
   "cell_type": "code",
   "execution_count": 1,
   "id": "6bfd4435-b057-4e57-8fd9-79d2b1a22b2b",
   "metadata": {
    "tags": []
   },
   "outputs": [],
   "source": [
    "%reload_ext autoreload\n",
    "%autoreload 2\n",
    "import sys\n",
    "sys.path.insert(1, '/home/a/a270230/LKF/lkf_detection/functions/')\n",
    "from statistics_functions import *\n",
    "sys.path.insert(1, '/home/a/a270230/LKF/lkf_tools/lkf_tools/')\n",
    "from dataset import *\n",
    "import numpy as np\n",
    "import pandas as pd\n",
    "import warnings\n",
    "warnings.filterwarnings('ignore')"
   ]
  },
  {
   "cell_type": "code",
   "execution_count": 2,
   "id": "003bd3b2-be25-4d15-82fc-df14f55debb7",
   "metadata": {
    "tags": []
   },
   "outputs": [],
   "source": [
    "res = '4km'\n",
    "\n",
    "path = '/work/bk1377/a270230/'\n",
    "path_stat = path + 'statistics/'\n",
    "path_ds = path + f'datasets/{res}/'"
   ]
  },
  {
   "cell_type": "code",
   "execution_count": 3,
   "id": "967d7769-5e2f-4482-993f-d2e5ffb4e6a2",
   "metadata": {
    "tags": []
   },
   "outputs": [],
   "source": [
    "# load mean ice concentration, total ice covered area, mean ice thickness,\n",
    "# and total ice volume for all years of the model run (1986 - 2100 for 4km,\n",
    "# 2013 - 2020 & 2093 - 2100 for 1km)\n",
    "a_mean, area_total, h_mean, ice_vol_total, years_all = np.load(\n",
    "    path_stat + f'a_mean_tot_h_mean_tot_{res}.npy', allow_pickle=True)\n",
    "\n",
    "# make an array of the right np.shape out of area_total\n",
    "arr = np.zeros((len(area_total),365))\n",
    "for year, area_total_year in enumerate(area_total):\n",
    "    arr[year,:] = area_total_year\n",
    "\n",
    "area_total = arr"
   ]
  },
  {
   "cell_type": "code",
   "execution_count": 4,
   "id": "62314143-0254-42d5-9a1a-cdeec82c1d71",
   "metadata": {
    "tags": []
   },
   "outputs": [],
   "source": [
    "# select the years you want to analyze\n",
    "years = [i for i in range(2013,2021)]\n",
    "years += [i for i in range(2093,2101)]\n",
    "\n",
    "inds = [np.where(years_all==year)[0][0] for year in years]\n",
    "area_total = area_total[inds]"
   ]
  },
  {
   "cell_type": "code",
   "execution_count": 5,
   "id": "3865eb46-ac14-4c2e-8148-8431f6375fa2",
   "metadata": {
    "tags": []
   },
   "outputs": [],
   "source": [
    "# load the data from the lkf_data files\n",
    "files = [path_ds + f'ds_{year}_{res}.npy' for year in years]\n",
    "datasets, lkfs = get_lkfs(files)\n",
    "\n",
    "# load tracks and paths (paths_all also includes the paths\n",
    "# that are going through each timestep)\n",
    "tracks = get_tracks(datasets)\n",
    "paths, paths_all = get_paths(lkfs, tracks)\n",
    "\n",
    "# calculate horizontal spatial resolution (same for all datasets/ years)\n",
    "res_km = get_res_km(datasets[0])\n",
    "\n",
    "np.save(path_stat + f'lkfs_paths_{res}.npy', np.array([years, lkfs, paths, paths_all], dtype='object'))"
   ]
  },
  {
   "cell_type": "code",
   "execution_count": 6,
   "id": "96eea6f3-71d0-4bba-a067-2b271b40d5c2",
   "metadata": {
    "tags": []
   },
   "outputs": [],
   "source": [
    "# calculate metrics\n",
    "n_lkfs = get_n_lkfs(lkfs)\n",
    "rho_lkfs = n_lkfs / area_total * 10000\n",
    "length, mean_length, total_length = get_lkf_length(lkfs, res_km)\n",
    "lifetimes, mean_lifetime = get_lkf_lifetimes(paths)\n",
    "# lifetimes_all includes the lifetimes of LKFs that are\n",
    "# already counted in previous timesteps\n",
    "lifetimes_all, _ = get_lkf_lifetimes(paths_all)"
   ]
  },
  {
   "cell_type": "code",
   "execution_count": 7,
   "id": "6e637fce",
   "metadata": {},
   "outputs": [],
   "source": [
    "# create lkf dictionary only if it does not already exist\n",
    "try: LKFs = np.load(path_stat + f'LKFs_{res}.npy', allow_pickle=True)[0]\n",
    "except: LKFs = dict()\n",
    "\n",
    "# calculate decadal mean and standart deviation of each lkf variable\n",
    "# and store it in the dictionary\n",
    "for ystart, yend in zip([2013, 2093], [2020, 2100]):\n",
    "    \n",
    "    df = pd.DataFrame()\n",
    "    df['number av'], df['number sd']               = av_sd(n_lkfs, ystart, yend, years)\n",
    "    df['density av'], df['density sd']             = av_sd(rho_lkfs, ystart, yend, years)\n",
    "    df['mean length av'], df['mean length sd']     = av_sd(mean_length, ystart, yend, years)\n",
    "    df['total length av'], df['total length sd']   = av_sd(total_length, ystart, yend, years)\n",
    "    df['mean lifetime av'], df['mean lifetime sd'] = av_sd(mean_lifetime, ystart, yend, years)\n",
    "\n",
    "    decade = f'{ystart} - {yend}'\n",
    "    LKFs[decade] = df\n",
    "\n",
    "# also store each lkf variable for each year (without averaging)\n",
    "for y, year in enumerate(years):\n",
    "    df_y = pd.DataFrame(n_lkfs[y], columns=['number'])\n",
    "    df_y['density']       = rho_lkfs[y]\n",
    "    df_y['mean length']   = mean_length[y]\n",
    "    df_y['total length']  = total_length[y]\n",
    "    df_y['mean lifetime'] = mean_lifetime[y]\n",
    "    \n",
    "    LKFs[f'y{year}'] = dict(\n",
    "        total = df_y,\n",
    "    )\n",
    "    \n",
    "    # store variables of individual lkfs\n",
    "    for d in range(365):\n",
    "        df_d = pd.DataFrame(length[y][d], columns=['length'])\n",
    "        df_d['lifetime'] = lifetimes_all[y][d]\n",
    "        \n",
    "        LKFs[f'y{year}'][f'd{d}'] = df_d\n",
    "        \n",
    "np.save(path_stat + f'LKFs_{res}', [LKFs])"
   ]
  },
  {
   "cell_type": "code",
   "execution_count": null,
   "id": "c89ba00f",
   "metadata": {},
   "outputs": [],
   "source": []
  }
 ],
 "metadata": {
  "kernelspec": {
   "display_name": "lkf_tools",
   "language": "python",
   "name": "lkf_tools"
  },
  "language_info": {
   "codemirror_mode": {
    "name": "ipython",
    "version": 3
   },
   "file_extension": ".py",
   "mimetype": "text/x-python",
   "name": "python",
   "nbconvert_exporter": "python",
   "pygments_lexer": "ipython3",
   "version": "3.12.2"
  }
 },
 "nbformat": 4,
 "nbformat_minor": 5
}
