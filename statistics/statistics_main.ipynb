{
 "cells": [
  {
   "cell_type": "code",
   "execution_count": 10,
   "id": "6bfd4435-b057-4e57-8fd9-79d2b1a22b2b",
   "metadata": {
    "tags": []
   },
   "outputs": [],
   "source": [
    "%reload_ext autoreload\n",
    "%autoreload 2\n",
    "import sys\n",
    "sys.path.insert(1, '/p/project/chhb19/gaertner2/lkf_detection/functions/')\n",
    "from statistics_functions import *\n",
    "sys.path.insert(1, '/p/project/chhb19/gaertner2/lkf_tools/lkf_tools/')\n",
    "from dataset import *\n",
    "import numpy as np\n",
    "import pandas as pd"
   ]
  },
  {
   "cell_type": "code",
   "execution_count": 2,
   "id": "003bd3b2-be25-4d15-82fc-df14f55debb7",
   "metadata": {
    "tags": []
   },
   "outputs": [],
   "source": [
    "path = '/p/project/chhb19/gaertner2/data/awicm_cvmix/'\n",
    "path_ds = path + 'datasets/'"
   ]
  },
  {
   "cell_type": "code",
   "execution_count": 3,
   "id": "967d7769-5e2f-4482-993f-d2e5ffb4e6a2",
   "metadata": {
    "tags": []
   },
   "outputs": [],
   "source": [
    "years_all = np.load(path + 'years_all.npy')\n",
    "a_mean, a_tot, h_mean, h_tot = np.load(path + 'a_mean_tot_h_mean_tot.npy')"
   ]
  },
  {
   "cell_type": "code",
   "execution_count": 4,
   "id": "62314143-0254-42d5-9a1a-cdeec82c1d71",
   "metadata": {
    "tags": []
   },
   "outputs": [],
   "source": [
    "years = [2013, 2017, 2020, 2093, 2097, 2100]"
   ]
  },
  {
   "cell_type": "code",
   "execution_count": 5,
   "id": "738701a9-20e4-4eb2-9afd-543e02033a7f",
   "metadata": {
    "tags": []
   },
   "outputs": [],
   "source": [
    "#years = [i for i in range(2093,2097)]\n",
    "\n",
    "inds = [np.where(years_all==year)[0][0] for year in years]\n",
    "a_tot_sel = a_tot[inds]\n",
    "files = [path_ds + f'ds_{year}.npy' for year in years]"
   ]
  },
  {
   "cell_type": "code",
   "execution_count": 6,
   "id": "3865eb46-ac14-4c2e-8148-8431f6375fa2",
   "metadata": {
    "tags": []
   },
   "outputs": [],
   "source": [
    "# load the data from the lkf_data files\n",
    "datasets, lkfs = get_lkfs(files)\n",
    "\n",
    "res_km = get_res_km(datasets[0])"
   ]
  },
  {
   "cell_type": "code",
   "execution_count": 7,
   "id": "96eea6f3-71d0-4bba-a067-2b271b40d5c2",
   "metadata": {
    "tags": []
   },
   "outputs": [
    {
     "name": "stderr",
     "output_type": "stream",
     "text": [
      "/tmp/ipykernel_23687/1523436045.py:9: RuntimeWarning: invalid value encountered in divide\n",
      "  rho_lkfs = n_lkfs / a_tot_sel * 10000\n",
      "/p/project/chhb19/gaertner2/jupyter/kernels/gaertner2_lkf_tools/lib/python3.10/site-packages/numpy/core/fromnumeric.py:3504: RuntimeWarning: Mean of empty slice.\n",
      "  return _methods._mean(a, axis=axis, dtype=dtype,\n",
      "/p/project/chhb19/gaertner2/jupyter/kernels/gaertner2_lkf_tools/lib/python3.10/site-packages/numpy/core/_methods.py:129: RuntimeWarning: invalid value encountered in scalar divide\n",
      "  ret = ret.dtype.type(ret / rcount)\n",
      "/p/project/chhb19/gaertner2/lkf_detection/functions/statistics_functions.py:210: RuntimeWarning: Mean of empty slice.\n",
      "  mean_lifetime_y += lifetimes_timestep.mean(),\n",
      "/p/project/chhb19/gaertner2/jupyter/kernels/gaertner2_lkf_tools/lib/python3.10/site-packages/numpy/core/_methods.py:131: RuntimeWarning: invalid value encountered in scalar divide\n",
      "  ret = ret / rcount\n"
     ]
    }
   ],
   "source": [
    "###### Calculate Metrics ######\n",
    "\n",
    "tracks = get_tracks(datasets)\n",
    "# paths_all also includes the paths going through each timestep\n",
    "paths, paths_all = get_paths(lkfs, tracks)\n",
    "\n",
    "\n",
    "n_lkfs = get_n_lkfs(lkfs)\n",
    "rho_lkfs = n_lkfs / a_tot_sel * 10000\n",
    "length, av_length, total_length = get_lkf_length(lkfs, res_km)\n",
    "lifetimes, mean_lifetime = get_lkf_lifetimes(paths)\n",
    "# lifetimes_all includes the lifetimes of LKFs that are\n",
    "# already counted in previous timesteps\n",
    "lifetimes_all, _ = get_lkf_lifetimes(paths_all)\n",
    "\n",
    "np.save(path + 'data_lkfs_paths.npy', np.array([years, lkfs, paths, paths_all], dtype='object'))"
   ]
  },
  {
   "cell_type": "code",
   "execution_count": 8,
   "id": "7d9fe236-b0d6-4d2f-9ec9-f82bbfa31f30",
   "metadata": {
    "tags": []
   },
   "outputs": [
    {
     "data": {
      "text/plain": [
       "[2013, 2017, 2020, 2093, 2097, 2100]"
      ]
     },
     "execution_count": 8,
     "metadata": {},
     "output_type": "execute_result"
    }
   ],
   "source": [
    "years"
   ]
  },
  {
   "cell_type": "code",
   "execution_count": 9,
   "id": "efe0efc6-239a-47bb-9006-2bbd77e2cb10",
   "metadata": {
    "tags": []
   },
   "outputs": [],
   "source": [
    "###### Create LKF Dictionary ######\n",
    "\n",
    "# i is the first index of years in the 2090s, used in the averaging function av_sd\n",
    "i = 3\n",
    "LKFs = dict()\n",
    "\n",
    "for decade, j in zip(['2010s', '2090s'], [[0,1], [2,3]]):\n",
    "\n",
    "    df = pd.DataFrame(av_sd(n_lkfs,i)[j[0]], columns=['number'])\n",
    "    df['number sd']        = av_sd(n_lkfs,i)[j[1]]\n",
    "    df['density']          = av_sd(rho_lkfs,i)[j[0]]\n",
    "    df['density sd']       = av_sd(rho_lkfs,i)[j[1]]\n",
    "    df['mean length']      = av_sd(av_length,i)[j[0]]\n",
    "    df['mean length sd']   = av_sd(av_length,i)[j[1]]\n",
    "    df['total length']     = av_sd(total_length,i)[j[0]]\n",
    "    df['total length sd']  = av_sd(total_length,i)[j[1]]\n",
    "    df['mean lifetime']    = av_sd(mean_lifetime,i)[j[0]]\n",
    "    df['mean lifetime sd'] = av_sd(mean_lifetime,i)[j[1]]\n",
    "\n",
    "    LKFs[decade] = df\n",
    "\n",
    "for y in range(len(years)):\n",
    "    df_y = pd.DataFrame(n_lkfs[y], columns=['number'])\n",
    "    df_y['density']       = rho_lkfs[y]\n",
    "    df_y['mean length']   = av_length[y]\n",
    "    df_y['total length']  = total_length[y]\n",
    "    df_y['mean lifetime'] = mean_lifetime[y]\n",
    "    \n",
    "    LKFs[f'y{years[y]}'] = dict(\n",
    "        total = df_y,\n",
    "    )\n",
    "    \n",
    "    for d in range(365):\n",
    "        df_d = pd.DataFrame(length[y][d], columns=['length'])\n",
    "        df_d['lifetime'] = lifetimes_all[y][d]\n",
    "        \n",
    "        LKFs[f'y{years[y]}'][f'd{d}'] = df_d\n",
    "        \n",
    "np.save(f'{path}LKFs', [LKFs])"
   ]
  },
  {
   "cell_type": "code",
   "execution_count": null,
   "id": "d1eb1668-a5fa-47e7-8844-283b483fef19",
   "metadata": {},
   "outputs": [],
   "source": []
  }
 ],
 "metadata": {
  "kernelspec": {
   "display_name": "gaertner2_lkf_tools",
   "language": "python",
   "name": "gaertner2_lkf_tools"
  },
  "language_info": {
   "codemirror_mode": {
    "name": "ipython",
    "version": 3
   },
   "file_extension": ".py",
   "mimetype": "text/x-python",
   "name": "python",
   "nbconvert_exporter": "python",
   "pygments_lexer": "ipython3",
   "version": "3.10.4"
  }
 },
 "nbformat": 4,
 "nbformat_minor": 5
}
