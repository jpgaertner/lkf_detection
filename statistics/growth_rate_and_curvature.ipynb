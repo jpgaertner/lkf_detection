{
 "cells": [
  {
   "cell_type": "code",
   "execution_count": 1,
   "id": "2bf5e106-153d-4309-a501-cd5dbed97ace",
   "metadata": {
    "tags": []
   },
   "outputs": [],
   "source": [
    "%reload_ext autoreload\n",
    "%autoreload 2\n",
    "import sys\n",
    "sys.path.insert(1, '/p/project/chhb19/gaertner2/lkf_detection/functions/')\n",
    "from statistics_functions import *\n",
    "import numpy as np\n",
    "import warnings\n",
    "warnings.filterwarnings('ignore')"
   ]
  },
  {
   "cell_type": "code",
   "execution_count": 2,
   "id": "196450c3-43af-4cf6-ad82-581a7478f776",
   "metadata": {
    "tags": []
   },
   "outputs": [],
   "source": [
    "path = '/p/project/chhb19/gaertner2/data/awicm_cvmix/'"
   ]
  },
  {
   "cell_type": "code",
   "execution_count": 3,
   "id": "bafacaee-52ca-450d-8258-777991f07923",
   "metadata": {
    "tags": []
   },
   "outputs": [],
   "source": [
    "[years, lkfs, paths, paths_all] = np.load(path + 'data_lkfs_paths.npy', allow_pickle=True)"
   ]
  },
  {
   "cell_type": "code",
   "execution_count": 4,
   "id": "d353373a-d2e6-4523-a07f-7eaa533dce97",
   "metadata": {
    "tags": []
   },
   "outputs": [],
   "source": [
    "LKFs = np.load(path + 'LKFs.npy', allow_pickle=True)[0]"
   ]
  },
  {
   "cell_type": "markdown",
   "id": "dea05b0f-e238-420b-a70c-fb4e288815a4",
   "metadata": {},
   "source": [
    "This is only the growth rate between two time steps of the tracked LKFs. It is not actually a good metric for the total LKF growth rate."
   ]
  },
  {
   "cell_type": "code",
   "execution_count": 5,
   "id": "301f4955-a24a-4276-96cb-e88376ff8cdd",
   "metadata": {
    "tags": []
   },
   "outputs": [],
   "source": [
    "for year in years:\n",
    "    \n",
    "    yr = np.where(years==year)[0][0]\n",
    "    for day in range(364):\n",
    "        \n",
    "        for i, lkf_path in enumerate(paths_all[yr][day]):\n",
    "            \n",
    "            if np.size(lkf_path)>1:\n",
    "                LKFs[f'y{year}'][f'd{day}'].loc[i, 'growth rate'] =        \\\n",
    "                      LKFs[f'y{year}'][f'd{day+1}'].loc[lkf_path[1], 'length'] \\\n",
    "                    - LKFs[f'y{year}'][f'd{day}'].loc[i, 'length']\n",
    "                \n",
    "        if 'growth rate' not in LKFs[f'y{year}'][f'd{day}'].keys():\n",
    "            LKFs[f'y{year}'][f'd{day}']['growth rate'] = np.nan\n",
    "    \n",
    "    LKFs[f'y{year}']['d364']['growth rate'] = np.nan"
   ]
  },
  {
   "cell_type": "code",
   "execution_count": 6,
   "id": "49b60946-e0f0-4a8e-83b4-978cf75a4372",
   "metadata": {
    "tags": []
   },
   "outputs": [],
   "source": [
    "for year in years:\n",
    "    total_growth_rate = []\n",
    "    for day in range(365):\n",
    "        total_growth_rate += np.nansum(LKFs[f'y{year}'][f'd{day}']['growth rate']),\n",
    "    LKFs[f'y{year}']['total']['total growth rate'] = total_growth_rate"
   ]
  },
  {
   "cell_type": "code",
   "execution_count": 7,
   "id": "9f8e25ae-ef76-4aa3-a539-9ffd939eb36f",
   "metadata": {
    "tags": []
   },
   "outputs": [],
   "source": [
    "total_growth_rate = []\n",
    "for year in years:\n",
    "    total_growth_rate += LKFs[f'y{year}']['total']['total growth rate'],"
   ]
  },
  {
   "cell_type": "code",
   "execution_count": 8,
   "id": "b2ae0716-b590-4313-aa5d-334235f74526",
   "metadata": {
    "tags": []
   },
   "outputs": [],
   "source": [
    "tmp = av_sd(total_growth_rate,i=3)\n",
    "LKFs['2010s']['total growth rate'] = tmp[0]\n",
    "LKFs['2010s']['total growth rate sd'] = tmp[1]\n",
    "LKFs['2090s']['total growth rate'] = tmp[2]\n",
    "LKFs['2090s']['total growth rate sd'] = tmp[3]"
   ]
  },
  {
   "cell_type": "code",
   "execution_count": 9,
   "id": "1a3fbe4f-81c5-4925-8320-c26e3435be8d",
   "metadata": {
    "tags": []
   },
   "outputs": [],
   "source": [
    "res_km = 4.337849218906646\n",
    "\n",
    "for year in years:\n",
    "    yr = np.where(years==year)[0][0]\n",
    "\n",
    "    for day in range(365):\n",
    "\n",
    "        curv = []\n",
    "        if (len(lkfs[yr][day])==0):\n",
    "            LKFs[f'y{year}'][f'd{day}']['curvature'] = np.nan\n",
    "        else:\n",
    "            for i, lkf in enumerate(lkfs[yr][day]):\n",
    "                start = np.array([lkf[0,0], lkf[0,1]], dtype='int')\n",
    "                end = np.array([lkf[-1,0], lkf[-1,1]], dtype='int')\n",
    "\n",
    "                distance = np.sqrt( (end-start)[0]**2 + (end-start)[1]**2 ) * res_km\n",
    "\n",
    "                LKFs[f'y{year}'][f'd{day}'].loc[i,'curvature'] = 1 - distance / LKFs[f'y{year}'][f'd{day}'].loc[i, 'length']"
   ]
  },
  {
   "cell_type": "code",
   "execution_count": 10,
   "id": "74bc0afa-918c-4df8-be91-3cf88059cec5",
   "metadata": {
    "tags": []
   },
   "outputs": [],
   "source": [
    "for year in years:\n",
    "    for day in range(365):\n",
    "        LKFs[f'y{year}']['total'].loc[day,'mean curvature'] = np.nanmean(LKFs[f'y{year}'][f'd{day}']['curvature'])"
   ]
  },
  {
   "cell_type": "code",
   "execution_count": 11,
   "id": "478b0ffb-808b-434d-9f3a-abe4c9583c65",
   "metadata": {
    "tags": []
   },
   "outputs": [],
   "source": [
    "i = 3\n",
    "LKFs['2010s']['curvature'] = np.mean([LKFs[f'y{year}']['total']['mean curvature'] for year in years[:i]],axis=0)\n",
    "LKFs['2010s']['curvature sd'] = np.sqrt(np.var([LKFs[f'y{year}']['total']['mean curvature'] for year in years[:i]],axis=0))\n",
    "LKFs['2090s']['curvature'] = np.mean([LKFs[f'y{year}']['total']['mean curvature'] for year in years[i:]],axis=0)\n",
    "LKFs['2090s']['curvature sd'] = np.sqrt(np.var([LKFs[f'y{year}']['total']['mean curvature'] for year in years[i:]],axis=0))"
   ]
  },
  {
   "cell_type": "code",
   "execution_count": 12,
   "id": "1d0fd931-a59b-47b0-9ca0-dcfd1d2e5e12",
   "metadata": {
    "tags": []
   },
   "outputs": [],
   "source": [
    "np.save(path + 'LKFs', [LKFs])"
   ]
  },
  {
   "cell_type": "code",
   "execution_count": null,
   "id": "df773402-462d-47c8-8004-9b096d8ea8e0",
   "metadata": {},
   "outputs": [],
   "source": []
  },
  {
   "cell_type": "code",
   "execution_count": null,
   "id": "e2beeb80-0fe1-4adb-9362-3e1b4f7060ad",
   "metadata": {},
   "outputs": [],
   "source": []
  }
 ],
 "metadata": {
  "kernelspec": {
   "display_name": "gaertner2_lkf_tools",
   "language": "python",
   "name": "gaertner2_lkf_tools"
  },
  "language_info": {
   "codemirror_mode": {
    "name": "ipython",
    "version": 3
   },
   "file_extension": ".py",
   "mimetype": "text/x-python",
   "name": "python",
   "nbconvert_exporter": "python",
   "pygments_lexer": "ipython3",
   "version": "3.10.4"
  }
 },
 "nbformat": 4,
 "nbformat_minor": 5
}
