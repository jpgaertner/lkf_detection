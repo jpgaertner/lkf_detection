{
 "cells": [
  {
   "cell_type": "code",
   "execution_count": 1,
   "id": "2bf5e106-153d-4309-a501-cd5dbed97ace",
   "metadata": {
    "tags": []
   },
   "outputs": [],
   "source": [
    "%reload_ext autoreload\n",
    "%autoreload 2\n",
    "import sys\n",
    "sys.path.insert(1, '../functions/')\n",
    "from statistics_functions import *\n",
    "import numpy as np\n",
    "import warnings\n",
    "warnings.filterwarnings('ignore')"
   ]
  },
  {
   "cell_type": "code",
   "execution_count": 2,
   "id": "332f6bdd",
   "metadata": {},
   "outputs": [],
   "source": [
    "res = '4km'\n",
    "\n",
    "path_stat = '/work/bk1377/a270230/statistics/'"
   ]
  },
  {
   "cell_type": "code",
   "execution_count": 3,
   "id": "196450c3-43af-4cf6-ad82-581a7478f776",
   "metadata": {
    "scrolled": true,
    "tags": []
   },
   "outputs": [],
   "source": [
    "# load the lkf data\n",
    "data = np.load(path_stat + f'lkfs_paths_{res}.npz', allow_pickle=True)\n",
    "years, lkfs, paths, paths_all = [data[key] for key in data.files]\n",
    "\n",
    "LKFs = np.load(path_stat + f'LKFs_{res}.npy', allow_pickle=True)[0]"
   ]
  },
  {
   "cell_type": "code",
   "execution_count": 4,
   "id": "301f4955-a24a-4276-96cb-e88376ff8cdd",
   "metadata": {
    "tags": []
   },
   "outputs": [],
   "source": [
    "# this is only the growth rate between two time steps of the tracked lkfs.\n",
    "# the growth rate of the individual lkfs is calculated first and then\n",
    "# summed up. it is not actually a good metric for the total lkfs growth rate\n",
    "for year in years:\n",
    "    \n",
    "    y = np.where(years==year)[0][0]\n",
    "    for d in range(364):\n",
    "        \n",
    "        for i, lkf_path in enumerate(paths_all[y][d]):\n",
    "            \n",
    "            if np.size(lkf_path)>1:\n",
    "                # if the lkf is tracked, set its growth rate to the difference\n",
    "                # in lkf length between current and next time step\n",
    "                LKFs[f'{year}'][f'{d+1}'].loc[i, 'growth rate'] =        \\\n",
    "                      LKFs[f'{year}'][f'{d+2}'].loc[lkf_path[1], 'length'] \\\n",
    "                    - LKFs[f'{year}'][f'{d+1}'].loc[i, 'length']\n",
    "        \n",
    "        # if the growth rate was not calculated (for untracked lkfs), set it to nan\n",
    "        if 'growth rate' not in LKFs[f'{year}'][f'{d+1}'].keys():\n",
    "            LKFs[f'{year}'][f'{d+1}']['growth rate'] = np.nan\n",
    "\n",
    "    # also set the last day to nan\n",
    "    LKFs[f'{year}']['365']['growth rate'] = np.nan\n",
    "    \n",
    "    # calculate the total growth rate by summing the growth rates of every tracked lkf\n",
    "    total_growth_rate_y = []\n",
    "    for d in range(365):\n",
    "        total_growth_rate_y += np.nansum(LKFs[f'{year}'][f'{d+1}']['growth rate']),\n",
    "    LKFs[f'{year}']['total']['total growth rate'] = total_growth_rate_y"
   ]
  },
  {
   "cell_type": "code",
   "execution_count": 5,
   "id": "9f8e25ae-ef76-4aa3-a539-9ffd939eb36f",
   "metadata": {
    "scrolled": true,
    "tags": []
   },
   "outputs": [],
   "source": [
    "# collect all total growth rates in a single array, then calculate the interannual\n",
    "# mean and standart deviation for the two time periods and write them into the dictionary\n",
    "total_growth_rate = []\n",
    "for year in years:\n",
    "    total_growth_rate += LKFs[f'{year}']['total']['total growth rate'],\n",
    "\n",
    "for ystart, yend in zip([2013, 2093], [2020, 2100]):\n",
    "    LKFs[f'{ystart} - {yend}']['total growth rate av'], LKFs[f'{ystart} - {yend}']['total growth rate sd'] = (\n",
    "        av_sd(total_growth_rate, ystart, yend, years)\n",
    "    )"
   ]
  },
  {
   "cell_type": "code",
   "execution_count": 6,
   "id": "1a3fbe4f-81c5-4925-8320-c26e3435be8d",
   "metadata": {
    "tags": []
   },
   "outputs": [],
   "source": [
    "# use already calculated resolutions (can be calculated either from the nc files like in\n",
    "# plot/area_thickness.ipynb, or from the lkf_data objects like in statistics_main.ipynb)\n",
    "if res == '4km': res_km = 4.337849218906646\n",
    "if res == '1km': res_km = 1.083648783567869\n",
    "\n",
    "# calculate the curvature of the lkfs according to\n",
    "# curvature = 1 - distance_between_start_and_end_of_lkf / length_of_lkf\n",
    "# a curvature of 0 thus corresponds to a straigth line\n",
    "for year in years:\n",
    "    y = np.where(years==year)[0][0]\n",
    "\n",
    "    for d in range(365):\n",
    "\n",
    "        curv = []\n",
    "        if (len(lkfs[y][d])==0):\n",
    "            # if no lkfs are detected for the current day, set it to nan\n",
    "            LKFs[f'{year}'][f'{d+1}']['curvature'] = np.nan\n",
    "        else:\n",
    "            # calculate the curvature for the individual lkfs\n",
    "            for i, lkf in enumerate(lkfs[y][d]):\n",
    "                start = np.array([lkf[0,0], lkf[0,1]], dtype='int')\n",
    "                end = np.array([lkf[-1,0], lkf[-1,1]], dtype='int')\n",
    "\n",
    "                distance = np.sqrt( (end-start)[0]**2 + (end-start)[1]**2 ) * res_km\n",
    "\n",
    "                LKFs[f'{year}'][f'{d+1}'].loc[i,'curvature'] = 1 - distance / LKFs[f'{year}'][f'{d+1}'].loc[i, 'length']"
   ]
  },
  {
   "cell_type": "code",
   "execution_count": 7,
   "id": "74bc0afa-918c-4df8-be91-3cf88059cec5",
   "metadata": {
    "scrolled": true,
    "tags": []
   },
   "outputs": [],
   "source": [
    "# calculate the mean curvature for each day\n",
    "for year in years:\n",
    "    for d in range(365):\n",
    "        LKFs[f'{year}']['total'].loc[d+1,'mean curvature'] = np.nanmean(LKFs[f'{year}'][f'{d+1}']['curvature'])\n",
    "\n",
    "# collect all mean curvatures in a single array, then calculate the interannual\n",
    "# mean and standart deviation for the two time periods and write them into the dictionary\n",
    "mean_curvature = []\n",
    "for year in years:\n",
    "    mean_curvature += LKFs[f'{year}']['total']['mean curvature'],\n",
    "\n",
    "for ystart, yend in zip([2013, 2093], [2020, 2100]):\n",
    "    LKFs[f'{ystart} - {yend}']['mean curvature av'], LKFs[f'{ystart} - {yend}']['mean curvature sd'] = (\n",
    "        av_sd(mean_curvature, ystart, yend, years)\n",
    "    )"
   ]
  },
  {
   "cell_type": "code",
   "execution_count": 8,
   "id": "9ce3b70f",
   "metadata": {},
   "outputs": [],
   "source": [
    "np.save(path_stat + f'LKFs_{res}', [LKFs])"
   ]
  },
  {
   "cell_type": "code",
   "execution_count": null,
   "id": "7d38febb",
   "metadata": {},
   "outputs": [],
   "source": []
  }
 ],
 "metadata": {
  "kernelspec": {
   "display_name": "lkf_tools",
   "language": "python",
   "name": "lkf_tools"
  },
  "language_info": {
   "codemirror_mode": {
    "name": "ipython",
    "version": 3
   },
   "file_extension": ".py",
   "mimetype": "text/x-python",
   "name": "python",
   "nbconvert_exporter": "python",
   "pygments_lexer": "ipython3",
   "version": "3.12.2"
  }
 },
 "nbformat": 4,
 "nbformat_minor": 5
}
