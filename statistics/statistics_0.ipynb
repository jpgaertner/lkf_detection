{
 "cells": [
  {
   "cell_type": "code",
   "execution_count": 1,
   "id": "ec2b40e2-d94e-406e-899f-6ff3dfba05fb",
   "metadata": {
    "tags": []
   },
   "outputs": [],
   "source": [
    "%reload_ext autoreload\n",
    "%autoreload 2\n",
    "import sys\n",
    "sys.path.insert(1, '../functions/')\n",
    "from statistics_functions import *\n",
    "import os\n",
    "import numpy as np\n",
    "import xarray as xr\n",
    "import pandas as pd\n",
    "import matplotlib.pyplot as plt\n",
    "plt.rcParams.update({'font.size': 14})\n",
    "import cartopy.crs as ccrs\n",
    "import cartopy"
   ]
  },
  {
   "cell_type": "code",
   "execution_count": 2,
   "id": "7c024437-94c8-4e88-ae75-13f32f2a732e",
   "metadata": {
    "tags": []
   },
   "outputs": [],
   "source": [
    "base_path  = '/work/bk1377/a270230/'\n",
    "path_ds    = base_path + 'lkf_datasets/weekly_data/'\n",
    "path_ice   = base_path + 'interpolated_fesom_output/'"
   ]
  },
  {
   "cell_type": "code",
   "execution_count": 3,
   "id": "fcdf7a8b-ea5a-4603-8ddf-9683eed10c9f",
   "metadata": {
    "tags": []
   },
   "outputs": [],
   "source": [
    "files = os.listdir(path_ds)\n",
    "files.sort()\n",
    "files.remove('.ipynb_checkpoints')\n",
    "#files"
   ]
  },
  {
   "cell_type": "markdown",
   "id": "0fecafc2-21db-41b6-a5c6-aec0063dadfc",
   "metadata": {},
   "source": [
    "# Analyzing the Weekly Data, Comparing different DoG Thresholds"
   ]
  },
  {
   "cell_type": "code",
   "execution_count": null,
   "id": "0cc83153-eeab-4e94-a62d-ac7ed2b828f1",
   "metadata": {},
   "outputs": [],
   "source": [
    "datasets, lkfs = get_lkf_data(path_ds, years)"
   ]
  },
  {
   "cell_type": "code",
   "execution_count": 4,
   "id": "236d3a99-4c0f-4be9-91e8-00d3968f8e3e",
   "metadata": {
    "tags": []
   },
   "outputs": [
    {
     "ename": "NameError",
     "evalue": "name 'get_lkfs' is not defined",
     "output_type": "error",
     "traceback": [
      "\u001b[0;31m---------------------------------------------------------------------------\u001b[0m",
      "\u001b[0;31mNameError\u001b[0m                                 Traceback (most recent call last)",
      "Cell \u001b[0;32mIn[4], line 14\u001b[0m\n\u001b[1;32m     12\u001b[0m lkfs \u001b[38;5;241m=\u001b[39m []\n\u001b[1;32m     13\u001b[0m \u001b[38;5;28;01mfor\u001b[39;00m lkf_data \u001b[38;5;129;01min\u001b[39;00m datasets:\n\u001b[0;32m---> 14\u001b[0m     lkfs \u001b[38;5;241m+\u001b[39m\u001b[38;5;241m=\u001b[39m \u001b[43mget_lkfs\u001b[49m(lkf_data),\n\u001b[1;32m     16\u001b[0m \u001b[38;5;66;03m# calculate the total ice area (in km2) at every time step\u001b[39;00m\n\u001b[1;32m     17\u001b[0m ice_coverage, ice_coverage_weekly \u001b[38;5;241m=\u001b[39m get_ice_coverage(years, path_ice)\n",
      "\u001b[0;31mNameError\u001b[0m: name 'get_lkfs' is not defined"
     ]
    }
   ],
   "source": [
    "years, dogs = [], []\n",
    "for file in files:\n",
    "    years += file.split('_')[1].split('.')[0],\n",
    "    dogs  += file.split('_')[2][1:-4],\n",
    "    \n",
    "# get the lkf_data objects\n",
    "datasets = []\n",
    "for file in files:\n",
    "    datasets += np.load(path_ds + file, allow_pickle=True)[0],\n",
    "    \n",
    "# get the lkf data in arrays for every timestep\n",
    "lkfs = []\n",
    "for lkf_data in datasets:\n",
    "    lkfs += get_lkfs(lkf_data),\n",
    "    \n",
    "# calculate the total ice area (in km2) at every time step\n",
    "ice_coverage, ice_coverage_weekly = get_ice_coverage(years, path_ice)\n",
    "\n",
    "# get the number of lkfs at each timestep\n",
    "n_lkfs = []\n",
    "for lkfs_dataset in lkfs:\n",
    "    n_lkfs += get_n_lkfs(lkfs_dataset),\n",
    "    \n",
    "# get the number of lkfs per ice covered area at every timestep\n",
    "rho_lkfs = [[] for _ in dogs]\n",
    "for year in range(len(dogs)):\n",
    "    rho_lkfs[year] = np.array(n_lkfs[year]) / np.array(ice_coverage_weekly[year])"
   ]
  },
  {
   "cell_type": "code",
   "execution_count": null,
   "id": "ff1addc3-7bc5-477a-aa36-f8272e1d3b75",
   "metadata": {
    "tags": []
   },
   "outputs": [],
   "source": [
    "fig, axs = plt.subplots(1,2, figsize=(11,4))\n",
    "\n",
    "for ax, data, ylabel in zip(\n",
    "    axs, [n_lkfs, rho_lkfs], ['no. LKFs', 'no. LKFs /100000km$^2$']\n",
    "):\n",
    "    for dog, data_i in zip(dogs, data):\n",
    "        ax.plot(data_i, label=dog)\n",
    "    ax.set_ylabel(ylabel)\n",
    "    ax.set_xlabel('time /weeks')\n",
    "    ax.grid()\n",
    "axs[1].legend(bbox_to_anchor=(1,1))\n",
    "\n",
    "fig.tight_layout()"
   ]
  },
  {
   "cell_type": "code",
   "execution_count": null,
   "id": "976e3f8e-66f9-4e97-a228-0d0961af096d",
   "metadata": {
    "tags": []
   },
   "outputs": [],
   "source": [
    "# get the length of every LKF as well as the average\n",
    "# LKF length in pixels at every timestep\n",
    "lkf_len, av_lkf_len, total_lkf_len = [], [], []\n",
    "for lkfs_dataset in lkfs:\n",
    "    a, b, c = get_lkf_len(lkfs_dataset)\n",
    "    lkf_len       += a,\n",
    "    av_lkf_len    += b,\n",
    "    total_lkf_len += c,"
   ]
  },
  {
   "cell_type": "code",
   "execution_count": null,
   "id": "9882bbc2-ec6a-4185-9054-95a26a074a15",
   "metadata": {
    "tags": []
   },
   "outputs": [],
   "source": [
    "dogs"
   ]
  },
  {
   "cell_type": "code",
   "execution_count": null,
   "id": "1092e17d-9412-42fb-9521-6763588d70b5",
   "metadata": {
    "tags": []
   },
   "outputs": [],
   "source": [
    "i = 0\n",
    "j = 1\n",
    "d = 365\n",
    "\n",
    "fig, axs = plt.subplots(1,2, figsize=(11,4))\n",
    "\n",
    "for ax, data, mean, title in zip(\n",
    "    axs, [lkf_len[i][:d], lkf_len[j][:d]], [av_lkf_len[i][:d], av_lkf_len[j][:d]], [dogs[i], dogs[j]]\n",
    "):\n",
    "\n",
    "    for timestep, lkf_len_timestep in enumerate(data):\n",
    "\n",
    "        try:\n",
    "            frequency = np.zeros(int(np.max(lkf_len_timestep)+1))\n",
    "            for lkf_len_i in lkf_len_timestep:\n",
    "                frequency[lkf_len_i] += 1\n",
    "\n",
    "            f_norm = frequency/frequency.max()\n",
    "        except:\n",
    "            f_norm = 0\n",
    "\n",
    "        ax.scatter(timestep * np.ones_like(lkf_len_timestep), lkf_len_timestep, s=5, c='k', alpha=f_norm)\n",
    "\n",
    "    ax.plot(mean, 'b')\n",
    "    ax.grid()\n",
    "    ax.set_xlabel('time /weeks')\n",
    "    ax.set_ylabel('LKF length /km')\n",
    "    ax.set_ylim([0,2500])\n",
    "    ax.set_title('dog = ' + title)\n",
    "\n",
    "fig.tight_layout()"
   ]
  },
  {
   "cell_type": "code",
   "execution_count": null,
   "id": "68f17005-7ef8-4260-980e-b1ab4f3d5ae9",
   "metadata": {
    "tags": []
   },
   "outputs": [],
   "source": [
    "plt.figure(figsize=(5,4))\n",
    "for dog, lkf_len in zip(dogs, av_lkf_len):\n",
    "    plt.plot(lkf_len, label=dog)\n",
    "    \n",
    "plt.grid()\n",
    "plt.ylim([0,300])\n",
    "plt.xlabel('time/ weeks')\n",
    "plt.ylabel('Mean LKFs length /km')\n",
    "plt.legend(bbox_to_anchor=(1,1))"
   ]
  },
  {
   "cell_type": "markdown",
   "id": "cbb095fd-8179-4aec-af50-f41932a4dd4e",
   "metadata": {},
   "source": [
    "# "
   ]
  },
  {
   "cell_type": "code",
   "execution_count": null,
   "id": "f0832553-53d1-4a97-aa11-7d7e20abb4b5",
   "metadata": {},
   "outputs": [],
   "source": []
  },
  {
   "cell_type": "code",
   "execution_count": null,
   "id": "c9357fd6-d454-4f3a-944d-eec66ceb27ab",
   "metadata": {},
   "outputs": [],
   "source": []
  }
 ],
 "metadata": {
  "kernelspec": {
   "display_name": "lkf_tools",
   "language": "python",
   "name": "lkf_tools"
  },
  "language_info": {
   "codemirror_mode": {
    "name": "ipython",
    "version": 3
   },
   "file_extension": ".py",
   "mimetype": "text/x-python",
   "name": "python",
   "nbconvert_exporter": "python",
   "pygments_lexer": "ipython3",
   "version": "3.12.2"
  }
 },
 "nbformat": 4,
 "nbformat_minor": 5
}
