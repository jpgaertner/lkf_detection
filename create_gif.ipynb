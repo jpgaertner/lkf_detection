{
 "cells": [
  {
   "cell_type": "code",
   "execution_count": 3,
   "id": "6a12e59b-9d2f-41e3-acff-9c5fe8ae3395",
   "metadata": {
    "tags": []
   },
   "outputs": [],
   "source": [
    "%reload_ext autoreload\n",
    "%autoreload 2\n",
    "\n",
    "from lkf_tools.dataset import *\n",
    "import dill\n",
    "import matplotlib.pyplot as plt\n",
    "from datetime import datetime"
   ]
  },
  {
   "cell_type": "code",
   "execution_count": 4,
   "id": "404c9a14-7f33-4fa3-a36e-9cb4cbeb079a",
   "metadata": {
    "tags": []
   },
   "outputs": [],
   "source": [
    "path = \"data/lkf_datasets/\"\n",
    "lkfs_f_1950 = dill.load(open(path + \"ice_fesom_1950.pickle\", \"rb\"))\n",
    "lkfs_f_1951 = dill.load(open(path + \"ice_fesom_1951.pickle\", \"rb\"))\n",
    "lkfs_f_1952 = dill.load(open(path + \"ice_fesom_1952.pickle\", \"rb\"))\n",
    "lkfs_f_1953 = dill.load(open(path + \"ice_fesom_1953.pickle\", \"rb\"))\n",
    "lkfs_f_1954 = dill.load(open(path + \"ice_fesom_1954.pickle\", \"rb\"))\n",
    "lkfs_f_1955 = dill.load(open(path + \"ice_fesom_1955.pickle\", \"rb\"))\n",
    "lkfs_f_1956 = dill.load(open(path + \"ice_fesom_1956.pickle\", \"rb\"))"
   ]
  },
  {
   "cell_type": "code",
   "execution_count": 5,
   "id": "4874da60-fe49-4b26-9615-1ed69f2194a9",
   "metadata": {
    "tags": []
   },
   "outputs": [],
   "source": [
    "lkf_data = lkfs_f_1956\n",
    "year = 1956"
   ]
  },
  {
   "cell_type": "code",
   "execution_count": 4,
   "id": "9db543cc-b47f-4269-b6dc-9963aafacab2",
   "metadata": {
    "tags": []
   },
   "outputs": [],
   "source": [
    "for i in range(len(lkf_data.indexes)):\n",
    "    import matplotlib.pyplot as plt\n",
    "    import cartopy.crs as ccrs\n",
    "\n",
    "    fig = plt.figure(figsize=[16, 8])\n",
    "\n",
    "    ax = plt.subplot(1, 1, 1, projection=ccrs.Orthographic(0, 90))\n",
    "\n",
    "    ax.coastlines(zorder=3)\n",
    "\n",
    "    it = lkf_data.indexes[i]\n",
    "\n",
    "    pcm = ax.pcolormesh(lkf_data.lon[max([0,lkf_data.index_y[0][0]-1]):lkf_data.index_y[0][-1]+2:lkf_data.red_fac,\n",
    "                           max([0,lkf_data.index_x[0][0]-1]):lkf_data.index_x[0][-1]+2:lkf_data.red_fac],\n",
    "                  lkf_data.lat[max([0,lkf_data.index_y[0][0]-1]):lkf_data.index_y[0][-1]+2:lkf_data.red_fac,\n",
    "                           max([0,lkf_data.index_x[0][0]-1]):lkf_data.index_x[0][-1]+2:lkf_data.red_fac],\n",
    "                  lkf_data.calc_eps_tot(it),transform=ccrs.PlateCarree(),vmin=0,vmax=0.4)\n",
    "\n",
    "    lkfs = np.load(lkf_data.lkfpath.joinpath('lkf_%s_%03i.npy' %(lkf_data.netcdf_file.split('/')[-1].split('.')[0],(it+1))),allow_pickle=True)\n",
    "\n",
    "    for ilkf in lkfs:\n",
    "        if np.min(ilkf[:,2])<-150 and np.max(ilkf[:,2]>150):\n",
    "            ilkf[ilkf[:,2]<0,2]+=360\n",
    "        ax.plot(ilkf[:,2],ilkf[:,3],transform=ccrs.PlateCarree())\n",
    "        \n",
    "    day = str(lkf_data.indexes[i]+1)\n",
    "    day.rjust(3 + len(day), '0')\n",
    "    year = f\"{year}\"\n",
    "    res = datetime.strptime(year + \"-\" + day, \"%Y-%j\").strftime(\"%m-%d-%Y\")\n",
    "        \n",
    "    ax.text(0.03, 0.97, f'{res}', transform=ax.transAxes, fontsize=14,\n",
    "        verticalalignment='top')\n",
    "\n",
    "    #plt.rcParams.update({'font.size': 14})\n",
    "    #plt.colorbar(pcm,label='deformation rate/ day$^-1$', location='bottom', shrink=0.5, pad=0.02)\n",
    "    plt.savefig(f'imgs/fesom/{year}/{i}.png',dpi=200,bbox_inches='tight')\n",
    "    plt.close(fig)"
   ]
  },
  {
   "cell_type": "code",
   "execution_count": 5,
   "id": "8d2db40b-c5ac-4a93-bca6-8baa4bb70640",
   "metadata": {
    "tags": []
   },
   "outputs": [],
   "source": [
    "import glob\n",
    "from PIL import Image\n",
    "def make_gif(frame_folder):\n",
    "    frames = []\n",
    "    for i in range(len(lkf_data.indexes)):\n",
    "        frames.append(Image.open(frame_folder + f'/{i}.png'))\n",
    "    frame_one = frames[0]\n",
    "\n",
    "    frame_one.save(f\"gifs/f_{year}.gif\", format=\"GIF\", append_images=frames,\n",
    "                       save_all=True, duration=250, loop=1)\n",
    "\n",
    "if __name__ == \"__main__\":\n",
    "    make_gif(f\"imgs/fesom/{year}\")"
   ]
  },
  {
   "cell_type": "code",
   "execution_count": null,
   "id": "927619d0-6577-4894-972b-1398d6317a4c",
   "metadata": {},
   "outputs": [],
   "source": []
  }
 ],
 "metadata": {
  "kernelspec": {
   "display_name": "lkf_tools",
   "language": "python",
   "name": "lkf_tools"
  },
  "language_info": {
   "codemirror_mode": {
    "name": "ipython",
    "version": 3
   },
   "file_extension": ".py",
   "mimetype": "text/x-python",
   "name": "python",
   "nbconvert_exporter": "python",
   "pygments_lexer": "ipython3",
   "version": "3.11.4"
  }
 },
 "nbformat": 4,
 "nbformat_minor": 5
}
